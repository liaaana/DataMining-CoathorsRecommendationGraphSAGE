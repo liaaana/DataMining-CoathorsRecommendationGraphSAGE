{
 "cells": [
  {
   "cell_type": "markdown",
   "metadata": {},
   "source": [
    "# 1. Data Understanding\n",
    "\n",
    "#### 🐢 Team: Terraria"
   ]
  },
  {
   "cell_type": "markdown",
   "metadata": {},
   "source": [
    "## Initial Data Collection"
   ]
  },
  {
   "cell_type": "markdown",
   "metadata": {},
   "source": [
    "The dataset is represented in JSON format."
   ]
  },
  {
   "cell_type": "code",
   "execution_count": 1,
   "metadata": {
    "execution": {
     "iopub.execute_input": "2025-05-10T20:17:14.027673Z",
     "iopub.status.busy": "2025-05-10T20:17:14.027437Z",
     "iopub.status.idle": "2025-05-10T20:17:16.054082Z",
     "shell.execute_reply": "2025-05-10T20:17:16.053287Z",
     "shell.execute_reply.started": "2025-05-10T20:17:14.027655Z"
    },
    "trusted": true
   },
   "outputs": [],
   "source": [
    "import json\n",
    "import pandas as pd\n",
    "import matplotlib.pyplot as plt\n",
    "import seaborn as sns\n",
    "import requests\n",
    "from bs4 import BeautifulSoup"
   ]
  },
  {
   "cell_type": "code",
   "execution_count": 2,
   "metadata": {
    "execution": {
     "iopub.execute_input": "2025-05-10T20:17:16.055850Z",
     "iopub.status.busy": "2025-05-10T20:17:16.055374Z",
     "iopub.status.idle": "2025-05-10T20:17:16.061374Z",
     "shell.execute_reply": "2025-05-10T20:17:16.060651Z",
     "shell.execute_reply.started": "2025-05-10T20:17:16.055831Z"
    },
    "trusted": true
   },
   "outputs": [],
   "source": [
    "def load_dataset(filepath, limit=None):\n",
    "    reсords_list = []\n",
    "    with open(filepath, \"r\") as f:\n",
    "        for i, line in enumerate(f):\n",
    "            if limit and i >= limit:\n",
    "                break\n",
    "            record = json.loads(line)\n",
    "            reсords_list.append(record)\n",
    "    return reсords_list"
   ]
  },
  {
   "cell_type": "code",
   "execution_count": 3,
   "metadata": {
    "execution": {
     "iopub.execute_input": "2025-05-10T20:17:16.062405Z",
     "iopub.status.busy": "2025-05-10T20:17:16.062166Z",
     "iopub.status.idle": "2025-05-10T20:19:01.437453Z",
     "shell.execute_reply": "2025-05-10T20:19:01.436696Z",
     "shell.execute_reply.started": "2025-05-10T20:17:16.062383Z"
    },
    "trusted": true
   },
   "outputs": [
    {
     "name": "stdout",
     "output_type": "stream",
     "text": [
      "Number of loaded records: 2725401\n"
     ]
    }
   ],
   "source": [
    "path_to_file = \"/kaggle/input/arxiv/arxiv-metadata-oai-snapshot.json\"\n",
    "dataset = load_dataset(path_to_file)\n",
    "print(f\"Number of loaded records: {len(dataset)}\")"
   ]
  },
  {
   "cell_type": "code",
   "execution_count": 4,
   "metadata": {
    "execution": {
     "iopub.execute_input": "2025-05-10T20:19:01.439704Z",
     "iopub.status.busy": "2025-05-10T20:19:01.439297Z",
     "iopub.status.idle": "2025-05-10T20:19:08.824709Z",
     "shell.execute_reply": "2025-05-10T20:19:08.823982Z",
     "shell.execute_reply.started": "2025-05-10T20:19:01.439684Z"
    },
    "trusted": true
   },
   "outputs": [
    {
     "data": {
      "text/html": [
       "<div>\n",
       "<style scoped>\n",
       "    .dataframe tbody tr th:only-of-type {\n",
       "        vertical-align: middle;\n",
       "    }\n",
       "\n",
       "    .dataframe tbody tr th {\n",
       "        vertical-align: top;\n",
       "    }\n",
       "\n",
       "    .dataframe thead th {\n",
       "        text-align: right;\n",
       "    }\n",
       "</style>\n",
       "<table border=\"1\" class=\"dataframe\">\n",
       "  <thead>\n",
       "    <tr style=\"text-align: right;\">\n",
       "      <th></th>\n",
       "      <th>id</th>\n",
       "      <th>submitter</th>\n",
       "      <th>authors</th>\n",
       "      <th>title</th>\n",
       "      <th>comments</th>\n",
       "      <th>journal-ref</th>\n",
       "      <th>doi</th>\n",
       "      <th>report-no</th>\n",
       "      <th>categories</th>\n",
       "      <th>license</th>\n",
       "      <th>abstract</th>\n",
       "      <th>versions</th>\n",
       "      <th>update_date</th>\n",
       "      <th>authors_parsed</th>\n",
       "    </tr>\n",
       "  </thead>\n",
       "  <tbody>\n",
       "    <tr>\n",
       "      <th>0</th>\n",
       "      <td>0704.0001</td>\n",
       "      <td>Pavel Nadolsky</td>\n",
       "      <td>C. Bal\\'azs, E. L. Berger, P. M. Nadolsky, C.-...</td>\n",
       "      <td>Calculation of prompt diphoton production cros...</td>\n",
       "      <td>37 pages, 15 figures; published version</td>\n",
       "      <td>Phys.Rev.D76:013009,2007</td>\n",
       "      <td>10.1103/PhysRevD.76.013009</td>\n",
       "      <td>ANL-HEP-PR-07-12</td>\n",
       "      <td>hep-ph</td>\n",
       "      <td>None</td>\n",
       "      <td>A fully differential calculation in perturba...</td>\n",
       "      <td>[{'version': 'v1', 'created': 'Mon, 2 Apr 2007...</td>\n",
       "      <td>2008-11-26</td>\n",
       "      <td>[[Balázs, C., ], [Berger, E. L., ], [Nadolsky,...</td>\n",
       "    </tr>\n",
       "    <tr>\n",
       "      <th>1</th>\n",
       "      <td>0704.0002</td>\n",
       "      <td>Louis Theran</td>\n",
       "      <td>Ileana Streinu and Louis Theran</td>\n",
       "      <td>Sparsity-certifying Graph Decompositions</td>\n",
       "      <td>To appear in Graphs and Combinatorics</td>\n",
       "      <td>None</td>\n",
       "      <td>None</td>\n",
       "      <td>None</td>\n",
       "      <td>math.CO cs.CG</td>\n",
       "      <td>http://arxiv.org/licenses/nonexclusive-distrib...</td>\n",
       "      <td>We describe a new algorithm, the $(k,\\ell)$-...</td>\n",
       "      <td>[{'version': 'v1', 'created': 'Sat, 31 Mar 200...</td>\n",
       "      <td>2008-12-13</td>\n",
       "      <td>[[Streinu, Ileana, ], [Theran, Louis, ]]</td>\n",
       "    </tr>\n",
       "    <tr>\n",
       "      <th>2</th>\n",
       "      <td>0704.0003</td>\n",
       "      <td>Hongjun Pan</td>\n",
       "      <td>Hongjun Pan</td>\n",
       "      <td>The evolution of the Earth-Moon system based o...</td>\n",
       "      <td>23 pages, 3 figures</td>\n",
       "      <td>None</td>\n",
       "      <td>None</td>\n",
       "      <td>None</td>\n",
       "      <td>physics.gen-ph</td>\n",
       "      <td>None</td>\n",
       "      <td>The evolution of Earth-Moon system is descri...</td>\n",
       "      <td>[{'version': 'v1', 'created': 'Sun, 1 Apr 2007...</td>\n",
       "      <td>2008-01-13</td>\n",
       "      <td>[[Pan, Hongjun, ]]</td>\n",
       "    </tr>\n",
       "    <tr>\n",
       "      <th>3</th>\n",
       "      <td>0704.0004</td>\n",
       "      <td>David Callan</td>\n",
       "      <td>David Callan</td>\n",
       "      <td>A determinant of Stirling cycle numbers counts...</td>\n",
       "      <td>11 pages</td>\n",
       "      <td>None</td>\n",
       "      <td>None</td>\n",
       "      <td>None</td>\n",
       "      <td>math.CO</td>\n",
       "      <td>None</td>\n",
       "      <td>We show that a determinant of Stirling cycle...</td>\n",
       "      <td>[{'version': 'v1', 'created': 'Sat, 31 Mar 200...</td>\n",
       "      <td>2007-05-23</td>\n",
       "      <td>[[Callan, David, ]]</td>\n",
       "    </tr>\n",
       "    <tr>\n",
       "      <th>4</th>\n",
       "      <td>0704.0005</td>\n",
       "      <td>Alberto Torchinsky</td>\n",
       "      <td>Wael Abu-Shammala and Alberto Torchinsky</td>\n",
       "      <td>From dyadic $\\Lambda_{\\alpha}$ to $\\Lambda_{\\a...</td>\n",
       "      <td>None</td>\n",
       "      <td>Illinois J. Math. 52 (2008) no.2, 681-689</td>\n",
       "      <td>None</td>\n",
       "      <td>None</td>\n",
       "      <td>math.CA math.FA</td>\n",
       "      <td>None</td>\n",
       "      <td>In this paper we show how to compute the $\\L...</td>\n",
       "      <td>[{'version': 'v1', 'created': 'Mon, 2 Apr 2007...</td>\n",
       "      <td>2013-10-15</td>\n",
       "      <td>[[Abu-Shammala, Wael, ], [Torchinsky, Alberto, ]]</td>\n",
       "    </tr>\n",
       "  </tbody>\n",
       "</table>\n",
       "</div>"
      ],
      "text/plain": [
       "          id           submitter  \\\n",
       "0  0704.0001      Pavel Nadolsky   \n",
       "1  0704.0002        Louis Theran   \n",
       "2  0704.0003         Hongjun Pan   \n",
       "3  0704.0004        David Callan   \n",
       "4  0704.0005  Alberto Torchinsky   \n",
       "\n",
       "                                             authors  \\\n",
       "0  C. Bal\\'azs, E. L. Berger, P. M. Nadolsky, C.-...   \n",
       "1                    Ileana Streinu and Louis Theran   \n",
       "2                                        Hongjun Pan   \n",
       "3                                       David Callan   \n",
       "4           Wael Abu-Shammala and Alberto Torchinsky   \n",
       "\n",
       "                                               title  \\\n",
       "0  Calculation of prompt diphoton production cros...   \n",
       "1           Sparsity-certifying Graph Decompositions   \n",
       "2  The evolution of the Earth-Moon system based o...   \n",
       "3  A determinant of Stirling cycle numbers counts...   \n",
       "4  From dyadic $\\Lambda_{\\alpha}$ to $\\Lambda_{\\a...   \n",
       "\n",
       "                                  comments  \\\n",
       "0  37 pages, 15 figures; published version   \n",
       "1    To appear in Graphs and Combinatorics   \n",
       "2                      23 pages, 3 figures   \n",
       "3                                 11 pages   \n",
       "4                                     None   \n",
       "\n",
       "                                 journal-ref                         doi  \\\n",
       "0                   Phys.Rev.D76:013009,2007  10.1103/PhysRevD.76.013009   \n",
       "1                                       None                        None   \n",
       "2                                       None                        None   \n",
       "3                                       None                        None   \n",
       "4  Illinois J. Math. 52 (2008) no.2, 681-689                        None   \n",
       "\n",
       "          report-no       categories  \\\n",
       "0  ANL-HEP-PR-07-12           hep-ph   \n",
       "1              None    math.CO cs.CG   \n",
       "2              None   physics.gen-ph   \n",
       "3              None          math.CO   \n",
       "4              None  math.CA math.FA   \n",
       "\n",
       "                                             license  \\\n",
       "0                                               None   \n",
       "1  http://arxiv.org/licenses/nonexclusive-distrib...   \n",
       "2                                               None   \n",
       "3                                               None   \n",
       "4                                               None   \n",
       "\n",
       "                                            abstract  \\\n",
       "0    A fully differential calculation in perturba...   \n",
       "1    We describe a new algorithm, the $(k,\\ell)$-...   \n",
       "2    The evolution of Earth-Moon system is descri...   \n",
       "3    We show that a determinant of Stirling cycle...   \n",
       "4    In this paper we show how to compute the $\\L...   \n",
       "\n",
       "                                            versions update_date  \\\n",
       "0  [{'version': 'v1', 'created': 'Mon, 2 Apr 2007...  2008-11-26   \n",
       "1  [{'version': 'v1', 'created': 'Sat, 31 Mar 200...  2008-12-13   \n",
       "2  [{'version': 'v1', 'created': 'Sun, 1 Apr 2007...  2008-01-13   \n",
       "3  [{'version': 'v1', 'created': 'Sat, 31 Mar 200...  2007-05-23   \n",
       "4  [{'version': 'v1', 'created': 'Mon, 2 Apr 2007...  2013-10-15   \n",
       "\n",
       "                                      authors_parsed  \n",
       "0  [[Balázs, C., ], [Berger, E. L., ], [Nadolsky,...  \n",
       "1           [[Streinu, Ileana, ], [Theran, Louis, ]]  \n",
       "2                                 [[Pan, Hongjun, ]]  \n",
       "3                                [[Callan, David, ]]  \n",
       "4  [[Abu-Shammala, Wael, ], [Torchinsky, Alberto, ]]  "
      ]
     },
     "execution_count": 4,
     "metadata": {},
     "output_type": "execute_result"
    }
   ],
   "source": [
    "df = pd.DataFrame(dataset)\n",
    "df.head(5)"
   ]
  },
  {
   "cell_type": "markdown",
   "metadata": {},
   "source": [
    "## Data Description"
   ]
  },
  {
   "cell_type": "markdown",
   "metadata": {},
   "source": [
    "The dataset consists of 14 features each of object type.\n",
    "\n",
    "The number of records presented in the dataset is 2725401.\n"
   ]
  },
  {
   "cell_type": "code",
   "execution_count": 5,
   "metadata": {
    "execution": {
     "iopub.execute_input": "2025-05-10T20:19:08.825805Z",
     "iopub.status.busy": "2025-05-10T20:19:08.825548Z",
     "iopub.status.idle": "2025-05-10T20:19:08.885690Z",
     "shell.execute_reply": "2025-05-10T20:19:08.884916Z",
     "shell.execute_reply.started": "2025-05-10T20:19:08.825781Z"
    },
    "trusted": true
   },
   "outputs": [
    {
     "name": "stdout",
     "output_type": "stream",
     "text": [
      "<class 'pandas.core.frame.DataFrame'>\n",
      "RangeIndex: 2725401 entries, 0 to 2725400\n",
      "Data columns (total 14 columns):\n",
      " #   Column          Dtype \n",
      "---  ------          ----- \n",
      " 0   id              object\n",
      " 1   submitter       object\n",
      " 2   authors         object\n",
      " 3   title           object\n",
      " 4   comments        object\n",
      " 5   journal-ref     object\n",
      " 6   doi             object\n",
      " 7   report-no       object\n",
      " 8   categories      object\n",
      " 9   license         object\n",
      " 10  abstract        object\n",
      " 11  versions        object\n",
      " 12  update_date     object\n",
      " 13  authors_parsed  object\n",
      "dtypes: object(14)\n",
      "memory usage: 291.1+ MB\n"
     ]
    }
   ],
   "source": [
    "df.info()"
   ]
  },
  {
   "cell_type": "markdown",
   "metadata": {},
   "source": [
    "### Column meaning\n",
    "\n",
    "| **Column**      | **Description**                                                                                                       |\n",
    "|-----------------|-----------------------------------------------------------------------------------------------------------------------|\n",
    "| **id**          | ArXiv ID                                                                            |\n",
    "| **submitter**   | The name of the person who submitted the paper                                                                                               |\n",
    "| **authors**     | Authors of the paper                                                                                                  |\n",
    "| **title**       | Title of the paper                                                                                                    |\n",
    "| **comments**    | Additional info, such as number of pages and figures                                                                   |\n",
    "| **journal-ref** | Information about the journal the paper was published in                                                               |\n",
    "| **doi**         | Digital Object Identifier                                                                      |\n",
    "| **abstract**    | The abstract of the paper                                                                                             |\n",
    "| **categories**  | Categories / tags in the ArXiv system                                                                                 |\n",
    "| **versions**    | A version history                                                                                                     |"
   ]
  },
  {
   "cell_type": "code",
   "execution_count": 6,
   "metadata": {
    "execution": {
     "iopub.execute_input": "2025-05-10T20:19:08.887152Z",
     "iopub.status.busy": "2025-05-10T20:19:08.886497Z",
     "iopub.status.idle": "2025-05-10T20:19:12.831232Z",
     "shell.execute_reply": "2025-05-10T20:19:12.830497Z",
     "shell.execute_reply.started": "2025-05-10T20:19:08.887130Z"
    },
    "trusted": true
   },
   "outputs": [
    {
     "data": {
      "text/plain": [
       "id                      0\n",
       "submitter           15189\n",
       "authors                 0\n",
       "title                   0\n",
       "comments           709032\n",
       "journal-ref       1834820\n",
       "doi               1487316\n",
       "report-no         2540336\n",
       "categories              0\n",
       "license            452784\n",
       "abstract                0\n",
       "versions                0\n",
       "update_date             0\n",
       "authors_parsed          0\n",
       "dtype: int64"
      ]
     },
     "execution_count": 6,
     "metadata": {},
     "output_type": "execute_result"
    }
   ],
   "source": [
    "df.isnull().sum()"
   ]
  },
  {
   "cell_type": "markdown",
   "metadata": {},
   "source": [
    "For the task of identifying co-authors, the key article attributes are authors, title, abstract, and categories. These features are essential for analyzing papers presented in the dataset and uncovering collaboration patterns. The absence of missing values in these columns confirms the dataset's suitability for this task."
   ]
  },
  {
   "cell_type": "markdown",
   "metadata": {},
   "source": [
    "## Data Exploration"
   ]
  },
  {
   "cell_type": "code",
   "execution_count": 7,
   "metadata": {
    "execution": {
     "iopub.execute_input": "2025-05-10T20:19:12.832345Z",
     "iopub.status.busy": "2025-05-10T20:19:12.832079Z",
     "iopub.status.idle": "2025-05-10T20:19:12.836912Z",
     "shell.execute_reply": "2025-05-10T20:19:12.836243Z",
     "shell.execute_reply.started": "2025-05-10T20:19:12.832321Z"
    },
    "trusted": true
   },
   "outputs": [],
   "source": [
    "def plot_distribution(given_df, given_column, given_title=None):\n",
    "    plt.figure(figsize=(10, 6))\n",
    "    given_df[given_column].value_counts().sort_index().plot(\n",
    "        kind=\"bar\", color=\"royalblue\"\n",
    "    )\n",
    "    if given_title is None:\n",
    "        given_title = f\"Distribution of {given_column}\"\n",
    "    plt.title(given_title)\n",
    "    plt.xlabel(given_column)\n",
    "    plt.grid(axis=\"y\", linestyle=\"--\", alpha=0.5)\n",
    "    plt.show()"
   ]
  },
  {
   "cell_type": "code",
   "execution_count": 8,
   "metadata": {
    "execution": {
     "iopub.execute_input": "2025-05-10T20:19:12.837761Z",
     "iopub.status.busy": "2025-05-10T20:19:12.837541Z",
     "iopub.status.idle": "2025-05-10T20:19:12.853438Z",
     "shell.execute_reply": "2025-05-10T20:19:12.852901Z",
     "shell.execute_reply.started": "2025-05-10T20:19:12.837742Z"
    },
    "trusted": true
   },
   "outputs": [],
   "source": [
    "def plot_series_counts(given_series, given_y_label=None, given_title=None):\n",
    "    plt.figure(figsize=(16, 8))\n",
    "    sns.barplot(x=given_series.values, y=given_series.index, palette=\"viridis\")\n",
    "    if given_title is not None:\n",
    "        plt.title(given_title)\n",
    "    plt.xlabel(\"Count\")\n",
    "    if given_y_label is not None:\n",
    "        plt.ylabel(given_y_label)\n",
    "    plt.show()"
   ]
  },
  {
   "cell_type": "markdown",
   "metadata": {},
   "source": [
    "#### Duplicates\n",
    "The number of unique ids is less than the number of records. Therefore, there are duplicates that must be cleaned."
   ]
  },
  {
   "cell_type": "code",
   "execution_count": 9,
   "metadata": {
    "execution": {
     "iopub.execute_input": "2025-05-10T20:19:12.854521Z",
     "iopub.status.busy": "2025-05-10T20:19:12.854227Z",
     "iopub.status.idle": "2025-05-10T20:19:14.675405Z",
     "shell.execute_reply": "2025-05-10T20:19:14.674747Z",
     "shell.execute_reply.started": "2025-05-10T20:19:12.854500Z"
    },
    "trusted": true
   },
   "outputs": [
    {
     "name": "stdout",
     "output_type": "stream",
     "text": [
      "Number of unique ids: 2725378\n"
     ]
    }
   ],
   "source": [
    "num_of_unique_id = len(df[\"id\"].unique())\n",
    "print(f\"Number of unique ids: {num_of_unique_id}\")"
   ]
  },
  {
   "cell_type": "code",
   "execution_count": 10,
   "metadata": {
    "execution": {
     "iopub.execute_input": "2025-05-10T20:19:14.678372Z",
     "iopub.status.busy": "2025-05-10T20:19:14.678139Z",
     "iopub.status.idle": "2025-05-10T20:19:59.767691Z",
     "shell.execute_reply": "2025-05-10T20:19:59.767065Z",
     "shell.execute_reply.started": "2025-05-10T20:19:14.678354Z"
    },
    "trusted": true
   },
   "outputs": [
    {
     "name": "stdout",
     "output_type": "stream",
     "text": [
      "Num of duplicates: 10\n"
     ]
    }
   ],
   "source": [
    "# create a copy of the dataframe and convert the data into string to use duplicated()\n",
    "df_copy = df.copy()\n",
    "columns_list = list(df_copy.columns)\n",
    "for column in columns_list:\n",
    "    df_copy[column] = df_copy[column].astype(str)\n",
    "print(f\"Num of duplicates: {df_copy.duplicated().sum()}\")"
   ]
  },
  {
   "cell_type": "code",
   "execution_count": 11,
   "metadata": {
    "execution": {
     "iopub.execute_input": "2025-05-10T20:19:59.768619Z",
     "iopub.status.busy": "2025-05-10T20:19:59.768407Z",
     "iopub.status.idle": "2025-05-10T20:20:25.943859Z",
     "shell.execute_reply": "2025-05-10T20:20:25.943070Z",
     "shell.execute_reply.started": "2025-05-10T20:19:59.768593Z"
    },
    "trusted": true
   },
   "outputs": [
    {
     "data": {
      "text/html": [
       "<div>\n",
       "<style scoped>\n",
       "    .dataframe tbody tr th:only-of-type {\n",
       "        vertical-align: middle;\n",
       "    }\n",
       "\n",
       "    .dataframe tbody tr th {\n",
       "        vertical-align: top;\n",
       "    }\n",
       "\n",
       "    .dataframe thead th {\n",
       "        text-align: right;\n",
       "    }\n",
       "</style>\n",
       "<table border=\"1\" class=\"dataframe\">\n",
       "  <thead>\n",
       "    <tr style=\"text-align: right;\">\n",
       "      <th></th>\n",
       "      <th>id</th>\n",
       "      <th>submitter</th>\n",
       "      <th>authors</th>\n",
       "      <th>title</th>\n",
       "      <th>comments</th>\n",
       "      <th>journal-ref</th>\n",
       "      <th>doi</th>\n",
       "      <th>report-no</th>\n",
       "      <th>categories</th>\n",
       "      <th>license</th>\n",
       "      <th>abstract</th>\n",
       "      <th>versions</th>\n",
       "      <th>update_date</th>\n",
       "      <th>authors_parsed</th>\n",
       "    </tr>\n",
       "  </thead>\n",
       "  <tbody>\n",
       "    <tr>\n",
       "      <th>2611355</th>\n",
       "      <td>math-ph/0509047</td>\n",
       "      <td>Detlev Buchholz</td>\n",
       "      <td>Detlev Buchholz and Wojciech Dybalski</td>\n",
       "      <td>Scattering in relativistic quantum field theor...</td>\n",
       "      <td>15 pages, no figures. v2: A revised and update...</td>\n",
       "      <td>None</td>\n",
       "      <td>None</td>\n",
       "      <td>None</td>\n",
       "      <td>math-ph hep-th math.MP math.SP</td>\n",
       "      <td>http://arxiv.org/licenses/nonexclusive-distrib...</td>\n",
       "      <td>We provide an overview of basic concepts, to...</td>\n",
       "      <td>[{'version': 'v1', 'created': 'Wed, 21 Sep 200...</td>\n",
       "      <td>2024-11-05</td>\n",
       "      <td>[['Buchholz', 'Detlev', ''], ['Dybalski', 'Woj...</td>\n",
       "    </tr>\n",
       "    <tr>\n",
       "      <th>2634044</th>\n",
       "      <td>math-ph/0702049</td>\n",
       "      <td>Ingolf Sch\\\"afer</td>\n",
       "      <td>Ingolf Sch\\\"afer and Marek Ku\\'s</td>\n",
       "      <td>Spectral statistics along sequences of irreduc...</td>\n",
       "      <td>14 pages, 1 figure</td>\n",
       "      <td>None</td>\n",
       "      <td>None</td>\n",
       "      <td>None</td>\n",
       "      <td>math-ph math.MP math.RT</td>\n",
       "      <td>None</td>\n",
       "      <td>We discuss the nearest neighbor distribution...</td>\n",
       "      <td>[{'version': 'v1', 'created': 'Wed, 14 Feb 200...</td>\n",
       "      <td>2024-08-21</td>\n",
       "      <td>[['Schäfer', 'Ingolf', ''], ['Kuś', 'Marek', '']]</td>\n",
       "    </tr>\n",
       "    <tr>\n",
       "      <th>2641916</th>\n",
       "      <td>math-ph/0512019</td>\n",
       "      <td>Vesselin Gueorguiev</td>\n",
       "      <td>V. G. Gueorguiev, A. R. P. Rau, and J. P. Draayer</td>\n",
       "      <td>Confined One Dimensional Harmonic Oscillator a...</td>\n",
       "      <td>11 pages and 9 figures; Submitted to American ...</td>\n",
       "      <td>American Journal of Physics 74 (5) 394 (2006)</td>\n",
       "      <td>10.1119/1.2173270</td>\n",
       "      <td>UCRL-JRNL-213847</td>\n",
       "      <td>math-ph hep-th math.MP quant-ph</td>\n",
       "      <td>None</td>\n",
       "      <td>The one-dimensional harmonic oscillator in a...</td>\n",
       "      <td>[{'version': 'v1', 'created': 'Wed, 7 Dec 2005...</td>\n",
       "      <td>2024-04-19</td>\n",
       "      <td>[['Gueorguiev', 'V. G.', ''], ['Rau', 'A. R. P...</td>\n",
       "    </tr>\n",
       "    <tr>\n",
       "      <th>2646810</th>\n",
       "      <td>math-ph/0203043</td>\n",
       "      <td>Frederic Moulin</td>\n",
       "      <td>F.Moulin</td>\n",
       "      <td>Magnetic monopoles and Lorentz force</td>\n",
       "      <td>12 pages</td>\n",
       "      <td>Nuovo Cim.B116:869-877,2001</td>\n",
       "      <td>None</td>\n",
       "      <td>None</td>\n",
       "      <td>math-ph math.MP</td>\n",
       "      <td>None</td>\n",
       "      <td>The formulation of a generalized classical e...</td>\n",
       "      <td>[{'version': 'v1', 'created': 'Thu, 21 Mar 200...</td>\n",
       "      <td>2024-09-26</td>\n",
       "      <td>[['Moulin', 'F.', '']]</td>\n",
       "    </tr>\n",
       "    <tr>\n",
       "      <th>2648687</th>\n",
       "      <td>math-ph/0606001</td>\n",
       "      <td>Lewin Mathieu</td>\n",
       "      <td>Christian Hainzl, Mathieu Lewin and Eric Sere</td>\n",
       "      <td>Existence of Atoms and Molecules in the Mean-F...</td>\n",
       "      <td>Final version, to appear in Arch. Rat. Mech. Anal</td>\n",
       "      <td>Archive for Rational Mechanics and Analysis 19...</td>\n",
       "      <td>10.1007/s00205-008-0144-2</td>\n",
       "      <td>None</td>\n",
       "      <td>math-ph math.MP</td>\n",
       "      <td>None</td>\n",
       "      <td>The Bogoliubov-Dirac-Fock (BDF) model is the...</td>\n",
       "      <td>[{'version': 'v1', 'created': 'Wed, 31 May 200...</td>\n",
       "      <td>2023-10-17</td>\n",
       "      <td>[['Hainzl', 'Christian', ''], ['Lewin', 'Mathi...</td>\n",
       "    </tr>\n",
       "    <tr>\n",
       "      <th>2654176</th>\n",
       "      <td>math-ph/0605055</td>\n",
       "      <td>Herintsitohaina Ratsimbarison</td>\n",
       "      <td>Herintsitohaina Ratsimbarison</td>\n",
       "      <td>Galilean relativity and its invariant bilinear...</td>\n",
       "      <td>6 pages, typos corrected and text clarity impr...</td>\n",
       "      <td>None</td>\n",
       "      <td>None</td>\n",
       "      <td>None</td>\n",
       "      <td>math-ph math.MP</td>\n",
       "      <td>http://arxiv.org/licenses/nonexclusive-distrib...</td>\n",
       "      <td>We construct the family of bilinear forms gG...</td>\n",
       "      <td>[{'version': 'v1', 'created': 'Thu, 18 May 200...</td>\n",
       "      <td>2024-02-21</td>\n",
       "      <td>[['Ratsimbarison', 'Herintsitohaina', '']]</td>\n",
       "    </tr>\n",
       "    <tr>\n",
       "      <th>2654974</th>\n",
       "      <td>math-ph/0702049</td>\n",
       "      <td>Ingolf Sch\\\"afer</td>\n",
       "      <td>Ingolf Sch\\\"afer and Marek Ku\\'s</td>\n",
       "      <td>Spectral statistics along sequences of irreduc...</td>\n",
       "      <td>14 pages, 1 figure</td>\n",
       "      <td>None</td>\n",
       "      <td>None</td>\n",
       "      <td>None</td>\n",
       "      <td>math-ph math.MP math.RT</td>\n",
       "      <td>None</td>\n",
       "      <td>We discuss the nearest neighbor distribution...</td>\n",
       "      <td>[{'version': 'v1', 'created': 'Wed, 14 Feb 200...</td>\n",
       "      <td>2024-08-21</td>\n",
       "      <td>[['Schäfer', 'Ingolf', ''], ['Kuś', 'Marek', '']]</td>\n",
       "    </tr>\n",
       "    <tr>\n",
       "      <th>2655300</th>\n",
       "      <td>math-ph/0512019</td>\n",
       "      <td>Vesselin Gueorguiev</td>\n",
       "      <td>V. G. Gueorguiev, A. R. P. Rau, and J. P. Draayer</td>\n",
       "      <td>Confined One Dimensional Harmonic Oscillator a...</td>\n",
       "      <td>11 pages and 9 figures; Submitted to American ...</td>\n",
       "      <td>American Journal of Physics 74 (5) 394 (2006)</td>\n",
       "      <td>10.1119/1.2173270</td>\n",
       "      <td>UCRL-JRNL-213847</td>\n",
       "      <td>math-ph hep-th math.MP quant-ph</td>\n",
       "      <td>None</td>\n",
       "      <td>The one-dimensional harmonic oscillator in a...</td>\n",
       "      <td>[{'version': 'v1', 'created': 'Wed, 7 Dec 2005...</td>\n",
       "      <td>2024-04-19</td>\n",
       "      <td>[['Gueorguiev', 'V. G.', ''], ['Rau', 'A. R. P...</td>\n",
       "    </tr>\n",
       "    <tr>\n",
       "      <th>2655774</th>\n",
       "      <td>math-ph/0509047</td>\n",
       "      <td>Detlev Buchholz</td>\n",
       "      <td>Detlev Buchholz and Wojciech Dybalski</td>\n",
       "      <td>Scattering in relativistic quantum field theor...</td>\n",
       "      <td>15 pages, no figures. v2: A revised and update...</td>\n",
       "      <td>None</td>\n",
       "      <td>None</td>\n",
       "      <td>None</td>\n",
       "      <td>math-ph hep-th math.MP math.SP</td>\n",
       "      <td>http://arxiv.org/licenses/nonexclusive-distrib...</td>\n",
       "      <td>We provide an overview of basic concepts, to...</td>\n",
       "      <td>[{'version': 'v1', 'created': 'Wed, 21 Sep 200...</td>\n",
       "      <td>2024-11-05</td>\n",
       "      <td>[['Buchholz', 'Detlev', ''], ['Dybalski', 'Woj...</td>\n",
       "    </tr>\n",
       "    <tr>\n",
       "      <th>2656286</th>\n",
       "      <td>math-ph/0512019</td>\n",
       "      <td>Vesselin Gueorguiev</td>\n",
       "      <td>V. G. Gueorguiev, A. R. P. Rau, and J. P. Draayer</td>\n",
       "      <td>Confined One Dimensional Harmonic Oscillator a...</td>\n",
       "      <td>11 pages and 9 figures; Submitted to American ...</td>\n",
       "      <td>American Journal of Physics 74 (5) 394 (2006)</td>\n",
       "      <td>10.1119/1.2173270</td>\n",
       "      <td>UCRL-JRNL-213847</td>\n",
       "      <td>math-ph hep-th math.MP quant-ph</td>\n",
       "      <td>None</td>\n",
       "      <td>The one-dimensional harmonic oscillator in a...</td>\n",
       "      <td>[{'version': 'v1', 'created': 'Wed, 7 Dec 2005...</td>\n",
       "      <td>2024-04-19</td>\n",
       "      <td>[['Gueorguiev', 'V. G.', ''], ['Rau', 'A. R. P...</td>\n",
       "    </tr>\n",
       "    <tr>\n",
       "      <th>2656597</th>\n",
       "      <td>math-ph/0203043</td>\n",
       "      <td>Frederic Moulin</td>\n",
       "      <td>F.Moulin</td>\n",
       "      <td>Magnetic monopoles and Lorentz force</td>\n",
       "      <td>12 pages</td>\n",
       "      <td>Nuovo Cim.B116:869-877,2001</td>\n",
       "      <td>None</td>\n",
       "      <td>None</td>\n",
       "      <td>math-ph math.MP</td>\n",
       "      <td>None</td>\n",
       "      <td>The formulation of a generalized classical e...</td>\n",
       "      <td>[{'version': 'v1', 'created': 'Thu, 21 Mar 200...</td>\n",
       "      <td>2024-09-26</td>\n",
       "      <td>[['Moulin', 'F.', '']]</td>\n",
       "    </tr>\n",
       "    <tr>\n",
       "      <th>2656598</th>\n",
       "      <td>math-ph/0611044</td>\n",
       "      <td>Janusz Grabowski</td>\n",
       "      <td>Katarzyna Grabowska, Janusz Grabowski, Pawe{\\l...</td>\n",
       "      <td>The Schroedinger operator in Newtonian space-time</td>\n",
       "      <td>7 pages</td>\n",
       "      <td>None</td>\n",
       "      <td>None</td>\n",
       "      <td>None</td>\n",
       "      <td>math-ph math.DG math.MP</td>\n",
       "      <td>None</td>\n",
       "      <td>The Schroedinger operator on the Newtonian s...</td>\n",
       "      <td>[{'version': 'v1', 'created': 'Sat, 18 Nov 200...</td>\n",
       "      <td>2024-10-18</td>\n",
       "      <td>[['Grabowska', 'Katarzyna', ''], ['Grabowski',...</td>\n",
       "    </tr>\n",
       "    <tr>\n",
       "      <th>2657647</th>\n",
       "      <td>math-ph/0605055</td>\n",
       "      <td>Herintsitohaina Ratsimbarison</td>\n",
       "      <td>Herintsitohaina Ratsimbarison</td>\n",
       "      <td>Galilean relativity and its invariant bilinear...</td>\n",
       "      <td>6 pages, typos corrected and text clarity impr...</td>\n",
       "      <td>None</td>\n",
       "      <td>None</td>\n",
       "      <td>None</td>\n",
       "      <td>math-ph math.MP</td>\n",
       "      <td>http://arxiv.org/licenses/nonexclusive-distrib...</td>\n",
       "      <td>We construct the family of bilinear forms gG...</td>\n",
       "      <td>[{'version': 'v1', 'created': 'Thu, 18 May 200...</td>\n",
       "      <td>2024-02-21</td>\n",
       "      <td>[['Ratsimbarison', 'Herintsitohaina', '']]</td>\n",
       "    </tr>\n",
       "    <tr>\n",
       "      <th>2661911</th>\n",
       "      <td>math-ph/0509047</td>\n",
       "      <td>Detlev Buchholz</td>\n",
       "      <td>Detlev Buchholz and Wojciech Dybalski</td>\n",
       "      <td>Scattering in relativistic quantum field theor...</td>\n",
       "      <td>15 pages, no figures. v2: A revised and update...</td>\n",
       "      <td>None</td>\n",
       "      <td>None</td>\n",
       "      <td>None</td>\n",
       "      <td>math-ph hep-th math.MP math.SP</td>\n",
       "      <td>http://arxiv.org/licenses/nonexclusive-distrib...</td>\n",
       "      <td>We provide an overview of basic concepts, to...</td>\n",
       "      <td>[{'version': 'v1', 'created': 'Wed, 21 Sep 200...</td>\n",
       "      <td>2024-11-05</td>\n",
       "      <td>[['Buchholz', 'Detlev', ''], ['Dybalski', 'Woj...</td>\n",
       "    </tr>\n",
       "    <tr>\n",
       "      <th>2661912</th>\n",
       "      <td>math-ph/0605055</td>\n",
       "      <td>Herintsitohaina Ratsimbarison</td>\n",
       "      <td>Herintsitohaina Ratsimbarison</td>\n",
       "      <td>Galilean relativity and its invariant bilinear...</td>\n",
       "      <td>6 pages, typos corrected and text clarity impr...</td>\n",
       "      <td>None</td>\n",
       "      <td>None</td>\n",
       "      <td>None</td>\n",
       "      <td>math-ph math.MP</td>\n",
       "      <td>http://arxiv.org/licenses/nonexclusive-distrib...</td>\n",
       "      <td>We construct the family of bilinear forms gG...</td>\n",
       "      <td>[{'version': 'v1', 'created': 'Thu, 18 May 200...</td>\n",
       "      <td>2024-02-21</td>\n",
       "      <td>[['Ratsimbarison', 'Herintsitohaina', '']]</td>\n",
       "    </tr>\n",
       "    <tr>\n",
       "      <th>2661914</th>\n",
       "      <td>math-ph/0611044</td>\n",
       "      <td>Janusz Grabowski</td>\n",
       "      <td>Katarzyna Grabowska, Janusz Grabowski, Pawe{\\l...</td>\n",
       "      <td>The Schroedinger operator in Newtonian space-time</td>\n",
       "      <td>7 pages</td>\n",
       "      <td>None</td>\n",
       "      <td>None</td>\n",
       "      <td>None</td>\n",
       "      <td>math-ph math.DG math.MP</td>\n",
       "      <td>None</td>\n",
       "      <td>The Schroedinger operator on the Newtonian s...</td>\n",
       "      <td>[{'version': 'v1', 'created': 'Sat, 18 Nov 200...</td>\n",
       "      <td>2024-10-18</td>\n",
       "      <td>[['Grabowska', 'Katarzyna', ''], ['Grabowski',...</td>\n",
       "    </tr>\n",
       "    <tr>\n",
       "      <th>2662831</th>\n",
       "      <td>math-ph/0606001</td>\n",
       "      <td>Lewin Mathieu</td>\n",
       "      <td>Christian Hainzl, Mathieu Lewin and Eric Sere</td>\n",
       "      <td>Existence of Atoms and Molecules in the Mean-F...</td>\n",
       "      <td>Final version, to appear in Arch. Rat. Mech. Anal</td>\n",
       "      <td>Archive for Rational Mechanics and Analysis 19...</td>\n",
       "      <td>10.1007/s00205-008-0144-2</td>\n",
       "      <td>None</td>\n",
       "      <td>math-ph math.MP</td>\n",
       "      <td>None</td>\n",
       "      <td>The Bogoliubov-Dirac-Fock (BDF) model is the...</td>\n",
       "      <td>[{'version': 'v1', 'created': 'Wed, 31 May 200...</td>\n",
       "      <td>2023-10-17</td>\n",
       "      <td>[['Hainzl', 'Christian', ''], ['Lewin', 'Mathi...</td>\n",
       "    </tr>\n",
       "  </tbody>\n",
       "</table>\n",
       "</div>"
      ],
      "text/plain": [
       "                      id                      submitter  \\\n",
       "2611355  math-ph/0509047                Detlev Buchholz   \n",
       "2634044  math-ph/0702049               Ingolf Sch\\\"afer   \n",
       "2641916  math-ph/0512019            Vesselin Gueorguiev   \n",
       "2646810  math-ph/0203043                Frederic Moulin   \n",
       "2648687  math-ph/0606001                  Lewin Mathieu   \n",
       "2654176  math-ph/0605055  Herintsitohaina Ratsimbarison   \n",
       "2654974  math-ph/0702049               Ingolf Sch\\\"afer   \n",
       "2655300  math-ph/0512019            Vesselin Gueorguiev   \n",
       "2655774  math-ph/0509047                Detlev Buchholz   \n",
       "2656286  math-ph/0512019            Vesselin Gueorguiev   \n",
       "2656597  math-ph/0203043                Frederic Moulin   \n",
       "2656598  math-ph/0611044               Janusz Grabowski   \n",
       "2657647  math-ph/0605055  Herintsitohaina Ratsimbarison   \n",
       "2661911  math-ph/0509047                Detlev Buchholz   \n",
       "2661912  math-ph/0605055  Herintsitohaina Ratsimbarison   \n",
       "2661914  math-ph/0611044               Janusz Grabowski   \n",
       "2662831  math-ph/0606001                  Lewin Mathieu   \n",
       "\n",
       "                                                   authors  \\\n",
       "2611355              Detlev Buchholz and Wojciech Dybalski   \n",
       "2634044                   Ingolf Sch\\\"afer and Marek Ku\\'s   \n",
       "2641916  V. G. Gueorguiev, A. R. P. Rau, and J. P. Draayer   \n",
       "2646810                                           F.Moulin   \n",
       "2648687      Christian Hainzl, Mathieu Lewin and Eric Sere   \n",
       "2654176                      Herintsitohaina Ratsimbarison   \n",
       "2654974                   Ingolf Sch\\\"afer and Marek Ku\\'s   \n",
       "2655300  V. G. Gueorguiev, A. R. P. Rau, and J. P. Draayer   \n",
       "2655774              Detlev Buchholz and Wojciech Dybalski   \n",
       "2656286  V. G. Gueorguiev, A. R. P. Rau, and J. P. Draayer   \n",
       "2656597                                           F.Moulin   \n",
       "2656598  Katarzyna Grabowska, Janusz Grabowski, Pawe{\\l...   \n",
       "2657647                      Herintsitohaina Ratsimbarison   \n",
       "2661911              Detlev Buchholz and Wojciech Dybalski   \n",
       "2661912                      Herintsitohaina Ratsimbarison   \n",
       "2661914  Katarzyna Grabowska, Janusz Grabowski, Pawe{\\l...   \n",
       "2662831      Christian Hainzl, Mathieu Lewin and Eric Sere   \n",
       "\n",
       "                                                     title  \\\n",
       "2611355  Scattering in relativistic quantum field theor...   \n",
       "2634044  Spectral statistics along sequences of irreduc...   \n",
       "2641916  Confined One Dimensional Harmonic Oscillator a...   \n",
       "2646810               Magnetic monopoles and Lorentz force   \n",
       "2648687  Existence of Atoms and Molecules in the Mean-F...   \n",
       "2654176  Galilean relativity and its invariant bilinear...   \n",
       "2654974  Spectral statistics along sequences of irreduc...   \n",
       "2655300  Confined One Dimensional Harmonic Oscillator a...   \n",
       "2655774  Scattering in relativistic quantum field theor...   \n",
       "2656286  Confined One Dimensional Harmonic Oscillator a...   \n",
       "2656597               Magnetic monopoles and Lorentz force   \n",
       "2656598  The Schroedinger operator in Newtonian space-time   \n",
       "2657647  Galilean relativity and its invariant bilinear...   \n",
       "2661911  Scattering in relativistic quantum field theor...   \n",
       "2661912  Galilean relativity and its invariant bilinear...   \n",
       "2661914  The Schroedinger operator in Newtonian space-time   \n",
       "2662831  Existence of Atoms and Molecules in the Mean-F...   \n",
       "\n",
       "                                                  comments  \\\n",
       "2611355  15 pages, no figures. v2: A revised and update...   \n",
       "2634044                                 14 pages, 1 figure   \n",
       "2641916  11 pages and 9 figures; Submitted to American ...   \n",
       "2646810                                           12 pages   \n",
       "2648687  Final version, to appear in Arch. Rat. Mech. Anal   \n",
       "2654176  6 pages, typos corrected and text clarity impr...   \n",
       "2654974                                 14 pages, 1 figure   \n",
       "2655300  11 pages and 9 figures; Submitted to American ...   \n",
       "2655774  15 pages, no figures. v2: A revised and update...   \n",
       "2656286  11 pages and 9 figures; Submitted to American ...   \n",
       "2656597                                           12 pages   \n",
       "2656598                                            7 pages   \n",
       "2657647  6 pages, typos corrected and text clarity impr...   \n",
       "2661911  15 pages, no figures. v2: A revised and update...   \n",
       "2661912  6 pages, typos corrected and text clarity impr...   \n",
       "2661914                                            7 pages   \n",
       "2662831  Final version, to appear in Arch. Rat. Mech. Anal   \n",
       "\n",
       "                                               journal-ref  \\\n",
       "2611355                                               None   \n",
       "2634044                                               None   \n",
       "2641916      American Journal of Physics 74 (5) 394 (2006)   \n",
       "2646810                        Nuovo Cim.B116:869-877,2001   \n",
       "2648687  Archive for Rational Mechanics and Analysis 19...   \n",
       "2654176                                               None   \n",
       "2654974                                               None   \n",
       "2655300      American Journal of Physics 74 (5) 394 (2006)   \n",
       "2655774                                               None   \n",
       "2656286      American Journal of Physics 74 (5) 394 (2006)   \n",
       "2656597                        Nuovo Cim.B116:869-877,2001   \n",
       "2656598                                               None   \n",
       "2657647                                               None   \n",
       "2661911                                               None   \n",
       "2661912                                               None   \n",
       "2661914                                               None   \n",
       "2662831  Archive for Rational Mechanics and Analysis 19...   \n",
       "\n",
       "                               doi         report-no  \\\n",
       "2611355                       None              None   \n",
       "2634044                       None              None   \n",
       "2641916          10.1119/1.2173270  UCRL-JRNL-213847   \n",
       "2646810                       None              None   \n",
       "2648687  10.1007/s00205-008-0144-2              None   \n",
       "2654176                       None              None   \n",
       "2654974                       None              None   \n",
       "2655300          10.1119/1.2173270  UCRL-JRNL-213847   \n",
       "2655774                       None              None   \n",
       "2656286          10.1119/1.2173270  UCRL-JRNL-213847   \n",
       "2656597                       None              None   \n",
       "2656598                       None              None   \n",
       "2657647                       None              None   \n",
       "2661911                       None              None   \n",
       "2661912                       None              None   \n",
       "2661914                       None              None   \n",
       "2662831  10.1007/s00205-008-0144-2              None   \n",
       "\n",
       "                              categories  \\\n",
       "2611355   math-ph hep-th math.MP math.SP   \n",
       "2634044          math-ph math.MP math.RT   \n",
       "2641916  math-ph hep-th math.MP quant-ph   \n",
       "2646810                  math-ph math.MP   \n",
       "2648687                  math-ph math.MP   \n",
       "2654176                  math-ph math.MP   \n",
       "2654974          math-ph math.MP math.RT   \n",
       "2655300  math-ph hep-th math.MP quant-ph   \n",
       "2655774   math-ph hep-th math.MP math.SP   \n",
       "2656286  math-ph hep-th math.MP quant-ph   \n",
       "2656597                  math-ph math.MP   \n",
       "2656598          math-ph math.DG math.MP   \n",
       "2657647                  math-ph math.MP   \n",
       "2661911   math-ph hep-th math.MP math.SP   \n",
       "2661912                  math-ph math.MP   \n",
       "2661914          math-ph math.DG math.MP   \n",
       "2662831                  math-ph math.MP   \n",
       "\n",
       "                                                   license  \\\n",
       "2611355  http://arxiv.org/licenses/nonexclusive-distrib...   \n",
       "2634044                                               None   \n",
       "2641916                                               None   \n",
       "2646810                                               None   \n",
       "2648687                                               None   \n",
       "2654176  http://arxiv.org/licenses/nonexclusive-distrib...   \n",
       "2654974                                               None   \n",
       "2655300                                               None   \n",
       "2655774  http://arxiv.org/licenses/nonexclusive-distrib...   \n",
       "2656286                                               None   \n",
       "2656597                                               None   \n",
       "2656598                                               None   \n",
       "2657647  http://arxiv.org/licenses/nonexclusive-distrib...   \n",
       "2661911  http://arxiv.org/licenses/nonexclusive-distrib...   \n",
       "2661912  http://arxiv.org/licenses/nonexclusive-distrib...   \n",
       "2661914                                               None   \n",
       "2662831                                               None   \n",
       "\n",
       "                                                  abstract  \\\n",
       "2611355    We provide an overview of basic concepts, to...   \n",
       "2634044    We discuss the nearest neighbor distribution...   \n",
       "2641916    The one-dimensional harmonic oscillator in a...   \n",
       "2646810    The formulation of a generalized classical e...   \n",
       "2648687    The Bogoliubov-Dirac-Fock (BDF) model is the...   \n",
       "2654176    We construct the family of bilinear forms gG...   \n",
       "2654974    We discuss the nearest neighbor distribution...   \n",
       "2655300    The one-dimensional harmonic oscillator in a...   \n",
       "2655774    We provide an overview of basic concepts, to...   \n",
       "2656286    The one-dimensional harmonic oscillator in a...   \n",
       "2656597    The formulation of a generalized classical e...   \n",
       "2656598    The Schroedinger operator on the Newtonian s...   \n",
       "2657647    We construct the family of bilinear forms gG...   \n",
       "2661911    We provide an overview of basic concepts, to...   \n",
       "2661912    We construct the family of bilinear forms gG...   \n",
       "2661914    The Schroedinger operator on the Newtonian s...   \n",
       "2662831    The Bogoliubov-Dirac-Fock (BDF) model is the...   \n",
       "\n",
       "                                                  versions update_date  \\\n",
       "2611355  [{'version': 'v1', 'created': 'Wed, 21 Sep 200...  2024-11-05   \n",
       "2634044  [{'version': 'v1', 'created': 'Wed, 14 Feb 200...  2024-08-21   \n",
       "2641916  [{'version': 'v1', 'created': 'Wed, 7 Dec 2005...  2024-04-19   \n",
       "2646810  [{'version': 'v1', 'created': 'Thu, 21 Mar 200...  2024-09-26   \n",
       "2648687  [{'version': 'v1', 'created': 'Wed, 31 May 200...  2023-10-17   \n",
       "2654176  [{'version': 'v1', 'created': 'Thu, 18 May 200...  2024-02-21   \n",
       "2654974  [{'version': 'v1', 'created': 'Wed, 14 Feb 200...  2024-08-21   \n",
       "2655300  [{'version': 'v1', 'created': 'Wed, 7 Dec 2005...  2024-04-19   \n",
       "2655774  [{'version': 'v1', 'created': 'Wed, 21 Sep 200...  2024-11-05   \n",
       "2656286  [{'version': 'v1', 'created': 'Wed, 7 Dec 2005...  2024-04-19   \n",
       "2656597  [{'version': 'v1', 'created': 'Thu, 21 Mar 200...  2024-09-26   \n",
       "2656598  [{'version': 'v1', 'created': 'Sat, 18 Nov 200...  2024-10-18   \n",
       "2657647  [{'version': 'v1', 'created': 'Thu, 18 May 200...  2024-02-21   \n",
       "2661911  [{'version': 'v1', 'created': 'Wed, 21 Sep 200...  2024-11-05   \n",
       "2661912  [{'version': 'v1', 'created': 'Thu, 18 May 200...  2024-02-21   \n",
       "2661914  [{'version': 'v1', 'created': 'Sat, 18 Nov 200...  2024-10-18   \n",
       "2662831  [{'version': 'v1', 'created': 'Wed, 31 May 200...  2023-10-17   \n",
       "\n",
       "                                            authors_parsed  \n",
       "2611355  [['Buchholz', 'Detlev', ''], ['Dybalski', 'Woj...  \n",
       "2634044  [['Schäfer', 'Ingolf', ''], ['Kuś', 'Marek', '']]  \n",
       "2641916  [['Gueorguiev', 'V. G.', ''], ['Rau', 'A. R. P...  \n",
       "2646810                             [['Moulin', 'F.', '']]  \n",
       "2648687  [['Hainzl', 'Christian', ''], ['Lewin', 'Mathi...  \n",
       "2654176         [['Ratsimbarison', 'Herintsitohaina', '']]  \n",
       "2654974  [['Schäfer', 'Ingolf', ''], ['Kuś', 'Marek', '']]  \n",
       "2655300  [['Gueorguiev', 'V. G.', ''], ['Rau', 'A. R. P...  \n",
       "2655774  [['Buchholz', 'Detlev', ''], ['Dybalski', 'Woj...  \n",
       "2656286  [['Gueorguiev', 'V. G.', ''], ['Rau', 'A. R. P...  \n",
       "2656597                             [['Moulin', 'F.', '']]  \n",
       "2656598  [['Grabowska', 'Katarzyna', ''], ['Grabowski',...  \n",
       "2657647         [['Ratsimbarison', 'Herintsitohaina', '']]  \n",
       "2661911  [['Buchholz', 'Detlev', ''], ['Dybalski', 'Woj...  \n",
       "2661912         [['Ratsimbarison', 'Herintsitohaina', '']]  \n",
       "2661914  [['Grabowska', 'Katarzyna', ''], ['Grabowski',...  \n",
       "2662831  [['Hainzl', 'Christian', ''], ['Lewin', 'Mathi...  "
      ]
     },
     "execution_count": 11,
     "metadata": {},
     "output_type": "execute_result"
    }
   ],
   "source": [
    "df_copy[df_copy.duplicated(keep=False)]"
   ]
  },
  {
   "cell_type": "code",
   "execution_count": 12,
   "metadata": {
    "execution": {
     "iopub.execute_input": "2025-05-10T20:20:25.945042Z",
     "iopub.status.busy": "2025-05-10T20:20:25.944758Z",
     "iopub.status.idle": "2025-05-10T20:20:51.935599Z",
     "shell.execute_reply": "2025-05-10T20:20:51.935022Z",
     "shell.execute_reply.started": "2025-05-10T20:20:25.944989Z"
    },
    "trusted": true
   },
   "outputs": [
    {
     "data": {
      "text/plain": [
       "2611355    math-ph/0509047\n",
       "2634044    math-ph/0702049\n",
       "2641916    math-ph/0512019\n",
       "2646810    math-ph/0203043\n",
       "2648687    math-ph/0606001\n",
       "2654176    math-ph/0605055\n",
       "2654974    math-ph/0702049\n",
       "2655300    math-ph/0512019\n",
       "2655774    math-ph/0509047\n",
       "2656286    math-ph/0512019\n",
       "2656597    math-ph/0203043\n",
       "2656598    math-ph/0611044\n",
       "2657647    math-ph/0605055\n",
       "2661911    math-ph/0509047\n",
       "2661912    math-ph/0605055\n",
       "2661914    math-ph/0611044\n",
       "2662831    math-ph/0606001\n",
       "Name: id, dtype: object"
      ]
     },
     "execution_count": 12,
     "metadata": {},
     "output_type": "execute_result"
    }
   ],
   "source": [
    "duplicated_ids = df_copy[df_copy.duplicated(keep=False)][\"id\"]\n",
    "duplicated_ids"
   ]
  },
  {
   "cell_type": "code",
   "execution_count": 13,
   "metadata": {
    "execution": {
     "iopub.execute_input": "2025-05-10T20:20:51.936371Z",
     "iopub.status.busy": "2025-05-10T20:20:51.936185Z",
     "iopub.status.idle": "2025-05-10T20:20:54.640052Z",
     "shell.execute_reply": "2025-05-10T20:20:54.639338Z",
     "shell.execute_reply.started": "2025-05-10T20:20:51.936356Z"
    },
    "trusted": true
   },
   "outputs": [
    {
     "name": "stdout",
     "output_type": "stream",
     "text": [
      "Shape before cleaning (2725401, 14)\n",
      "Shape after cleaning (2725385, 14)\n"
     ]
    }
   ],
   "source": [
    "# drop duplicates\n",
    "print(f\"Shape before cleaning {df.shape}\")\n",
    "df = df[~df.duplicated(subset=\"id\", keep=\"first\") | ~df[\"id\"].isin(duplicated_ids)]\n",
    "print(f\"Shape after cleaning {df.shape}\")"
   ]
  },
  {
   "cell_type": "markdown",
   "metadata": {},
   "source": [
    "### Categories"
   ]
  },
  {
   "cell_type": "markdown",
   "metadata": {},
   "source": [
    "### Getting category names from [Category Taxonomy page](https://arxiv.org/category_taxonomy)\n",
    "\n",
    "Since categories are represented as codes, we retrieved the category names from the official arXiv Category Taxonomy page and mapped the codes to the categoty names."
   ]
  },
  {
   "cell_type": "code",
   "execution_count": 14,
   "metadata": {
    "execution": {
     "iopub.execute_input": "2025-05-10T20:20:54.641409Z",
     "iopub.status.busy": "2025-05-10T20:20:54.640889Z",
     "iopub.status.idle": "2025-05-10T20:20:54.782700Z",
     "shell.execute_reply": "2025-05-10T20:20:54.782125Z",
     "shell.execute_reply.started": "2025-05-10T20:20:54.641383Z"
    },
    "trusted": true
   },
   "outputs": [
    {
     "name": "stdout",
     "output_type": "stream",
     "text": [
      "Extracted categories\n",
      "Number of extracted categories 155\n",
      "{'cs.AI': 'Computer Science', 'cs.AR': 'Computer Science', 'cs.CC': 'Computer Science', 'cs.CE': 'Computer Science', 'cs.CG': 'Computer Science', 'cs.CL': 'Computer Science', 'cs.CR': 'Computer Science', 'cs.CV': 'Computer Science', 'cs.CY': 'Computer Science', 'cs.DB': 'Computer Science', 'cs.DC': 'Computer Science', 'cs.DL': 'Computer Science', 'cs.DM': 'Computer Science', 'cs.DS': 'Computer Science', 'cs.ET': 'Computer Science', 'cs.FL': 'Computer Science', 'cs.GL': 'Computer Science', 'cs.GR': 'Computer Science', 'cs.GT': 'Computer Science', 'cs.HC': 'Computer Science', 'cs.IR': 'Computer Science', 'cs.IT': 'Computer Science', 'cs.LG': 'Computer Science', 'cs.LO': 'Computer Science', 'cs.MA': 'Computer Science', 'cs.MM': 'Computer Science', 'cs.MS': 'Computer Science', 'cs.NA': 'Computer Science', 'cs.NE': 'Computer Science', 'cs.NI': 'Computer Science', 'cs.OH': 'Computer Science', 'cs.OS': 'Computer Science', 'cs.PF': 'Computer Science', 'cs.PL': 'Computer Science', 'cs.RO': 'Computer Science', 'cs.SC': 'Computer Science', 'cs.SD': 'Computer Science', 'cs.SE': 'Computer Science', 'cs.SI': 'Computer Science', 'cs.SY': 'Computer Science', 'econ.EM': 'Economics', 'econ.GN': 'Economics', 'econ.TH': 'Economics', 'eess.AS': 'Electrical Engineering and Systems Science', 'eess.IV': 'Electrical Engineering and Systems Science', 'eess.SP': 'Electrical Engineering and Systems Science', 'eess.SY': 'Electrical Engineering and Systems Science', 'math.AC': 'Mathematics', 'math.AG': 'Mathematics', 'math.AP': 'Mathematics', 'math.AT': 'Mathematics', 'math.CA': 'Mathematics', 'math.CO': 'Mathematics', 'math.CT': 'Mathematics', 'math.CV': 'Mathematics', 'math.DG': 'Mathematics', 'math.DS': 'Mathematics', 'math.FA': 'Mathematics', 'math.GM': 'Mathematics', 'math.GN': 'Mathematics', 'math.GR': 'Mathematics', 'math.GT': 'Mathematics', 'math.HO': 'Mathematics', 'math.IT': 'Mathematics', 'math.KT': 'Mathematics', 'math.LO': 'Mathematics', 'math.MG': 'Mathematics', 'math.MP': 'Mathematics', 'math.NA': 'Mathematics', 'math.NT': 'Mathematics', 'math.OA': 'Mathematics', 'math.OC': 'Mathematics', 'math.PR': 'Mathematics', 'math.QA': 'Mathematics', 'math.RA': 'Mathematics', 'math.RT': 'Mathematics', 'math.SG': 'Mathematics', 'math.SP': 'Mathematics', 'math.ST': 'Mathematics', 'astro-ph.CO': 'Physics', 'astro-ph.EP': 'Physics', 'astro-ph.GA': 'Physics', 'astro-ph.HE': 'Physics', 'astro-ph.IM': 'Physics', 'astro-ph.SR': 'Physics', 'cond-mat.dis-nn': 'Physics', 'cond-mat.mes-hall': 'Physics', 'cond-mat.mtrl-sci': 'Physics', 'cond-mat.other': 'Physics', 'cond-mat.quant-gas': 'Physics', 'cond-mat.soft': 'Physics', 'cond-mat.stat-mech': 'Physics', 'cond-mat.str-el': 'Physics', 'cond-mat.supr-con': 'Physics', 'gr-qc': 'Physics', 'hep-ex': 'Physics', 'hep-lat': 'Physics', 'hep-ph': 'Physics', 'hep-th': 'Physics', 'math-ph': 'Physics', 'nlin.AO': 'Physics', 'nlin.CD': 'Physics', 'nlin.CG': 'Physics', 'nlin.PS': 'Physics', 'nlin.SI': 'Physics', 'nucl-ex': 'Physics', 'nucl-th': 'Physics', 'physics.acc-ph': 'Physics', 'physics.ao-ph': 'Physics', 'physics.app-ph': 'Physics', 'physics.atm-clus': 'Physics', 'physics.atom-ph': 'Physics', 'physics.bio-ph': 'Physics', 'physics.chem-ph': 'Physics', 'physics.class-ph': 'Physics', 'physics.comp-ph': 'Physics', 'physics.data-an': 'Physics', 'physics.ed-ph': 'Physics', 'physics.flu-dyn': 'Physics', 'physics.gen-ph': 'Physics', 'physics.geo-ph': 'Physics', 'physics.hist-ph': 'Physics', 'physics.ins-det': 'Physics', 'physics.med-ph': 'Physics', 'physics.optics': 'Physics', 'physics.plasm-ph': 'Physics', 'physics.pop-ph': 'Physics', 'physics.soc-ph': 'Physics', 'physics.space-ph': 'Physics', 'quant-ph': 'Physics', 'q-bio.BM': 'Quantitative Biology', 'q-bio.CB': 'Quantitative Biology', 'q-bio.GN': 'Quantitative Biology', 'q-bio.MN': 'Quantitative Biology', 'q-bio.NC': 'Quantitative Biology', 'q-bio.OT': 'Quantitative Biology', 'q-bio.PE': 'Quantitative Biology', 'q-bio.QM': 'Quantitative Biology', 'q-bio.SC': 'Quantitative Biology', 'q-bio.TO': 'Quantitative Biology', 'q-fin.CP': 'Quantitative Finance', 'q-fin.EC': 'Quantitative Finance', 'q-fin.GN': 'Quantitative Finance', 'q-fin.MF': 'Quantitative Finance', 'q-fin.PM': 'Quantitative Finance', 'q-fin.PR': 'Quantitative Finance', 'q-fin.RM': 'Quantitative Finance', 'q-fin.ST': 'Quantitative Finance', 'q-fin.TR': 'Quantitative Finance', 'stat.AP': 'Statistics', 'stat.CO': 'Statistics', 'stat.ME': 'Statistics', 'stat.ML': 'Statistics', 'stat.OT': 'Statistics', 'stat.TH': 'Statistics'}\n"
     ]
    }
   ],
   "source": [
    "response = requests.get(\"https://arxiv.org/category_taxonomy\")\n",
    "\n",
    "if response.status_code == 200:\n",
    "    soup = BeautifulSoup(response.content, \"html.parser\")\n",
    "    taxonomy_div = soup.find(\"div\", id=\"category_taxonomy_list\")\n",
    "    category_code_2_name = {}\n",
    "\n",
    "    # h2 tags represent father categories\n",
    "    next_categories = taxonomy_div.find_all(\n",
    "        [\"h2\", \"h3\"], class_=[\"accordion-head\", \"column is-one-fifth\"]\n",
    "    )\n",
    "\n",
    "    # Iterate over each father category\n",
    "    for next_category in next_categories:\n",
    "        # get category name\n",
    "        next_category_name = next_category.text.strip()\n",
    "\n",
    "        # find sub-categories\n",
    "        sub_categories = next_category.find_next_sibling().find_all(\"h4\")\n",
    "        for sub_category in sub_categories:\n",
    "            # get sub-category name\n",
    "            sub_category_name = sub_category.text.strip()\n",
    "            # get sub-category code\n",
    "            sub_category_code = sub_category_name.split()[0]\n",
    "\n",
    "            # append the retrieved data\n",
    "            category_code_2_name[sub_category_code] = next_category_name\n",
    "    print(\"Extracted categories\")\n",
    "    print(\"Number of extracted categories\", len(category_code_2_name))\n",
    "    print(category_code_2_name)\n",
    "else:\n",
    "    print(f\"Error getting data {response.status_code}\")"
   ]
  },
  {
   "cell_type": "markdown",
   "metadata": {},
   "source": [
    "#### Analyzing splitted categories\n",
    "\n",
    "In the dataset, some papers are assigned multiple categories in a single cell. To understand the frequency of each category, we split them for separate analysis. Then, we examined the original multi-category assignments to understand how categories are grouped in papers."
   ]
  },
  {
   "cell_type": "code",
   "execution_count": 15,
   "metadata": {
    "execution": {
     "iopub.execute_input": "2025-05-10T20:20:54.783608Z",
     "iopub.status.busy": "2025-05-10T20:20:54.783395Z",
     "iopub.status.idle": "2025-05-10T20:21:09.296199Z",
     "shell.execute_reply": "2025-05-10T20:21:09.295285Z",
     "shell.execute_reply.started": "2025-05-10T20:20:54.783590Z"
    },
    "trusted": true
   },
   "outputs": [
    {
     "data": {
      "text/html": [
       "<div>\n",
       "<style scoped>\n",
       "    .dataframe tbody tr th:only-of-type {\n",
       "        vertical-align: middle;\n",
       "    }\n",
       "\n",
       "    .dataframe tbody tr th {\n",
       "        vertical-align: top;\n",
       "    }\n",
       "\n",
       "    .dataframe thead th {\n",
       "        text-align: right;\n",
       "    }\n",
       "</style>\n",
       "<table border=\"1\" class=\"dataframe\">\n",
       "  <thead>\n",
       "    <tr style=\"text-align: right;\">\n",
       "      <th></th>\n",
       "      <th>id</th>\n",
       "      <th>submitter</th>\n",
       "      <th>authors</th>\n",
       "      <th>title</th>\n",
       "      <th>comments</th>\n",
       "      <th>journal-ref</th>\n",
       "      <th>doi</th>\n",
       "      <th>report-no</th>\n",
       "      <th>categories</th>\n",
       "      <th>license</th>\n",
       "      <th>abstract</th>\n",
       "      <th>versions</th>\n",
       "      <th>update_date</th>\n",
       "      <th>authors_parsed</th>\n",
       "      <th>splitted_categories</th>\n",
       "    </tr>\n",
       "  </thead>\n",
       "  <tbody>\n",
       "    <tr>\n",
       "      <th>0</th>\n",
       "      <td>0704.0001</td>\n",
       "      <td>Pavel Nadolsky</td>\n",
       "      <td>C. Bal\\'azs, E. L. Berger, P. M. Nadolsky, C.-...</td>\n",
       "      <td>Calculation of prompt diphoton production cros...</td>\n",
       "      <td>37 pages, 15 figures; published version</td>\n",
       "      <td>Phys.Rev.D76:013009,2007</td>\n",
       "      <td>10.1103/PhysRevD.76.013009</td>\n",
       "      <td>ANL-HEP-PR-07-12</td>\n",
       "      <td>hep-ph</td>\n",
       "      <td>None</td>\n",
       "      <td>A fully differential calculation in perturba...</td>\n",
       "      <td>[{'version': 'v1', 'created': 'Mon, 2 Apr 2007...</td>\n",
       "      <td>2008-11-26</td>\n",
       "      <td>[[Balázs, C., ], [Berger, E. L., ], [Nadolsky,...</td>\n",
       "      <td>hep-ph</td>\n",
       "    </tr>\n",
       "    <tr>\n",
       "      <th>1</th>\n",
       "      <td>0704.0002</td>\n",
       "      <td>Louis Theran</td>\n",
       "      <td>Ileana Streinu and Louis Theran</td>\n",
       "      <td>Sparsity-certifying Graph Decompositions</td>\n",
       "      <td>To appear in Graphs and Combinatorics</td>\n",
       "      <td>None</td>\n",
       "      <td>None</td>\n",
       "      <td>None</td>\n",
       "      <td>math.CO cs.CG</td>\n",
       "      <td>http://arxiv.org/licenses/nonexclusive-distrib...</td>\n",
       "      <td>We describe a new algorithm, the $(k,\\ell)$-...</td>\n",
       "      <td>[{'version': 'v1', 'created': 'Sat, 31 Mar 200...</td>\n",
       "      <td>2008-12-13</td>\n",
       "      <td>[[Streinu, Ileana, ], [Theran, Louis, ]]</td>\n",
       "      <td>math.CO</td>\n",
       "    </tr>\n",
       "    <tr>\n",
       "      <th>1</th>\n",
       "      <td>0704.0002</td>\n",
       "      <td>Louis Theran</td>\n",
       "      <td>Ileana Streinu and Louis Theran</td>\n",
       "      <td>Sparsity-certifying Graph Decompositions</td>\n",
       "      <td>To appear in Graphs and Combinatorics</td>\n",
       "      <td>None</td>\n",
       "      <td>None</td>\n",
       "      <td>None</td>\n",
       "      <td>math.CO cs.CG</td>\n",
       "      <td>http://arxiv.org/licenses/nonexclusive-distrib...</td>\n",
       "      <td>We describe a new algorithm, the $(k,\\ell)$-...</td>\n",
       "      <td>[{'version': 'v1', 'created': 'Sat, 31 Mar 200...</td>\n",
       "      <td>2008-12-13</td>\n",
       "      <td>[[Streinu, Ileana, ], [Theran, Louis, ]]</td>\n",
       "      <td>cs.CG</td>\n",
       "    </tr>\n",
       "    <tr>\n",
       "      <th>2</th>\n",
       "      <td>0704.0003</td>\n",
       "      <td>Hongjun Pan</td>\n",
       "      <td>Hongjun Pan</td>\n",
       "      <td>The evolution of the Earth-Moon system based o...</td>\n",
       "      <td>23 pages, 3 figures</td>\n",
       "      <td>None</td>\n",
       "      <td>None</td>\n",
       "      <td>None</td>\n",
       "      <td>physics.gen-ph</td>\n",
       "      <td>None</td>\n",
       "      <td>The evolution of Earth-Moon system is descri...</td>\n",
       "      <td>[{'version': 'v1', 'created': 'Sun, 1 Apr 2007...</td>\n",
       "      <td>2008-01-13</td>\n",
       "      <td>[[Pan, Hongjun, ]]</td>\n",
       "      <td>physics.gen-ph</td>\n",
       "    </tr>\n",
       "    <tr>\n",
       "      <th>3</th>\n",
       "      <td>0704.0004</td>\n",
       "      <td>David Callan</td>\n",
       "      <td>David Callan</td>\n",
       "      <td>A determinant of Stirling cycle numbers counts...</td>\n",
       "      <td>11 pages</td>\n",
       "      <td>None</td>\n",
       "      <td>None</td>\n",
       "      <td>None</td>\n",
       "      <td>math.CO</td>\n",
       "      <td>None</td>\n",
       "      <td>We show that a determinant of Stirling cycle...</td>\n",
       "      <td>[{'version': 'v1', 'created': 'Sat, 31 Mar 200...</td>\n",
       "      <td>2007-05-23</td>\n",
       "      <td>[[Callan, David, ]]</td>\n",
       "      <td>math.CO</td>\n",
       "    </tr>\n",
       "  </tbody>\n",
       "</table>\n",
       "</div>"
      ],
      "text/plain": [
       "          id       submitter  \\\n",
       "0  0704.0001  Pavel Nadolsky   \n",
       "1  0704.0002    Louis Theran   \n",
       "1  0704.0002    Louis Theran   \n",
       "2  0704.0003     Hongjun Pan   \n",
       "3  0704.0004    David Callan   \n",
       "\n",
       "                                             authors  \\\n",
       "0  C. Bal\\'azs, E. L. Berger, P. M. Nadolsky, C.-...   \n",
       "1                    Ileana Streinu and Louis Theran   \n",
       "1                    Ileana Streinu and Louis Theran   \n",
       "2                                        Hongjun Pan   \n",
       "3                                       David Callan   \n",
       "\n",
       "                                               title  \\\n",
       "0  Calculation of prompt diphoton production cros...   \n",
       "1           Sparsity-certifying Graph Decompositions   \n",
       "1           Sparsity-certifying Graph Decompositions   \n",
       "2  The evolution of the Earth-Moon system based o...   \n",
       "3  A determinant of Stirling cycle numbers counts...   \n",
       "\n",
       "                                  comments               journal-ref  \\\n",
       "0  37 pages, 15 figures; published version  Phys.Rev.D76:013009,2007   \n",
       "1    To appear in Graphs and Combinatorics                      None   \n",
       "1    To appear in Graphs and Combinatorics                      None   \n",
       "2                      23 pages, 3 figures                      None   \n",
       "3                                 11 pages                      None   \n",
       "\n",
       "                          doi         report-no      categories  \\\n",
       "0  10.1103/PhysRevD.76.013009  ANL-HEP-PR-07-12          hep-ph   \n",
       "1                        None              None   math.CO cs.CG   \n",
       "1                        None              None   math.CO cs.CG   \n",
       "2                        None              None  physics.gen-ph   \n",
       "3                        None              None         math.CO   \n",
       "\n",
       "                                             license  \\\n",
       "0                                               None   \n",
       "1  http://arxiv.org/licenses/nonexclusive-distrib...   \n",
       "1  http://arxiv.org/licenses/nonexclusive-distrib...   \n",
       "2                                               None   \n",
       "3                                               None   \n",
       "\n",
       "                                            abstract  \\\n",
       "0    A fully differential calculation in perturba...   \n",
       "1    We describe a new algorithm, the $(k,\\ell)$-...   \n",
       "1    We describe a new algorithm, the $(k,\\ell)$-...   \n",
       "2    The evolution of Earth-Moon system is descri...   \n",
       "3    We show that a determinant of Stirling cycle...   \n",
       "\n",
       "                                            versions update_date  \\\n",
       "0  [{'version': 'v1', 'created': 'Mon, 2 Apr 2007...  2008-11-26   \n",
       "1  [{'version': 'v1', 'created': 'Sat, 31 Mar 200...  2008-12-13   \n",
       "1  [{'version': 'v1', 'created': 'Sat, 31 Mar 200...  2008-12-13   \n",
       "2  [{'version': 'v1', 'created': 'Sun, 1 Apr 2007...  2008-01-13   \n",
       "3  [{'version': 'v1', 'created': 'Sat, 31 Mar 200...  2007-05-23   \n",
       "\n",
       "                                      authors_parsed splitted_categories  \n",
       "0  [[Balázs, C., ], [Berger, E. L., ], [Nadolsky,...              hep-ph  \n",
       "1           [[Streinu, Ileana, ], [Theran, Louis, ]]             math.CO  \n",
       "1           [[Streinu, Ileana, ], [Theran, Louis, ]]               cs.CG  \n",
       "2                                 [[Pan, Hongjun, ]]      physics.gen-ph  \n",
       "3                                [[Callan, David, ]]             math.CO  "
      ]
     },
     "execution_count": 15,
     "metadata": {},
     "output_type": "execute_result"
    }
   ],
   "source": [
    "df[\"splitted_categories\"] = df[\"categories\"].str.split()\n",
    "df_exploded = df.explode(\"splitted_categories\")\n",
    "df_exploded.head()"
   ]
  },
  {
   "cell_type": "code",
   "execution_count": 16,
   "metadata": {
    "execution": {
     "iopub.execute_input": "2025-05-10T20:21:09.297330Z",
     "iopub.status.busy": "2025-05-10T20:21:09.296993Z",
     "iopub.status.idle": "2025-05-10T20:21:10.464644Z",
     "shell.execute_reply": "2025-05-10T20:21:10.463901Z",
     "shell.execute_reply.started": "2025-05-10T20:21:09.297300Z"
    },
    "trusted": true
   },
   "outputs": [
    {
     "data": {
      "text/html": [
       "<div>\n",
       "<style scoped>\n",
       "    .dataframe tbody tr th:only-of-type {\n",
       "        vertical-align: middle;\n",
       "    }\n",
       "\n",
       "    .dataframe tbody tr th {\n",
       "        vertical-align: top;\n",
       "    }\n",
       "\n",
       "    .dataframe thead th {\n",
       "        text-align: right;\n",
       "    }\n",
       "</style>\n",
       "<table border=\"1\" class=\"dataframe\">\n",
       "  <thead>\n",
       "    <tr style=\"text-align: right;\">\n",
       "      <th></th>\n",
       "      <th>id</th>\n",
       "      <th>submitter</th>\n",
       "      <th>authors</th>\n",
       "      <th>title</th>\n",
       "      <th>comments</th>\n",
       "      <th>journal-ref</th>\n",
       "      <th>doi</th>\n",
       "      <th>report-no</th>\n",
       "      <th>categories</th>\n",
       "      <th>license</th>\n",
       "      <th>abstract</th>\n",
       "      <th>versions</th>\n",
       "      <th>update_date</th>\n",
       "      <th>authors_parsed</th>\n",
       "      <th>splitted_categories</th>\n",
       "      <th>category_name</th>\n",
       "    </tr>\n",
       "  </thead>\n",
       "  <tbody>\n",
       "    <tr>\n",
       "      <th>0</th>\n",
       "      <td>0704.0001</td>\n",
       "      <td>Pavel Nadolsky</td>\n",
       "      <td>C. Bal\\'azs, E. L. Berger, P. M. Nadolsky, C.-...</td>\n",
       "      <td>Calculation of prompt diphoton production cros...</td>\n",
       "      <td>37 pages, 15 figures; published version</td>\n",
       "      <td>Phys.Rev.D76:013009,2007</td>\n",
       "      <td>10.1103/PhysRevD.76.013009</td>\n",
       "      <td>ANL-HEP-PR-07-12</td>\n",
       "      <td>hep-ph</td>\n",
       "      <td>None</td>\n",
       "      <td>A fully differential calculation in perturba...</td>\n",
       "      <td>[{'version': 'v1', 'created': 'Mon, 2 Apr 2007...</td>\n",
       "      <td>2008-11-26</td>\n",
       "      <td>[[Balázs, C., ], [Berger, E. L., ], [Nadolsky,...</td>\n",
       "      <td>hep-ph</td>\n",
       "      <td>Physics</td>\n",
       "    </tr>\n",
       "    <tr>\n",
       "      <th>1</th>\n",
       "      <td>0704.0002</td>\n",
       "      <td>Louis Theran</td>\n",
       "      <td>Ileana Streinu and Louis Theran</td>\n",
       "      <td>Sparsity-certifying Graph Decompositions</td>\n",
       "      <td>To appear in Graphs and Combinatorics</td>\n",
       "      <td>None</td>\n",
       "      <td>None</td>\n",
       "      <td>None</td>\n",
       "      <td>math.CO cs.CG</td>\n",
       "      <td>http://arxiv.org/licenses/nonexclusive-distrib...</td>\n",
       "      <td>We describe a new algorithm, the $(k,\\ell)$-...</td>\n",
       "      <td>[{'version': 'v1', 'created': 'Sat, 31 Mar 200...</td>\n",
       "      <td>2008-12-13</td>\n",
       "      <td>[[Streinu, Ileana, ], [Theran, Louis, ]]</td>\n",
       "      <td>math.CO</td>\n",
       "      <td>Mathematics</td>\n",
       "    </tr>\n",
       "    <tr>\n",
       "      <th>1</th>\n",
       "      <td>0704.0002</td>\n",
       "      <td>Louis Theran</td>\n",
       "      <td>Ileana Streinu and Louis Theran</td>\n",
       "      <td>Sparsity-certifying Graph Decompositions</td>\n",
       "      <td>To appear in Graphs and Combinatorics</td>\n",
       "      <td>None</td>\n",
       "      <td>None</td>\n",
       "      <td>None</td>\n",
       "      <td>math.CO cs.CG</td>\n",
       "      <td>http://arxiv.org/licenses/nonexclusive-distrib...</td>\n",
       "      <td>We describe a new algorithm, the $(k,\\ell)$-...</td>\n",
       "      <td>[{'version': 'v1', 'created': 'Sat, 31 Mar 200...</td>\n",
       "      <td>2008-12-13</td>\n",
       "      <td>[[Streinu, Ileana, ], [Theran, Louis, ]]</td>\n",
       "      <td>cs.CG</td>\n",
       "      <td>Computer Science</td>\n",
       "    </tr>\n",
       "    <tr>\n",
       "      <th>2</th>\n",
       "      <td>0704.0003</td>\n",
       "      <td>Hongjun Pan</td>\n",
       "      <td>Hongjun Pan</td>\n",
       "      <td>The evolution of the Earth-Moon system based o...</td>\n",
       "      <td>23 pages, 3 figures</td>\n",
       "      <td>None</td>\n",
       "      <td>None</td>\n",
       "      <td>None</td>\n",
       "      <td>physics.gen-ph</td>\n",
       "      <td>None</td>\n",
       "      <td>The evolution of Earth-Moon system is descri...</td>\n",
       "      <td>[{'version': 'v1', 'created': 'Sun, 1 Apr 2007...</td>\n",
       "      <td>2008-01-13</td>\n",
       "      <td>[[Pan, Hongjun, ]]</td>\n",
       "      <td>physics.gen-ph</td>\n",
       "      <td>Physics</td>\n",
       "    </tr>\n",
       "    <tr>\n",
       "      <th>3</th>\n",
       "      <td>0704.0004</td>\n",
       "      <td>David Callan</td>\n",
       "      <td>David Callan</td>\n",
       "      <td>A determinant of Stirling cycle numbers counts...</td>\n",
       "      <td>11 pages</td>\n",
       "      <td>None</td>\n",
       "      <td>None</td>\n",
       "      <td>None</td>\n",
       "      <td>math.CO</td>\n",
       "      <td>None</td>\n",
       "      <td>We show that a determinant of Stirling cycle...</td>\n",
       "      <td>[{'version': 'v1', 'created': 'Sat, 31 Mar 200...</td>\n",
       "      <td>2007-05-23</td>\n",
       "      <td>[[Callan, David, ]]</td>\n",
       "      <td>math.CO</td>\n",
       "      <td>Mathematics</td>\n",
       "    </tr>\n",
       "  </tbody>\n",
       "</table>\n",
       "</div>"
      ],
      "text/plain": [
       "          id       submitter  \\\n",
       "0  0704.0001  Pavel Nadolsky   \n",
       "1  0704.0002    Louis Theran   \n",
       "1  0704.0002    Louis Theran   \n",
       "2  0704.0003     Hongjun Pan   \n",
       "3  0704.0004    David Callan   \n",
       "\n",
       "                                             authors  \\\n",
       "0  C. Bal\\'azs, E. L. Berger, P. M. Nadolsky, C.-...   \n",
       "1                    Ileana Streinu and Louis Theran   \n",
       "1                    Ileana Streinu and Louis Theran   \n",
       "2                                        Hongjun Pan   \n",
       "3                                       David Callan   \n",
       "\n",
       "                                               title  \\\n",
       "0  Calculation of prompt diphoton production cros...   \n",
       "1           Sparsity-certifying Graph Decompositions   \n",
       "1           Sparsity-certifying Graph Decompositions   \n",
       "2  The evolution of the Earth-Moon system based o...   \n",
       "3  A determinant of Stirling cycle numbers counts...   \n",
       "\n",
       "                                  comments               journal-ref  \\\n",
       "0  37 pages, 15 figures; published version  Phys.Rev.D76:013009,2007   \n",
       "1    To appear in Graphs and Combinatorics                      None   \n",
       "1    To appear in Graphs and Combinatorics                      None   \n",
       "2                      23 pages, 3 figures                      None   \n",
       "3                                 11 pages                      None   \n",
       "\n",
       "                          doi         report-no      categories  \\\n",
       "0  10.1103/PhysRevD.76.013009  ANL-HEP-PR-07-12          hep-ph   \n",
       "1                        None              None   math.CO cs.CG   \n",
       "1                        None              None   math.CO cs.CG   \n",
       "2                        None              None  physics.gen-ph   \n",
       "3                        None              None         math.CO   \n",
       "\n",
       "                                             license  \\\n",
       "0                                               None   \n",
       "1  http://arxiv.org/licenses/nonexclusive-distrib...   \n",
       "1  http://arxiv.org/licenses/nonexclusive-distrib...   \n",
       "2                                               None   \n",
       "3                                               None   \n",
       "\n",
       "                                            abstract  \\\n",
       "0    A fully differential calculation in perturba...   \n",
       "1    We describe a new algorithm, the $(k,\\ell)$-...   \n",
       "1    We describe a new algorithm, the $(k,\\ell)$-...   \n",
       "2    The evolution of Earth-Moon system is descri...   \n",
       "3    We show that a determinant of Stirling cycle...   \n",
       "\n",
       "                                            versions update_date  \\\n",
       "0  [{'version': 'v1', 'created': 'Mon, 2 Apr 2007...  2008-11-26   \n",
       "1  [{'version': 'v1', 'created': 'Sat, 31 Mar 200...  2008-12-13   \n",
       "1  [{'version': 'v1', 'created': 'Sat, 31 Mar 200...  2008-12-13   \n",
       "2  [{'version': 'v1', 'created': 'Sun, 1 Apr 2007...  2008-01-13   \n",
       "3  [{'version': 'v1', 'created': 'Sat, 31 Mar 200...  2007-05-23   \n",
       "\n",
       "                                      authors_parsed splitted_categories  \\\n",
       "0  [[Balázs, C., ], [Berger, E. L., ], [Nadolsky,...              hep-ph   \n",
       "1           [[Streinu, Ileana, ], [Theran, Louis, ]]             math.CO   \n",
       "1           [[Streinu, Ileana, ], [Theran, Louis, ]]               cs.CG   \n",
       "2                                 [[Pan, Hongjun, ]]      physics.gen-ph   \n",
       "3                                [[Callan, David, ]]             math.CO   \n",
       "\n",
       "      category_name  \n",
       "0           Physics  \n",
       "1       Mathematics  \n",
       "1  Computer Science  \n",
       "2           Physics  \n",
       "3       Mathematics  "
      ]
     },
     "execution_count": 16,
     "metadata": {},
     "output_type": "execute_result"
    }
   ],
   "source": [
    "# map category code to category name\n",
    "df_exploded[\"category_name\"] = (\n",
    "    df_exploded[\"splitted_categories\"].map(category_code_2_name).fillna(\"Not-defined\")\n",
    ")\n",
    "df_exploded.head()"
   ]
  },
  {
   "cell_type": "code",
   "execution_count": 17,
   "metadata": {
    "execution": {
     "iopub.execute_input": "2025-05-10T20:21:10.465724Z",
     "iopub.status.busy": "2025-05-10T20:21:10.465469Z",
     "iopub.status.idle": "2025-05-10T20:21:10.672047Z",
     "shell.execute_reply": "2025-05-10T20:21:10.671303Z",
     "shell.execute_reply.started": "2025-05-10T20:21:10.465700Z"
    },
    "trusted": true
   },
   "outputs": [
    {
     "data": {
      "text/plain": [
       "category_name\n",
       "Physics                                       2105415\n",
       "Computer Science                              1137583\n",
       "Mathematics                                    943141\n",
       "Statistics                                     156814\n",
       "Not-defined                                    132202\n",
       "Electrical Engineering and Systems Science     107599\n",
       "Quantitative Biology                            55401\n",
       "Quantitative Finance                            26384\n",
       "Economics                                       12385\n",
       "Name: count, dtype: int64"
      ]
     },
     "execution_count": 17,
     "metadata": {},
     "output_type": "execute_result"
    }
   ],
   "source": [
    "category_name_counts = df_exploded[\"category_name\"].value_counts()\n",
    "category_name_counts"
   ]
  },
  {
   "cell_type": "markdown",
   "metadata": {},
   "source": [
    "`Physics` category is most common field of research, followed by `Computer Science` and `Mathematics`"
   ]
  },
  {
   "cell_type": "code",
   "execution_count": 18,
   "metadata": {
    "execution": {
     "iopub.execute_input": "2025-05-10T20:21:10.673613Z",
     "iopub.status.busy": "2025-05-10T20:21:10.672847Z",
     "iopub.status.idle": "2025-05-10T20:21:11.007459Z",
     "shell.execute_reply": "2025-05-10T20:21:11.006746Z",
     "shell.execute_reply.started": "2025-05-10T20:21:10.673593Z"
    },
    "trusted": true
   },
   "outputs": [
    {
     "data": {
      "image/png": "[encoded data removed]",
      "text/plain": [
       "<Figure size 1600x800 with 1 Axes>"
      ]
     },
     "metadata": {},
     "output_type": "display_data"
    }
   ],
   "source": [
    "ylabel = \"Categories\"\n",
    "title = \"Number of occurence of each category\"\n",
    "plot_series_counts(category_name_counts, ylabel, title)"
   ]
  },
  {
   "cell_type": "code",
   "execution_count": 19,
   "metadata": {
    "execution": {
     "iopub.execute_input": "2025-05-10T20:21:11.008632Z",
     "iopub.status.busy": "2025-05-10T20:21:11.008441Z",
     "iopub.status.idle": "2025-05-10T20:21:11.407656Z",
     "shell.execute_reply": "2025-05-10T20:21:11.407042Z",
     "shell.execute_reply.started": "2025-05-10T20:21:11.008618Z"
    },
    "trusted": true
   },
   "outputs": [
    {
     "data": {
      "text/html": [
       "<div>\n",
       "<style scoped>\n",
       "    .dataframe tbody tr th:only-of-type {\n",
       "        vertical-align: middle;\n",
       "    }\n",
       "\n",
       "    .dataframe tbody tr th {\n",
       "        vertical-align: top;\n",
       "    }\n",
       "\n",
       "    .dataframe thead th {\n",
       "        text-align: right;\n",
       "    }\n",
       "</style>\n",
       "<table border=\"1\" class=\"dataframe\">\n",
       "  <thead>\n",
       "    <tr style=\"text-align: right;\">\n",
       "      <th></th>\n",
       "      <th>id</th>\n",
       "      <th>submitter</th>\n",
       "      <th>authors</th>\n",
       "      <th>title</th>\n",
       "      <th>comments</th>\n",
       "      <th>journal-ref</th>\n",
       "      <th>doi</th>\n",
       "      <th>report-no</th>\n",
       "      <th>categories</th>\n",
       "      <th>license</th>\n",
       "      <th>abstract</th>\n",
       "      <th>versions</th>\n",
       "      <th>update_date</th>\n",
       "      <th>authors_parsed</th>\n",
       "      <th>splitted_categories</th>\n",
       "      <th>category_name</th>\n",
       "    </tr>\n",
       "  </thead>\n",
       "  <tbody>\n",
       "    <tr>\n",
       "      <th>8</th>\n",
       "      <td>0704.0009</td>\n",
       "      <td>Paul Harvey</td>\n",
       "      <td>Paul Harvey, Bruno Merin, Tracy L. Huard, Luis...</td>\n",
       "      <td>The Spitzer c2d Survey of Large, Nearby, Inste...</td>\n",
       "      <td>None</td>\n",
       "      <td>Astrophys.J.663:1149-1173,2007</td>\n",
       "      <td>10.1086/518646</td>\n",
       "      <td>None</td>\n",
       "      <td>astro-ph</td>\n",
       "      <td>None</td>\n",
       "      <td>We discuss the results from the combined IRA...</td>\n",
       "      <td>[{'version': 'v1', 'created': 'Mon, 2 Apr 2007...</td>\n",
       "      <td>2010-03-18</td>\n",
       "      <td>[[Harvey, Paul, ], [Merin, Bruno, ], [Huard, T...</td>\n",
       "      <td>astro-ph</td>\n",
       "      <td>Not-defined</td>\n",
       "    </tr>\n",
       "    <tr>\n",
       "      <th>16</th>\n",
       "      <td>0704.0017</td>\n",
       "      <td>Nceba Mhlahlo</td>\n",
       "      <td>Nceba Mhlahlo, David H. Buckley, Vikram S. Dhi...</td>\n",
       "      <td>Spectroscopic Observations of the Intermediate...</td>\n",
       "      <td>10 pages, 11 figures (figures 3, 4, 7 and 8 at...</td>\n",
       "      <td>Mon.Not.Roy.Astron.Soc.378:211-220,2007</td>\n",
       "      <td>10.1111/j.1365-2966.2007.11762.x</td>\n",
       "      <td>None</td>\n",
       "      <td>astro-ph</td>\n",
       "      <td>None</td>\n",
       "      <td>Results from spectroscopic observations of t...</td>\n",
       "      <td>[{'version': 'v1', 'created': 'Sat, 31 Mar 200...</td>\n",
       "      <td>2009-06-23</td>\n",
       "      <td>[[Mhlahlo, Nceba, ], [Buckley, David H., ], [D...</td>\n",
       "      <td>astro-ph</td>\n",
       "      <td>Not-defined</td>\n",
       "    </tr>\n",
       "    <tr>\n",
       "      <th>22</th>\n",
       "      <td>0704.0023</td>\n",
       "      <td>Maria Loukitcheva</td>\n",
       "      <td>M. A. Loukitcheva, S. K. Solanki and S. White</td>\n",
       "      <td>ALMA as the ideal probe of the solar chromosphere</td>\n",
       "      <td>4 pages, 2 figures, to appear in the proceedin...</td>\n",
       "      <td>Astrophys.Space Sci.313:197-200,2008</td>\n",
       "      <td>10.1007/s10509-007-9626-1</td>\n",
       "      <td>None</td>\n",
       "      <td>astro-ph</td>\n",
       "      <td>None</td>\n",
       "      <td>The very nature of the solar chromosphere, i...</td>\n",
       "      <td>[{'version': 'v1', 'created': 'Sat, 31 Mar 200...</td>\n",
       "      <td>2009-06-23</td>\n",
       "      <td>[[Loukitcheva, M. A., ], [Solanki, S. K., ], [...</td>\n",
       "      <td>astro-ph</td>\n",
       "      <td>Not-defined</td>\n",
       "    </tr>\n",
       "    <tr>\n",
       "      <th>43</th>\n",
       "      <td>0704.0044</td>\n",
       "      <td>Alexander Schekochihin</td>\n",
       "      <td>A. A. Schekochihin (Oxford), S. C. Cowley (Cul...</td>\n",
       "      <td>Astrophysical gyrokinetics: kinetic and fluid ...</td>\n",
       "      <td>aastex using emulateapj, 65 pages, 10 figures;...</td>\n",
       "      <td>ApJS 182, 310 (2009)</td>\n",
       "      <td>10.1088/0067-0049/182/1/310</td>\n",
       "      <td>None</td>\n",
       "      <td>astro-ph nlin.CD physics.plasm-ph physics.spac...</td>\n",
       "      <td>http://arxiv.org/licenses/nonexclusive-distrib...</td>\n",
       "      <td>We present a theoretical framework for plasm...</td>\n",
       "      <td>[{'version': 'v1', 'created': 'Sat, 31 Mar 200...</td>\n",
       "      <td>2015-05-13</td>\n",
       "      <td>[[Schekochihin, A. A., , Oxford], [Cowley, S. ...</td>\n",
       "      <td>astro-ph</td>\n",
       "      <td>Not-defined</td>\n",
       "    </tr>\n",
       "    <tr>\n",
       "      <th>47</th>\n",
       "      <td>0704.0048</td>\n",
       "      <td>Alexander Stroeer</td>\n",
       "      <td>Alexander Stroeer, John Veitch, Christian Roev...</td>\n",
       "      <td>Inference on white dwarf binary systems using ...</td>\n",
       "      <td>GWDAW-11 proceeding, submitted to CQG, 10 page...</td>\n",
       "      <td>Class.Quant.Grav.24:S541-S550,2007</td>\n",
       "      <td>10.1088/0264-9381/24/19/S17</td>\n",
       "      <td>None</td>\n",
       "      <td>gr-qc astro-ph</td>\n",
       "      <td>None</td>\n",
       "      <td>We report on the analysis of selected single...</td>\n",
       "      <td>[{'version': 'v1', 'created': 'Sat, 31 Mar 200...</td>\n",
       "      <td>2008-11-26</td>\n",
       "      <td>[[Stroeer, Alexander, ], [Veitch, John, ], [Ro...</td>\n",
       "      <td>astro-ph</td>\n",
       "      <td>Not-defined</td>\n",
       "    </tr>\n",
       "    <tr>\n",
       "      <th>...</th>\n",
       "      <td>...</td>\n",
       "      <td>...</td>\n",
       "      <td>...</td>\n",
       "      <td>...</td>\n",
       "      <td>...</td>\n",
       "      <td>...</td>\n",
       "      <td>...</td>\n",
       "      <td>...</td>\n",
       "      <td>...</td>\n",
       "      <td>...</td>\n",
       "      <td>...</td>\n",
       "      <td>...</td>\n",
       "      <td>...</td>\n",
       "      <td>...</td>\n",
       "      <td>...</td>\n",
       "      <td>...</td>\n",
       "    </tr>\n",
       "    <tr>\n",
       "      <th>2725396</th>\n",
       "      <td>supr-con/9608008</td>\n",
       "      <td>Ruslan Prozorov</td>\n",
       "      <td>R. Prozorov, M. Konczykowski, B. Schmidt, Y. Y...</td>\n",
       "      <td>On the origin of the irreversibility line in t...</td>\n",
       "      <td>19 pages, LaTex, 6 PostScript figures; Author'...</td>\n",
       "      <td>None</td>\n",
       "      <td>10.1103/PhysRevB.54.15530</td>\n",
       "      <td>None</td>\n",
       "      <td>supr-con cond-mat.supr-con</td>\n",
       "      <td>None</td>\n",
       "      <td>We report on measurements of the angular dep...</td>\n",
       "      <td>[{'version': 'v1', 'created': 'Mon, 26 Aug 199...</td>\n",
       "      <td>2009-10-30</td>\n",
       "      <td>[[Prozorov, R., ], [Konczykowski, M., ], [Schm...</td>\n",
       "      <td>supr-con</td>\n",
       "      <td>Not-defined</td>\n",
       "    </tr>\n",
       "    <tr>\n",
       "      <th>2725397</th>\n",
       "      <td>supr-con/9609001</td>\n",
       "      <td>Durga P. Choudhury</td>\n",
       "      <td>Durga P. Choudhury, Balam A. Willemsen, John S...</td>\n",
       "      <td>Nonlinear Response of HTSC Thin Film Microwave...</td>\n",
       "      <td>4 pages, LaTeX type, Uses IEEE style files, 60...</td>\n",
       "      <td>None</td>\n",
       "      <td>10.1109/77.620744</td>\n",
       "      <td>None</td>\n",
       "      <td>supr-con cond-mat.supr-con</td>\n",
       "      <td>None</td>\n",
       "      <td>The non-linear microwave surface impedance o...</td>\n",
       "      <td>[{'version': 'v1', 'created': 'Sat, 31 Aug 199...</td>\n",
       "      <td>2016-11-18</td>\n",
       "      <td>[[Choudhury, Durga P., , Physics Department, N...</td>\n",
       "      <td>supr-con</td>\n",
       "      <td>Not-defined</td>\n",
       "    </tr>\n",
       "    <tr>\n",
       "      <th>2725398</th>\n",
       "      <td>supr-con/9609002</td>\n",
       "      <td>Durga P. Choudhury</td>\n",
       "      <td>Balam A. Willemsen, J. S. Derov and S.Sridhar ...</td>\n",
       "      <td>Critical State Flux Penetration and Linear Mic...</td>\n",
       "      <td>20 pages, LaTeX type, Uses REVTeX style files,...</td>\n",
       "      <td>None</td>\n",
       "      <td>10.1103/PhysRevB.56.11989</td>\n",
       "      <td>None</td>\n",
       "      <td>supr-con cond-mat.supr-con</td>\n",
       "      <td>None</td>\n",
       "      <td>The vortex contribution to the dc field (H) ...</td>\n",
       "      <td>[{'version': 'v1', 'created': 'Tue, 3 Sep 1996...</td>\n",
       "      <td>2009-10-30</td>\n",
       "      <td>[[Willemsen, Balam A., , Physics Department,\\n...</td>\n",
       "      <td>supr-con</td>\n",
       "      <td>Not-defined</td>\n",
       "    </tr>\n",
       "    <tr>\n",
       "      <th>2725399</th>\n",
       "      <td>supr-con/9609003</td>\n",
       "      <td>Hasegawa Yasumasa</td>\n",
       "      <td>Yasumasa Hasegawa (Himeji Institute of Technol...</td>\n",
       "      <td>Density of States and NMR Relaxation Rate in A...</td>\n",
       "      <td>7 pages, 4 PostScript Figures, LaTeX, to appea...</td>\n",
       "      <td>None</td>\n",
       "      <td>10.1143/JPSJ.65.3131</td>\n",
       "      <td>None</td>\n",
       "      <td>supr-con cond-mat.supr-con</td>\n",
       "      <td>None</td>\n",
       "      <td>We show that the density of states in an ani...</td>\n",
       "      <td>[{'version': 'v1', 'created': 'Wed, 18 Sep 199...</td>\n",
       "      <td>2009-10-30</td>\n",
       "      <td>[[Hasegawa, Yasumasa, , Himeji Institute of Te...</td>\n",
       "      <td>supr-con</td>\n",
       "      <td>Not-defined</td>\n",
       "    </tr>\n",
       "    <tr>\n",
       "      <th>2725400</th>\n",
       "      <td>supr-con/9609004</td>\n",
       "      <td>Masanori Ichioka</td>\n",
       "      <td>Naoki Enomoto, Masanori Ichioka and Kazushige ...</td>\n",
       "      <td>Ginzburg Landau theory for d-wave pairing and ...</td>\n",
       "      <td>12 pages including 8 eps figs, LaTeX with jpsj...</td>\n",
       "      <td>J. Phys. Soc. Jpn. 66, 204 (1997).</td>\n",
       "      <td>10.1143/JPSJ.66.204</td>\n",
       "      <td>None</td>\n",
       "      <td>supr-con cond-mat.supr-con</td>\n",
       "      <td>None</td>\n",
       "      <td>The Ginzburg Landau theory for d_{x^2-y^2}-w...</td>\n",
       "      <td>[{'version': 'v1', 'created': 'Wed, 25 Sep 199...</td>\n",
       "      <td>2009-10-30</td>\n",
       "      <td>[[Enomoto, Naoki, , Okayama Univ.], [Ichioka, ...</td>\n",
       "      <td>supr-con</td>\n",
       "      <td>Not-defined</td>\n",
       "    </tr>\n",
       "  </tbody>\n",
       "</table>\n",
       "<p>132202 rows × 16 columns</p>\n",
       "</div>"
      ],
      "text/plain": [
       "                       id               submitter  \\\n",
       "8               0704.0009             Paul Harvey   \n",
       "16              0704.0017           Nceba Mhlahlo   \n",
       "22              0704.0023       Maria Loukitcheva   \n",
       "43              0704.0044  Alexander Schekochihin   \n",
       "47              0704.0048       Alexander Stroeer   \n",
       "...                   ...                     ...   \n",
       "2725396  supr-con/9608008         Ruslan Prozorov   \n",
       "2725397  supr-con/9609001      Durga P. Choudhury   \n",
       "2725398  supr-con/9609002      Durga P. Choudhury   \n",
       "2725399  supr-con/9609003       Hasegawa Yasumasa   \n",
       "2725400  supr-con/9609004        Masanori Ichioka   \n",
       "\n",
       "                                                   authors  \\\n",
       "8        Paul Harvey, Bruno Merin, Tracy L. Huard, Luis...   \n",
       "16       Nceba Mhlahlo, David H. Buckley, Vikram S. Dhi...   \n",
       "22           M. A. Loukitcheva, S. K. Solanki and S. White   \n",
       "43       A. A. Schekochihin (Oxford), S. C. Cowley (Cul...   \n",
       "47       Alexander Stroeer, John Veitch, Christian Roev...   \n",
       "...                                                    ...   \n",
       "2725396  R. Prozorov, M. Konczykowski, B. Schmidt, Y. Y...   \n",
       "2725397  Durga P. Choudhury, Balam A. Willemsen, John S...   \n",
       "2725398  Balam A. Willemsen, J. S. Derov and S.Sridhar ...   \n",
       "2725399  Yasumasa Hasegawa (Himeji Institute of Technol...   \n",
       "2725400  Naoki Enomoto, Masanori Ichioka and Kazushige ...   \n",
       "\n",
       "                                                     title  \\\n",
       "8        The Spitzer c2d Survey of Large, Nearby, Inste...   \n",
       "16       Spectroscopic Observations of the Intermediate...   \n",
       "22       ALMA as the ideal probe of the solar chromosphere   \n",
       "43       Astrophysical gyrokinetics: kinetic and fluid ...   \n",
       "47       Inference on white dwarf binary systems using ...   \n",
       "...                                                    ...   \n",
       "2725396  On the origin of the irreversibility line in t...   \n",
       "2725397  Nonlinear Response of HTSC Thin Film Microwave...   \n",
       "2725398  Critical State Flux Penetration and Linear Mic...   \n",
       "2725399  Density of States and NMR Relaxation Rate in A...   \n",
       "2725400  Ginzburg Landau theory for d-wave pairing and ...   \n",
       "\n",
       "                                                  comments  \\\n",
       "8                                                     None   \n",
       "16       10 pages, 11 figures (figures 3, 4, 7 and 8 at...   \n",
       "22       4 pages, 2 figures, to appear in the proceedin...   \n",
       "43       aastex using emulateapj, 65 pages, 10 figures;...   \n",
       "47       GWDAW-11 proceeding, submitted to CQG, 10 page...   \n",
       "...                                                    ...   \n",
       "2725396  19 pages, LaTex, 6 PostScript figures; Author'...   \n",
       "2725397  4 pages, LaTeX type, Uses IEEE style files, 60...   \n",
       "2725398  20 pages, LaTeX type, Uses REVTeX style files,...   \n",
       "2725399  7 pages, 4 PostScript Figures, LaTeX, to appea...   \n",
       "2725400  12 pages including 8 eps figs, LaTeX with jpsj...   \n",
       "\n",
       "                                     journal-ref  \\\n",
       "8                 Astrophys.J.663:1149-1173,2007   \n",
       "16       Mon.Not.Roy.Astron.Soc.378:211-220,2007   \n",
       "22          Astrophys.Space Sci.313:197-200,2008   \n",
       "43                          ApJS 182, 310 (2009)   \n",
       "47            Class.Quant.Grav.24:S541-S550,2007   \n",
       "...                                          ...   \n",
       "2725396                                     None   \n",
       "2725397                                     None   \n",
       "2725398                                     None   \n",
       "2725399                                     None   \n",
       "2725400       J. Phys. Soc. Jpn. 66, 204 (1997).   \n",
       "\n",
       "                                      doi report-no  \\\n",
       "8                          10.1086/518646      None   \n",
       "16       10.1111/j.1365-2966.2007.11762.x      None   \n",
       "22              10.1007/s10509-007-9626-1      None   \n",
       "43            10.1088/0067-0049/182/1/310      None   \n",
       "47            10.1088/0264-9381/24/19/S17      None   \n",
       "...                                   ...       ...   \n",
       "2725396         10.1103/PhysRevB.54.15530      None   \n",
       "2725397                 10.1109/77.620744      None   \n",
       "2725398         10.1103/PhysRevB.56.11989      None   \n",
       "2725399              10.1143/JPSJ.65.3131      None   \n",
       "2725400               10.1143/JPSJ.66.204      None   \n",
       "\n",
       "                                                categories  \\\n",
       "8                                                 astro-ph   \n",
       "16                                                astro-ph   \n",
       "22                                                astro-ph   \n",
       "43       astro-ph nlin.CD physics.plasm-ph physics.spac...   \n",
       "47                                          gr-qc astro-ph   \n",
       "...                                                    ...   \n",
       "2725396                         supr-con cond-mat.supr-con   \n",
       "2725397                         supr-con cond-mat.supr-con   \n",
       "2725398                         supr-con cond-mat.supr-con   \n",
       "2725399                         supr-con cond-mat.supr-con   \n",
       "2725400                         supr-con cond-mat.supr-con   \n",
       "\n",
       "                                                   license  \\\n",
       "8                                                     None   \n",
       "16                                                    None   \n",
       "22                                                    None   \n",
       "43       http://arxiv.org/licenses/nonexclusive-distrib...   \n",
       "47                                                    None   \n",
       "...                                                    ...   \n",
       "2725396                                               None   \n",
       "2725397                                               None   \n",
       "2725398                                               None   \n",
       "2725399                                               None   \n",
       "2725400                                               None   \n",
       "\n",
       "                                                  abstract  \\\n",
       "8          We discuss the results from the combined IRA...   \n",
       "16         Results from spectroscopic observations of t...   \n",
       "22         The very nature of the solar chromosphere, i...   \n",
       "43         We present a theoretical framework for plasm...   \n",
       "47         We report on the analysis of selected single...   \n",
       "...                                                    ...   \n",
       "2725396    We report on measurements of the angular dep...   \n",
       "2725397    The non-linear microwave surface impedance o...   \n",
       "2725398    The vortex contribution to the dc field (H) ...   \n",
       "2725399    We show that the density of states in an ani...   \n",
       "2725400    The Ginzburg Landau theory for d_{x^2-y^2}-w...   \n",
       "\n",
       "                                                  versions update_date  \\\n",
       "8        [{'version': 'v1', 'created': 'Mon, 2 Apr 2007...  2010-03-18   \n",
       "16       [{'version': 'v1', 'created': 'Sat, 31 Mar 200...  2009-06-23   \n",
       "22       [{'version': 'v1', 'created': 'Sat, 31 Mar 200...  2009-06-23   \n",
       "43       [{'version': 'v1', 'created': 'Sat, 31 Mar 200...  2015-05-13   \n",
       "47       [{'version': 'v1', 'created': 'Sat, 31 Mar 200...  2008-11-26   \n",
       "...                                                    ...         ...   \n",
       "2725396  [{'version': 'v1', 'created': 'Mon, 26 Aug 199...  2009-10-30   \n",
       "2725397  [{'version': 'v1', 'created': 'Sat, 31 Aug 199...  2016-11-18   \n",
       "2725398  [{'version': 'v1', 'created': 'Tue, 3 Sep 1996...  2009-10-30   \n",
       "2725399  [{'version': 'v1', 'created': 'Wed, 18 Sep 199...  2009-10-30   \n",
       "2725400  [{'version': 'v1', 'created': 'Wed, 25 Sep 199...  2009-10-30   \n",
       "\n",
       "                                            authors_parsed  \\\n",
       "8        [[Harvey, Paul, ], [Merin, Bruno, ], [Huard, T...   \n",
       "16       [[Mhlahlo, Nceba, ], [Buckley, David H., ], [D...   \n",
       "22       [[Loukitcheva, M. A., ], [Solanki, S. K., ], [...   \n",
       "43       [[Schekochihin, A. A., , Oxford], [Cowley, S. ...   \n",
       "47       [[Stroeer, Alexander, ], [Veitch, John, ], [Ro...   \n",
       "...                                                    ...   \n",
       "2725396  [[Prozorov, R., ], [Konczykowski, M., ], [Schm...   \n",
       "2725397  [[Choudhury, Durga P., , Physics Department, N...   \n",
       "2725398  [[Willemsen, Balam A., , Physics Department,\\n...   \n",
       "2725399  [[Hasegawa, Yasumasa, , Himeji Institute of Te...   \n",
       "2725400  [[Enomoto, Naoki, , Okayama Univ.], [Ichioka, ...   \n",
       "\n",
       "        splitted_categories category_name  \n",
       "8                  astro-ph   Not-defined  \n",
       "16                 astro-ph   Not-defined  \n",
       "22                 astro-ph   Not-defined  \n",
       "43                 astro-ph   Not-defined  \n",
       "47                 astro-ph   Not-defined  \n",
       "...                     ...           ...  \n",
       "2725396            supr-con   Not-defined  \n",
       "2725397            supr-con   Not-defined  \n",
       "2725398            supr-con   Not-defined  \n",
       "2725399            supr-con   Not-defined  \n",
       "2725400            supr-con   Not-defined  \n",
       "\n",
       "[132202 rows x 16 columns]"
      ]
     },
     "execution_count": 19,
     "metadata": {},
     "output_type": "execute_result"
    }
   ],
   "source": [
    "# not defined codes\n",
    "records_with_not_defined_category = df_exploded[\n",
    "    df_exploded[\"category_name\"] == \"Not-defined\"\n",
    "]\n",
    "records_with_not_defined_category"
   ]
  },
  {
   "cell_type": "code",
   "execution_count": 20,
   "metadata": {
    "execution": {
     "iopub.execute_input": "2025-05-10T20:21:11.408490Z",
     "iopub.status.busy": "2025-05-10T20:21:11.408302Z",
     "iopub.status.idle": "2025-05-10T20:21:11.439290Z",
     "shell.execute_reply": "2025-05-10T20:21:11.438730Z",
     "shell.execute_reply.started": "2025-05-10T20:21:11.408474Z"
    },
    "trusted": true
   },
   "outputs": [
    {
     "data": {
      "text/plain": [
       "array(['astro-ph', 'acc-phys', 'adap-org', 'q-bio', 'cond-mat',\n",
       "       'chao-dyn', 'patt-sol', 'dg-ga', 'solv-int', 'bayes-an',\n",
       "       'comp-gas', 'alg-geom', 'funct-an', 'q-alg', 'ao-sci', 'atom-ph',\n",
       "       'chem-ph', 'plasm-ph', 'mtrl-th', 'cmp-lg', 'supr-con'],\n",
       "      dtype=object)"
      ]
     },
     "execution_count": 20,
     "metadata": {},
     "output_type": "execute_result"
    }
   ],
   "source": [
    "records_with_not_defined_category[\"splitted_categories\"].unique()"
   ]
  },
  {
   "cell_type": "markdown",
   "metadata": {},
   "source": [
    "#### Analyzing original categories\n",
    "\n",
    "We analyzed the categories as they appeared in the dataset to understand common category combinations and how they are assigned to papers."
   ]
  },
  {
   "cell_type": "code",
   "execution_count": 21,
   "metadata": {
    "execution": {
     "iopub.execute_input": "2025-05-10T20:21:11.440219Z",
     "iopub.status.busy": "2025-05-10T20:21:11.439955Z",
     "iopub.status.idle": "2025-05-10T20:21:11.443916Z",
     "shell.execute_reply": "2025-05-10T20:21:11.443368Z",
     "shell.execute_reply.started": "2025-05-10T20:21:11.440195Z"
    },
    "trusted": true
   },
   "outputs": [],
   "source": [
    "def map_categories(categories):\n",
    "    category_names = {\n",
    "        category_code_2_name.get(cat, \"Not-defined\") for cat in categories.split()\n",
    "    }\n",
    "    return \", \".join(category_names)"
   ]
  },
  {
   "cell_type": "code",
   "execution_count": 22,
   "metadata": {
    "execution": {
     "iopub.execute_input": "2025-05-10T20:21:11.445162Z",
     "iopub.status.busy": "2025-05-10T20:21:11.444696Z",
     "iopub.status.idle": "2025-05-10T20:21:13.987619Z",
     "shell.execute_reply": "2025-05-10T20:21:13.986884Z",
     "shell.execute_reply.started": "2025-05-10T20:21:11.445139Z"
    },
    "trusted": true
   },
   "outputs": [
    {
     "data": {
      "text/html": [
       "<div>\n",
       "<style scoped>\n",
       "    .dataframe tbody tr th:only-of-type {\n",
       "        vertical-align: middle;\n",
       "    }\n",
       "\n",
       "    .dataframe tbody tr th {\n",
       "        vertical-align: top;\n",
       "    }\n",
       "\n",
       "    .dataframe thead th {\n",
       "        text-align: right;\n",
       "    }\n",
       "</style>\n",
       "<table border=\"1\" class=\"dataframe\">\n",
       "  <thead>\n",
       "    <tr style=\"text-align: right;\">\n",
       "      <th></th>\n",
       "      <th>id</th>\n",
       "      <th>submitter</th>\n",
       "      <th>authors</th>\n",
       "      <th>title</th>\n",
       "      <th>comments</th>\n",
       "      <th>journal-ref</th>\n",
       "      <th>doi</th>\n",
       "      <th>report-no</th>\n",
       "      <th>categories</th>\n",
       "      <th>license</th>\n",
       "      <th>abstract</th>\n",
       "      <th>versions</th>\n",
       "      <th>update_date</th>\n",
       "      <th>authors_parsed</th>\n",
       "      <th>splitted_categories</th>\n",
       "      <th>mapped_categories</th>\n",
       "    </tr>\n",
       "  </thead>\n",
       "  <tbody>\n",
       "    <tr>\n",
       "      <th>0</th>\n",
       "      <td>0704.0001</td>\n",
       "      <td>Pavel Nadolsky</td>\n",
       "      <td>C. Bal\\'azs, E. L. Berger, P. M. Nadolsky, C.-...</td>\n",
       "      <td>Calculation of prompt diphoton production cros...</td>\n",
       "      <td>37 pages, 15 figures; published version</td>\n",
       "      <td>Phys.Rev.D76:013009,2007</td>\n",
       "      <td>10.1103/PhysRevD.76.013009</td>\n",
       "      <td>ANL-HEP-PR-07-12</td>\n",
       "      <td>hep-ph</td>\n",
       "      <td>None</td>\n",
       "      <td>A fully differential calculation in perturba...</td>\n",
       "      <td>[{'version': 'v1', 'created': 'Mon, 2 Apr 2007...</td>\n",
       "      <td>2008-11-26</td>\n",
       "      <td>[[Balázs, C., ], [Berger, E. L., ], [Nadolsky,...</td>\n",
       "      <td>[hep-ph]</td>\n",
       "      <td>Physics</td>\n",
       "    </tr>\n",
       "    <tr>\n",
       "      <th>1</th>\n",
       "      <td>0704.0002</td>\n",
       "      <td>Louis Theran</td>\n",
       "      <td>Ileana Streinu and Louis Theran</td>\n",
       "      <td>Sparsity-certifying Graph Decompositions</td>\n",
       "      <td>To appear in Graphs and Combinatorics</td>\n",
       "      <td>None</td>\n",
       "      <td>None</td>\n",
       "      <td>None</td>\n",
       "      <td>math.CO cs.CG</td>\n",
       "      <td>http://arxiv.org/licenses/nonexclusive-distrib...</td>\n",
       "      <td>We describe a new algorithm, the $(k,\\ell)$-...</td>\n",
       "      <td>[{'version': 'v1', 'created': 'Sat, 31 Mar 200...</td>\n",
       "      <td>2008-12-13</td>\n",
       "      <td>[[Streinu, Ileana, ], [Theran, Louis, ]]</td>\n",
       "      <td>[math.CO, cs.CG]</td>\n",
       "      <td>Mathematics, Computer Science</td>\n",
       "    </tr>\n",
       "    <tr>\n",
       "      <th>2</th>\n",
       "      <td>0704.0003</td>\n",
       "      <td>Hongjun Pan</td>\n",
       "      <td>Hongjun Pan</td>\n",
       "      <td>The evolution of the Earth-Moon system based o...</td>\n",
       "      <td>23 pages, 3 figures</td>\n",
       "      <td>None</td>\n",
       "      <td>None</td>\n",
       "      <td>None</td>\n",
       "      <td>physics.gen-ph</td>\n",
       "      <td>None</td>\n",
       "      <td>The evolution of Earth-Moon system is descri...</td>\n",
       "      <td>[{'version': 'v1', 'created': 'Sun, 1 Apr 2007...</td>\n",
       "      <td>2008-01-13</td>\n",
       "      <td>[[Pan, Hongjun, ]]</td>\n",
       "      <td>[physics.gen-ph]</td>\n",
       "      <td>Physics</td>\n",
       "    </tr>\n",
       "    <tr>\n",
       "      <th>3</th>\n",
       "      <td>0704.0004</td>\n",
       "      <td>David Callan</td>\n",
       "      <td>David Callan</td>\n",
       "      <td>A determinant of Stirling cycle numbers counts...</td>\n",
       "      <td>11 pages</td>\n",
       "      <td>None</td>\n",
       "      <td>None</td>\n",
       "      <td>None</td>\n",
       "      <td>math.CO</td>\n",
       "      <td>None</td>\n",
       "      <td>We show that a determinant of Stirling cycle...</td>\n",
       "      <td>[{'version': 'v1', 'created': 'Sat, 31 Mar 200...</td>\n",
       "      <td>2007-05-23</td>\n",
       "      <td>[[Callan, David, ]]</td>\n",
       "      <td>[math.CO]</td>\n",
       "      <td>Mathematics</td>\n",
       "    </tr>\n",
       "    <tr>\n",
       "      <th>4</th>\n",
       "      <td>0704.0005</td>\n",
       "      <td>Alberto Torchinsky</td>\n",
       "      <td>Wael Abu-Shammala and Alberto Torchinsky</td>\n",
       "      <td>From dyadic $\\Lambda_{\\alpha}$ to $\\Lambda_{\\a...</td>\n",
       "      <td>None</td>\n",
       "      <td>Illinois J. Math. 52 (2008) no.2, 681-689</td>\n",
       "      <td>None</td>\n",
       "      <td>None</td>\n",
       "      <td>math.CA math.FA</td>\n",
       "      <td>None</td>\n",
       "      <td>In this paper we show how to compute the $\\L...</td>\n",
       "      <td>[{'version': 'v1', 'created': 'Mon, 2 Apr 2007...</td>\n",
       "      <td>2013-10-15</td>\n",
       "      <td>[[Abu-Shammala, Wael, ], [Torchinsky, Alberto, ]]</td>\n",
       "      <td>[math.CA, math.FA]</td>\n",
       "      <td>Mathematics</td>\n",
       "    </tr>\n",
       "  </tbody>\n",
       "</table>\n",
       "</div>"
      ],
      "text/plain": [
       "          id           submitter  \\\n",
       "0  0704.0001      Pavel Nadolsky   \n",
       "1  0704.0002        Louis Theran   \n",
       "2  0704.0003         Hongjun Pan   \n",
       "3  0704.0004        David Callan   \n",
       "4  0704.0005  Alberto Torchinsky   \n",
       "\n",
       "                                             authors  \\\n",
       "0  C. Bal\\'azs, E. L. Berger, P. M. Nadolsky, C.-...   \n",
       "1                    Ileana Streinu and Louis Theran   \n",
       "2                                        Hongjun Pan   \n",
       "3                                       David Callan   \n",
       "4           Wael Abu-Shammala and Alberto Torchinsky   \n",
       "\n",
       "                                               title  \\\n",
       "0  Calculation of prompt diphoton production cros...   \n",
       "1           Sparsity-certifying Graph Decompositions   \n",
       "2  The evolution of the Earth-Moon system based o...   \n",
       "3  A determinant of Stirling cycle numbers counts...   \n",
       "4  From dyadic $\\Lambda_{\\alpha}$ to $\\Lambda_{\\a...   \n",
       "\n",
       "                                  comments  \\\n",
       "0  37 pages, 15 figures; published version   \n",
       "1    To appear in Graphs and Combinatorics   \n",
       "2                      23 pages, 3 figures   \n",
       "3                                 11 pages   \n",
       "4                                     None   \n",
       "\n",
       "                                 journal-ref                         doi  \\\n",
       "0                   Phys.Rev.D76:013009,2007  10.1103/PhysRevD.76.013009   \n",
       "1                                       None                        None   \n",
       "2                                       None                        None   \n",
       "3                                       None                        None   \n",
       "4  Illinois J. Math. 52 (2008) no.2, 681-689                        None   \n",
       "\n",
       "          report-no       categories  \\\n",
       "0  ANL-HEP-PR-07-12           hep-ph   \n",
       "1              None    math.CO cs.CG   \n",
       "2              None   physics.gen-ph   \n",
       "3              None          math.CO   \n",
       "4              None  math.CA math.FA   \n",
       "\n",
       "                                             license  \\\n",
       "0                                               None   \n",
       "1  http://arxiv.org/licenses/nonexclusive-distrib...   \n",
       "2                                               None   \n",
       "3                                               None   \n",
       "4                                               None   \n",
       "\n",
       "                                            abstract  \\\n",
       "0    A fully differential calculation in perturba...   \n",
       "1    We describe a new algorithm, the $(k,\\ell)$-...   \n",
       "2    The evolution of Earth-Moon system is descri...   \n",
       "3    We show that a determinant of Stirling cycle...   \n",
       "4    In this paper we show how to compute the $\\L...   \n",
       "\n",
       "                                            versions update_date  \\\n",
       "0  [{'version': 'v1', 'created': 'Mon, 2 Apr 2007...  2008-11-26   \n",
       "1  [{'version': 'v1', 'created': 'Sat, 31 Mar 200...  2008-12-13   \n",
       "2  [{'version': 'v1', 'created': 'Sun, 1 Apr 2007...  2008-01-13   \n",
       "3  [{'version': 'v1', 'created': 'Sat, 31 Mar 200...  2007-05-23   \n",
       "4  [{'version': 'v1', 'created': 'Mon, 2 Apr 2007...  2013-10-15   \n",
       "\n",
       "                                      authors_parsed splitted_categories  \\\n",
       "0  [[Balázs, C., ], [Berger, E. L., ], [Nadolsky,...            [hep-ph]   \n",
       "1           [[Streinu, Ileana, ], [Theran, Louis, ]]    [math.CO, cs.CG]   \n",
       "2                                 [[Pan, Hongjun, ]]    [physics.gen-ph]   \n",
       "3                                [[Callan, David, ]]           [math.CO]   \n",
       "4  [[Abu-Shammala, Wael, ], [Torchinsky, Alberto, ]]  [math.CA, math.FA]   \n",
       "\n",
       "               mapped_categories  \n",
       "0                        Physics  \n",
       "1  Mathematics, Computer Science  \n",
       "2                        Physics  \n",
       "3                    Mathematics  \n",
       "4                    Mathematics  "
      ]
     },
     "execution_count": 22,
     "metadata": {},
     "output_type": "execute_result"
    }
   ],
   "source": [
    "df[\"mapped_categories\"] = df[\"categories\"].apply(map_categories)\n",
    "df.head()"
   ]
  },
  {
   "cell_type": "code",
   "execution_count": 23,
   "metadata": {
    "execution": {
     "iopub.execute_input": "2025-05-10T20:21:13.988912Z",
     "iopub.status.busy": "2025-05-10T20:21:13.988451Z",
     "iopub.status.idle": "2025-05-10T20:21:14.141062Z",
     "shell.execute_reply": "2025-05-10T20:21:14.140305Z",
     "shell.execute_reply.started": "2025-05-10T20:21:13.988882Z"
    },
    "trusted": true
   },
   "outputs": [
    {
     "data": {
      "text/plain": [
       "mapped_categories\n",
       "Physics                                                                                                    1179266\n",
       "Computer Science                                                                                            466230\n",
       "Mathematics                                                                                                 438277\n",
       "Physics, Mathematics                                                                                         97882\n",
       "Not-defined                                                                                                  96721\n",
       "                                                                                                            ...   \n",
       "Economics, Electrical Engineering and Systems Science, Quantitative Finance                                      1\n",
       "Physics, Statistics, Computer Science, Quantitative Finance, Electrical Engineering and Systems Science          1\n",
       "Quantitative Biology, Economics, Mathematics, Quantitative Finance                                               1\n",
       "Quantitative Biology, Mathematics, Statistics, Electrical Engineering and Systems Science                        1\n",
       "Quantitative Biology, Computer Science, Not-defined                                                              1\n",
       "Name: count, Length: 229, dtype: int64"
      ]
     },
     "execution_count": 23,
     "metadata": {},
     "output_type": "execute_result"
    }
   ],
   "source": [
    "category_counts = df[\"mapped_categories\"].value_counts()\n",
    "category_counts"
   ]
  },
  {
   "cell_type": "markdown",
   "metadata": {},
   "source": [
    "`Physics`, `Computer Science` and `Mathematics` categories remain dominant, even when considering multi-category assignments. `Physics` is the most prevalent field, while interdisciplinary research often involves combinations of `Mathematics`, `Computer Science`, and `Physics`"
   ]
  },
  {
   "cell_type": "code",
   "execution_count": 24,
   "metadata": {
    "execution": {
     "iopub.execute_input": "2025-05-10T20:21:14.142289Z",
     "iopub.status.busy": "2025-05-10T20:21:14.142013Z",
     "iopub.status.idle": "2025-05-10T20:21:14.577442Z",
     "shell.execute_reply": "2025-05-10T20:21:14.576639Z",
     "shell.execute_reply.started": "2025-05-10T20:21:14.142269Z"
    },
    "trusted": true
   },
   "outputs": [
    {
     "data": {
      "image/png": "[encoded data removed]",
      "text/plain": [
       "<Figure size 1600x800 with 1 Axes>"
      ]
     },
     "metadata": {},
     "output_type": "display_data"
    }
   ],
   "source": [
    "top_30_categories = category_counts.head(30)\n",
    "title = \"Top 30 categories joined as they were given\"\n",
    "y_label = \"Categories\"\n",
    "plot_series_counts(top_30_categories, y_label, title)\n"
   ]
  },
  {
   "cell_type": "markdown",
   "metadata": {},
   "source": [
    "### Update date"
   ]
  },
  {
   "cell_type": "code",
   "execution_count": 25,
   "metadata": {
    "execution": {
     "iopub.execute_input": "2025-05-10T20:21:14.578468Z",
     "iopub.status.busy": "2025-05-10T20:21:14.578257Z",
     "iopub.status.idle": "2025-05-10T20:21:15.770338Z",
     "shell.execute_reply": "2025-05-10T20:21:15.769708Z",
     "shell.execute_reply.started": "2025-05-10T20:21:14.578451Z"
    },
    "trusted": true
   },
   "outputs": [
    {
     "name": "stdout",
     "output_type": "stream",
     "text": [
      "The minimum update date is 2007-05-23\n",
      "The maxium update date is 2025-05-02\n"
     ]
    }
   ],
   "source": [
    "print(f\"The minimum update date is {df['update_date'].min()}\")\n",
    "print(f\"The maxium update date is {df['update_date'].max()}\")"
   ]
  },
  {
   "cell_type": "code",
   "execution_count": 26,
   "metadata": {
    "execution": {
     "iopub.execute_input": "2025-05-10T20:21:15.771466Z",
     "iopub.status.busy": "2025-05-10T20:21:15.771119Z",
     "iopub.status.idle": "2025-05-10T20:21:17.244988Z",
     "shell.execute_reply": "2025-05-10T20:21:17.244219Z",
     "shell.execute_reply.started": "2025-05-10T20:21:15.771440Z"
    },
    "trusted": true
   },
   "outputs": [],
   "source": [
    "df[\"update_date\"] = pd.to_datetime(df[\"update_date\"])\n",
    "df[\"year\"] = df[\"update_date\"].dt.year"
   ]
  },
  {
   "cell_type": "code",
   "execution_count": 27,
   "metadata": {
    "execution": {
     "iopub.execute_input": "2025-05-10T20:21:17.245986Z",
     "iopub.status.busy": "2025-05-10T20:21:17.245777Z",
     "iopub.status.idle": "2025-05-10T20:21:17.510833Z",
     "shell.execute_reply": "2025-05-10T20:21:17.510034Z",
     "shell.execute_reply.started": "2025-05-10T20:21:17.245961Z"
    },
    "trusted": true
   },
   "outputs": [
    {
     "data": {
      "image/png": "[encoded data removed]",
      "text/plain": [
       "<Figure size 1000x600 with 1 Axes>"
      ]
     },
     "metadata": {},
     "output_type": "display_data"
    }
   ],
   "source": [
    "year_title = \"Distribution of years in update date column\"\n",
    "plot_distribution(df, \"year\", year_title)"
   ]
  },
  {
   "cell_type": "markdown",
   "metadata": {},
   "source": [
    "### Authors"
   ]
  },
  {
   "cell_type": "code",
   "execution_count": 28,
   "metadata": {
    "execution": {
     "iopub.execute_input": "2025-05-10T20:21:17.516293Z",
     "iopub.status.busy": "2025-05-10T20:21:17.516061Z",
     "iopub.status.idle": "2025-05-10T20:21:17.519720Z",
     "shell.execute_reply": "2025-05-10T20:21:17.519020Z",
     "shell.execute_reply.started": "2025-05-10T20:21:17.516268Z"
    },
    "trusted": true
   },
   "outputs": [],
   "source": [
    "def get_num_of_authors(list_of_authors):\n",
    "    return len(list_of_authors)"
   ]
  },
  {
   "cell_type": "code",
   "execution_count": 29,
   "metadata": {
    "execution": {
     "iopub.execute_input": "2025-05-10T20:21:17.520632Z",
     "iopub.status.busy": "2025-05-10T20:21:17.520402Z",
     "iopub.status.idle": "2025-05-10T20:21:18.648270Z",
     "shell.execute_reply": "2025-05-10T20:21:18.647549Z",
     "shell.execute_reply.started": "2025-05-10T20:21:17.520611Z"
    },
    "trusted": true
   },
   "outputs": [
    {
     "data": {
      "text/html": [
       "<div>\n",
       "<style scoped>\n",
       "    .dataframe tbody tr th:only-of-type {\n",
       "        vertical-align: middle;\n",
       "    }\n",
       "\n",
       "    .dataframe tbody tr th {\n",
       "        vertical-align: top;\n",
       "    }\n",
       "\n",
       "    .dataframe thead th {\n",
       "        text-align: right;\n",
       "    }\n",
       "</style>\n",
       "<table border=\"1\" class=\"dataframe\">\n",
       "  <thead>\n",
       "    <tr style=\"text-align: right;\">\n",
       "      <th></th>\n",
       "      <th>id</th>\n",
       "      <th>submitter</th>\n",
       "      <th>authors</th>\n",
       "      <th>title</th>\n",
       "      <th>comments</th>\n",
       "      <th>journal-ref</th>\n",
       "      <th>doi</th>\n",
       "      <th>report-no</th>\n",
       "      <th>categories</th>\n",
       "      <th>license</th>\n",
       "      <th>abstract</th>\n",
       "      <th>versions</th>\n",
       "      <th>update_date</th>\n",
       "      <th>authors_parsed</th>\n",
       "      <th>splitted_categories</th>\n",
       "      <th>mapped_categories</th>\n",
       "      <th>year</th>\n",
       "      <th>num_of_authors</th>\n",
       "    </tr>\n",
       "  </thead>\n",
       "  <tbody>\n",
       "    <tr>\n",
       "      <th>0</th>\n",
       "      <td>0704.0001</td>\n",
       "      <td>Pavel Nadolsky</td>\n",
       "      <td>C. Bal\\'azs, E. L. Berger, P. M. Nadolsky, C.-...</td>\n",
       "      <td>Calculation of prompt diphoton production cros...</td>\n",
       "      <td>37 pages, 15 figures; published version</td>\n",
       "      <td>Phys.Rev.D76:013009,2007</td>\n",
       "      <td>10.1103/PhysRevD.76.013009</td>\n",
       "      <td>ANL-HEP-PR-07-12</td>\n",
       "      <td>hep-ph</td>\n",
       "      <td>None</td>\n",
       "      <td>A fully differential calculation in perturba...</td>\n",
       "      <td>[{'version': 'v1', 'created': 'Mon, 2 Apr 2007...</td>\n",
       "      <td>2008-11-26</td>\n",
       "      <td>[[Balázs, C., ], [Berger, E. L., ], [Nadolsky,...</td>\n",
       "      <td>[hep-ph]</td>\n",
       "      <td>Physics</td>\n",
       "      <td>2008</td>\n",
       "      <td>4</td>\n",
       "    </tr>\n",
       "    <tr>\n",
       "      <th>1</th>\n",
       "      <td>0704.0002</td>\n",
       "      <td>Louis Theran</td>\n",
       "      <td>Ileana Streinu and Louis Theran</td>\n",
       "      <td>Sparsity-certifying Graph Decompositions</td>\n",
       "      <td>To appear in Graphs and Combinatorics</td>\n",
       "      <td>None</td>\n",
       "      <td>None</td>\n",
       "      <td>None</td>\n",
       "      <td>math.CO cs.CG</td>\n",
       "      <td>http://arxiv.org/licenses/nonexclusive-distrib...</td>\n",
       "      <td>We describe a new algorithm, the $(k,\\ell)$-...</td>\n",
       "      <td>[{'version': 'v1', 'created': 'Sat, 31 Mar 200...</td>\n",
       "      <td>2008-12-13</td>\n",
       "      <td>[[Streinu, Ileana, ], [Theran, Louis, ]]</td>\n",
       "      <td>[math.CO, cs.CG]</td>\n",
       "      <td>Mathematics, Computer Science</td>\n",
       "      <td>2008</td>\n",
       "      <td>2</td>\n",
       "    </tr>\n",
       "    <tr>\n",
       "      <th>2</th>\n",
       "      <td>0704.0003</td>\n",
       "      <td>Hongjun Pan</td>\n",
       "      <td>Hongjun Pan</td>\n",
       "      <td>The evolution of the Earth-Moon system based o...</td>\n",
       "      <td>23 pages, 3 figures</td>\n",
       "      <td>None</td>\n",
       "      <td>None</td>\n",
       "      <td>None</td>\n",
       "      <td>physics.gen-ph</td>\n",
       "      <td>None</td>\n",
       "      <td>The evolution of Earth-Moon system is descri...</td>\n",
       "      <td>[{'version': 'v1', 'created': 'Sun, 1 Apr 2007...</td>\n",
       "      <td>2008-01-13</td>\n",
       "      <td>[[Pan, Hongjun, ]]</td>\n",
       "      <td>[physics.gen-ph]</td>\n",
       "      <td>Physics</td>\n",
       "      <td>2008</td>\n",
       "      <td>1</td>\n",
       "    </tr>\n",
       "    <tr>\n",
       "      <th>3</th>\n",
       "      <td>0704.0004</td>\n",
       "      <td>David Callan</td>\n",
       "      <td>David Callan</td>\n",
       "      <td>A determinant of Stirling cycle numbers counts...</td>\n",
       "      <td>11 pages</td>\n",
       "      <td>None</td>\n",
       "      <td>None</td>\n",
       "      <td>None</td>\n",
       "      <td>math.CO</td>\n",
       "      <td>None</td>\n",
       "      <td>We show that a determinant of Stirling cycle...</td>\n",
       "      <td>[{'version': 'v1', 'created': 'Sat, 31 Mar 200...</td>\n",
       "      <td>2007-05-23</td>\n",
       "      <td>[[Callan, David, ]]</td>\n",
       "      <td>[math.CO]</td>\n",
       "      <td>Mathematics</td>\n",
       "      <td>2007</td>\n",
       "      <td>1</td>\n",
       "    </tr>\n",
       "    <tr>\n",
       "      <th>4</th>\n",
       "      <td>0704.0005</td>\n",
       "      <td>Alberto Torchinsky</td>\n",
       "      <td>Wael Abu-Shammala and Alberto Torchinsky</td>\n",
       "      <td>From dyadic $\\Lambda_{\\alpha}$ to $\\Lambda_{\\a...</td>\n",
       "      <td>None</td>\n",
       "      <td>Illinois J. Math. 52 (2008) no.2, 681-689</td>\n",
       "      <td>None</td>\n",
       "      <td>None</td>\n",
       "      <td>math.CA math.FA</td>\n",
       "      <td>None</td>\n",
       "      <td>In this paper we show how to compute the $\\L...</td>\n",
       "      <td>[{'version': 'v1', 'created': 'Mon, 2 Apr 2007...</td>\n",
       "      <td>2013-10-15</td>\n",
       "      <td>[[Abu-Shammala, Wael, ], [Torchinsky, Alberto, ]]</td>\n",
       "      <td>[math.CA, math.FA]</td>\n",
       "      <td>Mathematics</td>\n",
       "      <td>2013</td>\n",
       "      <td>2</td>\n",
       "    </tr>\n",
       "  </tbody>\n",
       "</table>\n",
       "</div>"
      ],
      "text/plain": [
       "          id           submitter  \\\n",
       "0  0704.0001      Pavel Nadolsky   \n",
       "1  0704.0002        Louis Theran   \n",
       "2  0704.0003         Hongjun Pan   \n",
       "3  0704.0004        David Callan   \n",
       "4  0704.0005  Alberto Torchinsky   \n",
       "\n",
       "                                             authors  \\\n",
       "0  C. Bal\\'azs, E. L. Berger, P. M. Nadolsky, C.-...   \n",
       "1                    Ileana Streinu and Louis Theran   \n",
       "2                                        Hongjun Pan   \n",
       "3                                       David Callan   \n",
       "4           Wael Abu-Shammala and Alberto Torchinsky   \n",
       "\n",
       "                                               title  \\\n",
       "0  Calculation of prompt diphoton production cros...   \n",
       "1           Sparsity-certifying Graph Decompositions   \n",
       "2  The evolution of the Earth-Moon system based o...   \n",
       "3  A determinant of Stirling cycle numbers counts...   \n",
       "4  From dyadic $\\Lambda_{\\alpha}$ to $\\Lambda_{\\a...   \n",
       "\n",
       "                                  comments  \\\n",
       "0  37 pages, 15 figures; published version   \n",
       "1    To appear in Graphs and Combinatorics   \n",
       "2                      23 pages, 3 figures   \n",
       "3                                 11 pages   \n",
       "4                                     None   \n",
       "\n",
       "                                 journal-ref                         doi  \\\n",
       "0                   Phys.Rev.D76:013009,2007  10.1103/PhysRevD.76.013009   \n",
       "1                                       None                        None   \n",
       "2                                       None                        None   \n",
       "3                                       None                        None   \n",
       "4  Illinois J. Math. 52 (2008) no.2, 681-689                        None   \n",
       "\n",
       "          report-no       categories  \\\n",
       "0  ANL-HEP-PR-07-12           hep-ph   \n",
       "1              None    math.CO cs.CG   \n",
       "2              None   physics.gen-ph   \n",
       "3              None          math.CO   \n",
       "4              None  math.CA math.FA   \n",
       "\n",
       "                                             license  \\\n",
       "0                                               None   \n",
       "1  http://arxiv.org/licenses/nonexclusive-distrib...   \n",
       "2                                               None   \n",
       "3                                               None   \n",
       "4                                               None   \n",
       "\n",
       "                                            abstract  \\\n",
       "0    A fully differential calculation in perturba...   \n",
       "1    We describe a new algorithm, the $(k,\\ell)$-...   \n",
       "2    The evolution of Earth-Moon system is descri...   \n",
       "3    We show that a determinant of Stirling cycle...   \n",
       "4    In this paper we show how to compute the $\\L...   \n",
       "\n",
       "                                            versions update_date  \\\n",
       "0  [{'version': 'v1', 'created': 'Mon, 2 Apr 2007...  2008-11-26   \n",
       "1  [{'version': 'v1', 'created': 'Sat, 31 Mar 200...  2008-12-13   \n",
       "2  [{'version': 'v1', 'created': 'Sun, 1 Apr 2007...  2008-01-13   \n",
       "3  [{'version': 'v1', 'created': 'Sat, 31 Mar 200...  2007-05-23   \n",
       "4  [{'version': 'v1', 'created': 'Mon, 2 Apr 2007...  2013-10-15   \n",
       "\n",
       "                                      authors_parsed splitted_categories  \\\n",
       "0  [[Balázs, C., ], [Berger, E. L., ], [Nadolsky,...            [hep-ph]   \n",
       "1           [[Streinu, Ileana, ], [Theran, Louis, ]]    [math.CO, cs.CG]   \n",
       "2                                 [[Pan, Hongjun, ]]    [physics.gen-ph]   \n",
       "3                                [[Callan, David, ]]           [math.CO]   \n",
       "4  [[Abu-Shammala, Wael, ], [Torchinsky, Alberto, ]]  [math.CA, math.FA]   \n",
       "\n",
       "               mapped_categories  year  num_of_authors  \n",
       "0                        Physics  2008               4  \n",
       "1  Mathematics, Computer Science  2008               2  \n",
       "2                        Physics  2008               1  \n",
       "3                    Mathematics  2007               1  \n",
       "4                    Mathematics  2013               2  "
      ]
     },
     "execution_count": 29,
     "metadata": {},
     "output_type": "execute_result"
    }
   ],
   "source": [
    "df[\"num_of_authors\"] = df[\"authors_parsed\"].apply(get_num_of_authors)\n",
    "df.head()"
   ]
  },
  {
   "cell_type": "code",
   "execution_count": 30,
   "metadata": {
    "execution": {
     "iopub.execute_input": "2025-05-10T20:21:18.649733Z",
     "iopub.status.busy": "2025-05-10T20:21:18.649061Z",
     "iopub.status.idle": "2025-05-10T20:21:18.726202Z",
     "shell.execute_reply": "2025-05-10T20:21:18.725596Z",
     "shell.execute_reply.started": "2025-05-10T20:21:18.649712Z"
    },
    "trusted": true
   },
   "outputs": [
    {
     "data": {
      "text/plain": [
       "count    2.725385e+06\n",
       "mean     4.601101e+00\n",
       "std      2.289973e+01\n",
       "min      1.000000e+00\n",
       "25%      2.000000e+00\n",
       "50%      3.000000e+00\n",
       "75%      4.000000e+00\n",
       "max      2.832000e+03\n",
       "Name: num_of_authors, dtype: float64"
      ]
     },
     "execution_count": 30,
     "metadata": {},
     "output_type": "execute_result"
    }
   ],
   "source": [
    "df[\"num_of_authors\"].describe()"
   ]
  },
  {
   "cell_type": "code",
   "execution_count": 31,
   "metadata": {
    "execution": {
     "iopub.execute_input": "2025-05-10T20:21:18.727161Z",
     "iopub.status.busy": "2025-05-10T20:21:18.726894Z",
     "iopub.status.idle": "2025-05-10T20:21:18.755291Z",
     "shell.execute_reply": "2025-05-10T20:21:18.754641Z",
     "shell.execute_reply.started": "2025-05-10T20:21:18.727143Z"
    },
    "trusted": true
   },
   "outputs": [
    {
     "data": {
      "text/plain": [
       "num_of_authors\n",
       "2      661466\n",
       "3      563219\n",
       "1      513611\n",
       "4      356089\n",
       "5      208182\n",
       "        ...  \n",
       "524         1\n",
       "551         1\n",
       "550         1\n",
       "471         1\n",
       "724         1\n",
       "Name: count, Length: 1014, dtype: int64"
      ]
     },
     "execution_count": 31,
     "metadata": {},
     "output_type": "execute_result"
    }
   ],
   "source": [
    "authors_counts = df[\"num_of_authors\"].value_counts()\n",
    "authors_counts"
   ]
  },
  {
   "cell_type": "code",
   "execution_count": 32,
   "metadata": {
    "execution": {
     "iopub.execute_input": "2025-05-10T20:21:18.756433Z",
     "iopub.status.busy": "2025-05-10T20:21:18.756162Z",
     "iopub.status.idle": "2025-05-10T20:21:18.801921Z",
     "shell.execute_reply": "2025-05-10T20:21:18.801206Z",
     "shell.execute_reply.started": "2025-05-10T20:21:18.756410Z"
    },
    "trusted": true
   },
   "outputs": [
    {
     "data": {
      "text/html": [
       "<div>\n",
       "<style scoped>\n",
       "    .dataframe tbody tr th:only-of-type {\n",
       "        vertical-align: middle;\n",
       "    }\n",
       "\n",
       "    .dataframe tbody tr th {\n",
       "        vertical-align: top;\n",
       "    }\n",
       "\n",
       "    .dataframe thead th {\n",
       "        text-align: right;\n",
       "    }\n",
       "</style>\n",
       "<table border=\"1\" class=\"dataframe\">\n",
       "  <thead>\n",
       "    <tr style=\"text-align: right;\">\n",
       "      <th></th>\n",
       "      <th>id</th>\n",
       "      <th>submitter</th>\n",
       "      <th>authors</th>\n",
       "      <th>title</th>\n",
       "      <th>comments</th>\n",
       "      <th>journal-ref</th>\n",
       "      <th>doi</th>\n",
       "      <th>report-no</th>\n",
       "      <th>categories</th>\n",
       "      <th>license</th>\n",
       "      <th>abstract</th>\n",
       "      <th>versions</th>\n",
       "      <th>update_date</th>\n",
       "      <th>authors_parsed</th>\n",
       "      <th>splitted_categories</th>\n",
       "      <th>mapped_categories</th>\n",
       "      <th>year</th>\n",
       "      <th>num_of_authors</th>\n",
       "    </tr>\n",
       "  </thead>\n",
       "  <tbody>\n",
       "    <tr>\n",
       "      <th>574385</th>\n",
       "      <td>1411.4413</td>\n",
       "      <td>Marc-Olivier Bettler</td>\n",
       "      <td>The CMS and LHCb Collaborations: V. Khachatrya...</td>\n",
       "      <td>Observation of the rare $B^0_s\\to\\mu^+\\mu^-$ d...</td>\n",
       "      <td>Correspondence should be addressed to\\n  cms-a...</td>\n",
       "      <td>Nature 522, 68-72 (04 June 2015)</td>\n",
       "      <td>10.1038/nature14474</td>\n",
       "      <td>CERN-PH-EP-2014-220, CMS-BPH-13-007, LHCb-PAPE...</td>\n",
       "      <td>hep-ex hep-ph</td>\n",
       "      <td>http://creativecommons.org/licenses/by/4.0/</td>\n",
       "      <td>A joint measurement is presented of the bran...</td>\n",
       "      <td>[{'version': 'v1', 'created': 'Mon, 17 Nov 201...</td>\n",
       "      <td>2016-08-10</td>\n",
       "      <td>[[CMS, The, ], [Collaborations, LHCb, ], [:, ,...</td>\n",
       "      <td>[hep-ex, hep-ph]</td>\n",
       "      <td>Physics</td>\n",
       "      <td>2016</td>\n",
       "      <td>2832</td>\n",
       "    </tr>\n",
       "  </tbody>\n",
       "</table>\n",
       "</div>"
      ],
      "text/plain": [
       "               id             submitter  \\\n",
       "574385  1411.4413  Marc-Olivier Bettler   \n",
       "\n",
       "                                                  authors  \\\n",
       "574385  The CMS and LHCb Collaborations: V. Khachatrya...   \n",
       "\n",
       "                                                    title  \\\n",
       "574385  Observation of the rare $B^0_s\\to\\mu^+\\mu^-$ d...   \n",
       "\n",
       "                                                 comments  \\\n",
       "574385  Correspondence should be addressed to\\n  cms-a...   \n",
       "\n",
       "                             journal-ref                  doi  \\\n",
       "574385  Nature 522, 68-72 (04 June 2015)  10.1038/nature14474   \n",
       "\n",
       "                                                report-no     categories  \\\n",
       "574385  CERN-PH-EP-2014-220, CMS-BPH-13-007, LHCb-PAPE...  hep-ex hep-ph   \n",
       "\n",
       "                                            license  \\\n",
       "574385  http://creativecommons.org/licenses/by/4.0/   \n",
       "\n",
       "                                                 abstract  \\\n",
       "574385    A joint measurement is presented of the bran...   \n",
       "\n",
       "                                                 versions update_date  \\\n",
       "574385  [{'version': 'v1', 'created': 'Mon, 17 Nov 201...  2016-08-10   \n",
       "\n",
       "                                           authors_parsed splitted_categories  \\\n",
       "574385  [[CMS, The, ], [Collaborations, LHCb, ], [:, ,...    [hep-ex, hep-ph]   \n",
       "\n",
       "       mapped_categories  year  num_of_authors  \n",
       "574385           Physics  2016            2832  "
      ]
     },
     "execution_count": 32,
     "metadata": {},
     "output_type": "execute_result"
    }
   ],
   "source": [
    "# paper with the maximum number of authors\n",
    "max_num_of_authors = df[\"num_of_authors\"].max()\n",
    "df[df[\"num_of_authors\"] == max_num_of_authors]"
   ]
  },
  {
   "cell_type": "code",
   "execution_count": 33,
   "metadata": {
    "execution": {
     "iopub.execute_input": "2025-05-10T20:21:18.803039Z",
     "iopub.status.busy": "2025-05-10T20:21:18.802723Z",
     "iopub.status.idle": "2025-05-10T20:21:28.763952Z",
     "shell.execute_reply": "2025-05-10T20:21:28.763271Z",
     "shell.execute_reply.started": "2025-05-10T20:21:18.803010Z"
    },
    "trusted": true
   },
   "outputs": [
    {
     "name": "stderr",
     "output_type": "stream",
     "text": [
      "/usr/local/lib/python3.11/dist-packages/seaborn/_oldcore.py:1119: FutureWarning: use_inf_as_na option is deprecated and will be removed in a future version. Convert inf values to NaN before operating instead.\n",
      "  with pd.option_context('mode.use_inf_as_na', True):\n"
     ]
    },
    {
     "data": {
      "image/png": "[encoded data removed]",
      "text/plain": [
       "<Figure size 1600x600 with 1 Axes>"
      ]
     },
     "metadata": {},
     "output_type": "display_data"
    }
   ],
   "source": [
    "plt.figure(figsize=(16, 6))\n",
    "sns.histplot(df[\"num_of_authors\"], bins=20, kde=True)\n",
    "plt.title(\"Distribution of Number of Authors per Paper\")\n",
    "plt.xlabel(\"Number of Authors\")\n",
    "plt.ylabel(\"Count\")\n",
    "plt.show()"
   ]
  },
  {
   "cell_type": "markdown",
   "metadata": {},
   "source": [
    "Most papers have a relatively small number of authors (IQR  is very narrow), a few papers involve massive collaborations"
   ]
  },
  {
   "cell_type": "code",
   "execution_count": 34,
   "metadata": {
    "execution": {
     "iopub.execute_input": "2025-05-10T20:21:28.764852Z",
     "iopub.status.busy": "2025-05-10T20:21:28.764632Z",
     "iopub.status.idle": "2025-05-10T20:21:29.342568Z",
     "shell.execute_reply": "2025-05-10T20:21:29.341743Z",
     "shell.execute_reply.started": "2025-05-10T20:21:28.764835Z"
    },
    "trusted": true
   },
   "outputs": [
    {
     "data": {
      "image/png": "[encoded data removed]",
      "text/plain": [
       "<Figure size 1600x600 with 1 Axes>"
      ]
     },
     "metadata": {},
     "output_type": "display_data"
    }
   ],
   "source": [
    "plt.figure(figsize=(16, 6))\n",
    "sns.boxplot(x=df[\"num_of_authors\"])\n",
    "plt.title(\"Number of authors per paper\")\n",
    "plt.xlabel(\"Number of Authors\")\n",
    "plt.show()"
   ]
  },
  {
   "cell_type": "markdown",
   "metadata": {},
   "source": [
    "The following plot demonstrates the existence of upward trend in the average number of authors per paper over time, meaning that scientific collaboration is increasing. \n",
    "ResearchGate can leverage this by implementing a coauthor recommendation system to promote cooperation, increase user engagement and attract investors."
   ]
  },
  {
   "cell_type": "code",
   "execution_count": 35,
   "metadata": {
    "execution": {
     "iopub.execute_input": "2025-05-10T20:21:29.343791Z",
     "iopub.status.busy": "2025-05-10T20:21:29.343501Z",
     "iopub.status.idle": "2025-05-10T20:21:29.579163Z",
     "shell.execute_reply": "2025-05-10T20:21:29.578398Z",
     "shell.execute_reply.started": "2025-05-10T20:21:29.343767Z"
    },
    "trusted": true
   },
   "outputs": [
    {
     "name": "stderr",
     "output_type": "stream",
     "text": [
      "/usr/local/lib/python3.11/dist-packages/seaborn/_oldcore.py:1119: FutureWarning: use_inf_as_na option is deprecated and will be removed in a future version. Convert inf values to NaN before operating instead.\n",
      "  with pd.option_context('mode.use_inf_as_na', True):\n",
      "/usr/local/lib/python3.11/dist-packages/seaborn/_oldcore.py:1119: FutureWarning: use_inf_as_na option is deprecated and will be removed in a future version. Convert inf values to NaN before operating instead.\n",
      "  with pd.option_context('mode.use_inf_as_na', True):\n"
     ]
    },
    {
     "data": {
      "image/png": "[encoded data removed]",
      "text/plain": [
       "<Figure size 1200x600 with 1 Axes>"
      ]
     },
     "metadata": {},
     "output_type": "display_data"
    }
   ],
   "source": [
    "year_trends = df.groupby(\"year\")[\"num_of_authors\"].mean().reset_index()\n",
    "\n",
    "plt.figure(figsize=(12, 6))\n",
    "sns.lineplot(data=year_trends, x=\"year\", y=\"num_of_authors\", marker=\"o\")\n",
    "plt.title(\"Mean num of authors\")\n",
    "plt.xlabel(\"Year\")\n",
    "plt.ylabel(\"Dynamics of average number of authors over the years\")\n",
    "plt.grid(True)\n",
    "plt.show()"
   ]
  },
  {
   "cell_type": "markdown",
   "metadata": {},
   "source": [
    "### Data Quality Verification\n",
    "We have encountered several data quality problems\n",
    "\n",
    "- **Duplicates**: Some entries share the same paper ID, indicating that duplicates exist in the dataset.\n",
    "- **Outlier papers with extreme author counts**: A few papers list over 2,000 authors, which can skew statistical distributions and graph construction."
   ]
  },
  {
   "cell_type": "markdown",
   "metadata": {},
   "source": [
    "# 2. Data Preparation"
   ]
  },
  {
   "cell_type": "code",
   "execution_count": 36,
   "metadata": {
    "execution": {
     "iopub.execute_input": "2025-05-10T20:21:29.580652Z",
     "iopub.status.busy": "2025-05-10T20:21:29.580078Z",
     "iopub.status.idle": "2025-05-10T20:21:45.985270Z",
     "shell.execute_reply": "2025-05-10T20:21:45.984442Z",
     "shell.execute_reply.started": "2025-05-10T20:21:29.580624Z"
    },
    "trusted": true
   },
   "outputs": [
    {
     "name": "stdout",
     "output_type": "stream",
     "text": [
      "\u001b[2K     \u001b[90m━━━━━━━━━━━━━━━━━━━━━━━━━━━━━━━━━━━━━━━━\u001b[0m \u001b[32m63.1/63.1 kB\u001b[0m \u001b[31m2.1 MB/s\u001b[0m eta \u001b[36m0:00:00\u001b[0m\n",
      "\u001b[2K   \u001b[90m━━━━━━━━━━━━━━━━━━━━━━━━━━━━━━━━━━━━━━━━\u001b[0m \u001b[32m1.1/1.1 MB\u001b[0m \u001b[31m20.0 MB/s\u001b[0m eta \u001b[36m0:00:00\u001b[0ma \u001b[36m0:00:01\u001b[0m\n",
      "\u001b[?25hUsing device: cuda\n"
     ]
    }
   ],
   "source": [
    "!pip install torch_geometric -qq\n",
    "import numpy as np\n",
    "import matplotlib.pyplot as plt\n",
    "from collections import Counter\n",
    "import os\n",
    "import pickle\n",
    "import numpy as np\n",
    "import pandas as pd\n",
    "import networkx as nx\n",
    "import torch\n",
    "from tqdm import tqdm\n",
    "from transformers import AutoTokenizer, AutoModel\n",
    "import torch_geometric.utils as utils\n",
    "from torch_geometric.data import Data\n",
    "from torch_geometric.nn import SAGEConv\n",
    "import torch.nn as nn\n",
    "import torch.nn.functional as F\n",
    "from sklearn.metrics import roc_auc_score\n",
    "from random import sample\n",
    "\n",
    "\n",
    "device = torch.device(\"cuda\" if torch.cuda.is_available() else \"cpu\")\n",
    "print(\"Using device:\", device)"
   ]
  },
  {
   "cell_type": "markdown",
   "metadata": {},
   "source": [
    "## Select Data"
   ]
  },
  {
   "cell_type": "markdown",
   "metadata": {},
   "source": [
    "Filter dataset to only include Computer Science papers and select relevant columns"
   ]
  },
  {
   "cell_type": "code",
   "execution_count": 37,
   "metadata": {
    "execution": {
     "iopub.execute_input": "2025-05-10T20:21:45.986977Z",
     "iopub.status.busy": "2025-05-10T20:21:45.986398Z",
     "iopub.status.idle": "2025-05-10T20:21:49.016721Z",
     "shell.execute_reply": "2025-05-10T20:21:49.016177Z",
     "shell.execute_reply.started": "2025-05-10T20:21:45.986953Z"
    },
    "trusted": true
   },
   "outputs": [],
   "source": [
    "df = df[[\"id\", \"title\", \"authors_parsed\", \"mapped_categories\", \"update_date\"]]"
   ]
  },
  {
   "cell_type": "code",
   "execution_count": 38,
   "metadata": {
    "execution": {
     "iopub.execute_input": "2025-05-10T20:21:49.017529Z",
     "iopub.status.busy": "2025-05-10T20:21:49.017350Z",
     "iopub.status.idle": "2025-05-10T20:21:50.506702Z",
     "shell.execute_reply": "2025-05-10T20:21:50.506043Z",
     "shell.execute_reply.started": "2025-05-10T20:21:49.017514Z"
    },
    "trusted": true
   },
   "outputs": [],
   "source": [
    "df = df[df[\"mapped_categories\"].str.contains(\"Computer Science\")].copy()"
   ]
  },
  {
   "cell_type": "code",
   "execution_count": 39,
   "metadata": {
    "execution": {
     "iopub.execute_input": "2025-05-10T20:21:50.507677Z",
     "iopub.status.busy": "2025-05-10T20:21:50.507445Z",
     "iopub.status.idle": "2025-05-10T20:21:50.512093Z",
     "shell.execute_reply": "2025-05-10T20:21:50.511352Z",
     "shell.execute_reply.started": "2025-05-10T20:21:50.507659Z"
    },
    "trusted": true
   },
   "outputs": [
    {
     "name": "stdout",
     "output_type": "stream",
     "text": [
      "753369\n"
     ]
    }
   ],
   "source": [
    "print(len(df))"
   ]
  },
  {
   "cell_type": "code",
   "execution_count": 40,
   "metadata": {
    "execution": {
     "iopub.execute_input": "2025-05-10T20:21:50.513556Z",
     "iopub.status.busy": "2025-05-10T20:21:50.512873Z",
     "iopub.status.idle": "2025-05-10T20:21:50.614453Z",
     "shell.execute_reply": "2025-05-10T20:21:50.613801Z",
     "shell.execute_reply.started": "2025-05-10T20:21:50.513528Z"
    },
    "trusted": true
   },
   "outputs": [
    {
     "data": {
      "text/html": [
       "<div>\n",
       "<style scoped>\n",
       "    .dataframe tbody tr th:only-of-type {\n",
       "        vertical-align: middle;\n",
       "    }\n",
       "\n",
       "    .dataframe tbody tr th {\n",
       "        vertical-align: top;\n",
       "    }\n",
       "\n",
       "    .dataframe thead th {\n",
       "        text-align: right;\n",
       "    }\n",
       "</style>\n",
       "<table border=\"1\" class=\"dataframe\">\n",
       "  <thead>\n",
       "    <tr style=\"text-align: right;\">\n",
       "      <th></th>\n",
       "      <th>id</th>\n",
       "      <th>title</th>\n",
       "      <th>authors_parsed</th>\n",
       "      <th>mapped_categories</th>\n",
       "      <th>update_date</th>\n",
       "    </tr>\n",
       "  </thead>\n",
       "  <tbody>\n",
       "    <tr>\n",
       "      <th>1</th>\n",
       "      <td>0704.0002</td>\n",
       "      <td>Sparsity-certifying Graph Decompositions</td>\n",
       "      <td>[[Streinu, Ileana, ], [Theran, Louis, ]]</td>\n",
       "      <td>Mathematics, Computer Science</td>\n",
       "      <td>2008-12-13</td>\n",
       "    </tr>\n",
       "    <tr>\n",
       "      <th>45</th>\n",
       "      <td>0704.0046</td>\n",
       "      <td>A limit relation for entropy and channel capac...</td>\n",
       "      <td>[[Csiszar, I., ], [Hiai, F., ], [Petz, D., ]]</td>\n",
       "      <td>Physics, Mathematics, Computer Science</td>\n",
       "      <td>2009-11-13</td>\n",
       "    </tr>\n",
       "    <tr>\n",
       "      <th>46</th>\n",
       "      <td>0704.0047</td>\n",
       "      <td>Intelligent location of simultaneously active ...</td>\n",
       "      <td>[[Kosel, T., ], [Grabec, I., ]]</td>\n",
       "      <td>Computer Science</td>\n",
       "      <td>2009-09-29</td>\n",
       "    </tr>\n",
       "    <tr>\n",
       "      <th>49</th>\n",
       "      <td>0704.0050</td>\n",
       "      <td>Intelligent location of simultaneously active ...</td>\n",
       "      <td>[[Kosel, T., ], [Grabec, I., ]]</td>\n",
       "      <td>Computer Science</td>\n",
       "      <td>2007-05-23</td>\n",
       "    </tr>\n",
       "    <tr>\n",
       "      <th>61</th>\n",
       "      <td>0704.0062</td>\n",
       "      <td>On-line Viterbi Algorithm and Its Relationship...</td>\n",
       "      <td>[[Šrámek, Rastislav, ], [Brejová, Broňa, ], [V...</td>\n",
       "      <td>Computer Science</td>\n",
       "      <td>2010-01-25</td>\n",
       "    </tr>\n",
       "    <tr>\n",
       "      <th>...</th>\n",
       "      <td>...</td>\n",
       "      <td>...</td>\n",
       "      <td>...</td>\n",
       "      <td>...</td>\n",
       "      <td>...</td>\n",
       "    </tr>\n",
       "    <tr>\n",
       "      <th>2724115</th>\n",
       "      <td>quant-ph/9909094</td>\n",
       "      <td>Quantum Computation and Quadratically Signed W...</td>\n",
       "      <td>[[Knill, E., ], [Laflamme, R., ]]</td>\n",
       "      <td>Physics, Computer Science</td>\n",
       "      <td>2007-05-23</td>\n",
       "    </tr>\n",
       "    <tr>\n",
       "      <th>2724148</th>\n",
       "      <td>quant-ph/9910033</td>\n",
       "      <td>Almost-Everywhere Superiority for Quantum Comp...</td>\n",
       "      <td>[[Hemaspaandra, Edith, , RIT], [Hemaspaandra, ...</td>\n",
       "      <td>Physics, Computer Science</td>\n",
       "      <td>2007-05-23</td>\n",
       "    </tr>\n",
       "    <tr>\n",
       "      <th>2724202</th>\n",
       "      <td>quant-ph/9910087</td>\n",
       "      <td>Unconditionally Secure Commitment of a Certifi...</td>\n",
       "      <td>[[Kent, Adrian, , DAMTP, University of Cambrid...</td>\n",
       "      <td>Physics, Computer Science</td>\n",
       "      <td>2009-10-31</td>\n",
       "    </tr>\n",
       "    <tr>\n",
       "      <th>2724283</th>\n",
       "      <td>quant-ph/9911043</td>\n",
       "      <td>Cheat Sensitive Quantum Bit Commitment</td>\n",
       "      <td>[[Hardy, Lucien, , The Perimeter Institute], [...</td>\n",
       "      <td>Physics, Computer Science</td>\n",
       "      <td>2009-10-31</td>\n",
       "    </tr>\n",
       "    <tr>\n",
       "      <th>2724464</th>\n",
       "      <td>quant-ph/9912100</td>\n",
       "      <td>Quantum Computing, NP-complete Problems and Ch...</td>\n",
       "      <td>[[Ohya, Masanori, ], [Volovich, Igor V., ]]</td>\n",
       "      <td>Physics, Computer Science, Not-defined</td>\n",
       "      <td>2007-05-23</td>\n",
       "    </tr>\n",
       "  </tbody>\n",
       "</table>\n",
       "<p>753369 rows × 5 columns</p>\n",
       "</div>"
      ],
      "text/plain": [
       "                       id                                              title  \\\n",
       "1               0704.0002           Sparsity-certifying Graph Decompositions   \n",
       "45              0704.0046  A limit relation for entropy and channel capac...   \n",
       "46              0704.0047  Intelligent location of simultaneously active ...   \n",
       "49              0704.0050  Intelligent location of simultaneously active ...   \n",
       "61              0704.0062  On-line Viterbi Algorithm and Its Relationship...   \n",
       "...                   ...                                                ...   \n",
       "2724115  quant-ph/9909094  Quantum Computation and Quadratically Signed W...   \n",
       "2724148  quant-ph/9910033  Almost-Everywhere Superiority for Quantum Comp...   \n",
       "2724202  quant-ph/9910087  Unconditionally Secure Commitment of a Certifi...   \n",
       "2724283  quant-ph/9911043             Cheat Sensitive Quantum Bit Commitment   \n",
       "2724464  quant-ph/9912100  Quantum Computing, NP-complete Problems and Ch...   \n",
       "\n",
       "                                            authors_parsed  \\\n",
       "1                 [[Streinu, Ileana, ], [Theran, Louis, ]]   \n",
       "45           [[Csiszar, I., ], [Hiai, F., ], [Petz, D., ]]   \n",
       "46                         [[Kosel, T., ], [Grabec, I., ]]   \n",
       "49                         [[Kosel, T., ], [Grabec, I., ]]   \n",
       "61       [[Šrámek, Rastislav, ], [Brejová, Broňa, ], [V...   \n",
       "...                                                    ...   \n",
       "2724115                  [[Knill, E., ], [Laflamme, R., ]]   \n",
       "2724148  [[Hemaspaandra, Edith, , RIT], [Hemaspaandra, ...   \n",
       "2724202  [[Kent, Adrian, , DAMTP, University of Cambrid...   \n",
       "2724283  [[Hardy, Lucien, , The Perimeter Institute], [...   \n",
       "2724464        [[Ohya, Masanori, ], [Volovich, Igor V., ]]   \n",
       "\n",
       "                              mapped_categories update_date  \n",
       "1                 Mathematics, Computer Science  2008-12-13  \n",
       "45       Physics, Mathematics, Computer Science  2009-11-13  \n",
       "46                             Computer Science  2009-09-29  \n",
       "49                             Computer Science  2007-05-23  \n",
       "61                             Computer Science  2010-01-25  \n",
       "...                                         ...         ...  \n",
       "2724115               Physics, Computer Science  2007-05-23  \n",
       "2724148               Physics, Computer Science  2007-05-23  \n",
       "2724202               Physics, Computer Science  2009-10-31  \n",
       "2724283               Physics, Computer Science  2009-10-31  \n",
       "2724464  Physics, Computer Science, Not-defined  2007-05-23  \n",
       "\n",
       "[753369 rows x 5 columns]"
      ]
     },
     "execution_count": 40,
     "metadata": {},
     "output_type": "execute_result"
    }
   ],
   "source": [
    "df"
   ]
  },
  {
   "cell_type": "markdown",
   "metadata": {},
   "source": [
    "## Integrate Data"
   ]
  },
  {
   "cell_type": "markdown",
   "metadata": {},
   "source": [
    "### Category mapping"
   ]
  },
  {
   "cell_type": "markdown",
   "metadata": {},
   "source": [
    "We already performed the category code-to-name mapping in the data understanding stage."
   ]
  },
  {
   "cell_type": "markdown",
   "metadata": {},
   "source": [
    "## Construct Data"
   ]
  },
  {
   "cell_type": "markdown",
   "metadata": {},
   "source": [
    "### Author’s name as FirstName LastName"
   ]
  },
  {
   "cell_type": "markdown",
   "metadata": {},
   "source": [
    "Let's store author names in the format “FirstName LastName” for consistency."
   ]
  },
  {
   "cell_type": "code",
   "execution_count": 41,
   "metadata": {
    "execution": {
     "iopub.execute_input": "2025-05-10T20:21:50.615333Z",
     "iopub.status.busy": "2025-05-10T20:21:50.615128Z",
     "iopub.status.idle": "2025-05-10T20:22:00.694084Z",
     "shell.execute_reply": "2025-05-10T20:22:00.693524Z",
     "shell.execute_reply.started": "2025-05-10T20:21:50.615318Z"
    },
    "trusted": true
   },
   "outputs": [],
   "source": [
    "df[\"authors_list\"] = df[\"authors_parsed\"].apply(\n",
    "    lambda lst: [\" \".join(a[:2]).strip() for a in lst]\n",
    ")\n",
    "df = df.reset_index(drop=True)"
   ]
  },
  {
   "cell_type": "code",
   "execution_count": 42,
   "metadata": {
    "execution": {
     "iopub.execute_input": "2025-05-10T20:22:00.695027Z",
     "iopub.status.busy": "2025-05-10T20:22:00.694787Z",
     "iopub.status.idle": "2025-05-10T20:22:01.988884Z",
     "shell.execute_reply": "2025-05-10T20:22:01.988256Z",
     "shell.execute_reply.started": "2025-05-10T20:22:00.695009Z"
    },
    "trusted": true
   },
   "outputs": [
    {
     "name": "stdout",
     "output_type": "stream",
     "text": [
      "Total unique authors: 723457\n",
      "Total papers: 753369\n"
     ]
    }
   ],
   "source": [
    "all_authors = [auth for lst in df[\"authors_list\"] for auth in lst]\n",
    "author_counts = Counter(all_authors)\n",
    "counts = np.array(list(author_counts.values()))\n",
    "print(f\"Total unique authors: {len(set(all_authors))}\")\n",
    "print(f\"Total papers: {len(df)}\")"
   ]
  },
  {
   "cell_type": "markdown",
   "metadata": {},
   "source": [
    "## Clean Data"
   ]
  },
  {
   "cell_type": "markdown",
   "metadata": {},
   "source": [
    "### Duplicates removal\n",
    "We already removed duplicate records in the data understanding stage."
   ]
  },
  {
   "cell_type": "markdown",
   "metadata": {},
   "source": [
    "### Filtering authors and papers by activity\n",
    "We keep only authors with a reasonable number of papers (between 1 and 500) and remove papers where any author falls outside this range."
   ]
  },
  {
   "cell_type": "code",
   "execution_count": 43,
   "metadata": {
    "execution": {
     "iopub.execute_input": "2025-05-10T20:22:01.989741Z",
     "iopub.status.busy": "2025-05-10T20:22:01.989563Z",
     "iopub.status.idle": "2025-05-10T20:22:02.133877Z",
     "shell.execute_reply": "2025-05-10T20:22:02.132967Z",
     "shell.execute_reply.started": "2025-05-10T20:22:01.989726Z"
    },
    "trusted": true
   },
   "outputs": [
    {
     "name": "stdout",
     "output_type": "stream",
     "text": [
      "Before filter: unique authors = 723457, min papers = 1, max papers = 1550\n",
      "Keeping 723419 authors (removed 38)\n"
     ]
    }
   ],
   "source": [
    "print(\n",
    "    f\"Before filter: unique authors = {len(author_counts)}, min papers = {counts.min()}, max papers = {counts.max()}\"\n",
    ")\n",
    "lower, upper = 1, 500\n",
    "keep_authors = {auth for auth, cnt in author_counts.items() if lower <= cnt <= upper}\n",
    "print(\n",
    "    f\"Keeping {len(keep_authors)} authors (removed {len(author_counts) - len(keep_authors)})\"\n",
    ")"
   ]
  },
  {
   "cell_type": "code",
   "execution_count": 44,
   "metadata": {
    "execution": {
     "iopub.execute_input": "2025-05-10T20:22:02.135146Z",
     "iopub.status.busy": "2025-05-10T20:22:02.134823Z",
     "iopub.status.idle": "2025-05-10T20:22:03.381042Z",
     "shell.execute_reply": "2025-05-10T20:22:03.380267Z",
     "shell.execute_reply.started": "2025-05-10T20:22:02.135123Z"
    },
    "trusted": true
   },
   "outputs": [
    {
     "name": "stdout",
     "output_type": "stream",
     "text": [
      "Papers before: 753369, after: 729171\n"
     ]
    }
   ],
   "source": [
    "before_papers = len(df)\n",
    "df = df[\n",
    "    df[\"authors_list\"].apply(lambda lst: all(a in keep_authors for a in lst))\n",
    "].reset_index(drop=True)\n",
    "print(f\"Papers before: {before_papers}, after: {len(df)}\")"
   ]
  },
  {
   "cell_type": "code",
   "execution_count": 45,
   "metadata": {
    "execution": {
     "iopub.execute_input": "2025-05-10T20:22:03.382138Z",
     "iopub.status.busy": "2025-05-10T20:22:03.381875Z",
     "iopub.status.idle": "2025-05-10T20:22:04.606562Z",
     "shell.execute_reply": "2025-05-10T20:22:04.605914Z",
     "shell.execute_reply.started": "2025-05-10T20:22:03.382119Z"
    },
    "trusted": true
   },
   "outputs": [
    {
     "name": "stdout",
     "output_type": "stream",
     "text": [
      "After filter: unique authors = 711501, min papers = 1, max papers = 441\n"
     ]
    }
   ],
   "source": [
    "new_authors = [a for lst in df[\"authors_list\"] for a in lst]\n",
    "new_counts = np.array(list(Counter(new_authors).values()))\n",
    "print(\n",
    "    f\"After filter: unique authors = {len(set(new_authors))}, min papers = {new_counts.min()}, max papers = {new_counts.max()}\"\n",
    ")"
   ]
  },
  {
   "cell_type": "markdown",
   "metadata": {},
   "source": [
    "### Filtering papers by number of authors\n",
    "We keep only papers that have a reasonable number of authors (between 1 and 20)."
   ]
  },
  {
   "cell_type": "code",
   "execution_count": 46,
   "metadata": {
    "execution": {
     "iopub.execute_input": "2025-05-10T20:22:04.607666Z",
     "iopub.status.busy": "2025-05-10T20:22:04.607315Z",
     "iopub.status.idle": "2025-05-10T20:22:04.813100Z",
     "shell.execute_reply": "2025-05-10T20:22:04.812490Z",
     "shell.execute_reply.started": "2025-05-10T20:22:04.607633Z"
    },
    "trusted": true
   },
   "outputs": [
    {
     "name": "stdout",
     "output_type": "stream",
     "text": [
      "Pre-filter: min authors = 1, max authors = 1109\n"
     ]
    }
   ],
   "source": [
    "df[\"num_authors\"] = df[\"authors_list\"].apply(len)\n",
    "print(\n",
    "    f\"Pre-filter: min authors = {df['num_authors'].min()}, max authors = {df['num_authors'].max()}\"\n",
    ")"
   ]
  },
  {
   "cell_type": "code",
   "execution_count": 47,
   "metadata": {
    "execution": {
     "iopub.execute_input": "2025-05-10T20:22:04.814491Z",
     "iopub.status.busy": "2025-05-10T20:22:04.813950Z",
     "iopub.status.idle": "2025-05-10T20:22:05.170184Z",
     "shell.execute_reply": "2025-05-10T20:22:05.169539Z",
     "shell.execute_reply.started": "2025-05-10T20:22:04.814463Z"
    },
    "trusted": true
   },
   "outputs": [
    {
     "name": "stdout",
     "output_type": "stream",
     "text": [
      "Post-filter: min authors = 1, max authors = 20\n"
     ]
    }
   ],
   "source": [
    "lower, upper = 1, 20\n",
    "df = df[(df[\"num_authors\"] >= lower) & (df[\"num_authors\"] <= upper)].copy()\n",
    "print(\n",
    "    f\"Post-filter: min authors = {df['num_authors'].min()}, max authors = {df['num_authors'].max()}\"\n",
    ")"
   ]
  },
  {
   "cell_type": "code",
   "execution_count": 48,
   "metadata": {
    "execution": {
     "iopub.execute_input": "2025-05-10T20:22:05.171097Z",
     "iopub.status.busy": "2025-05-10T20:22:05.170853Z",
     "iopub.status.idle": "2025-05-10T20:22:05.511204Z",
     "shell.execute_reply": "2025-05-10T20:22:05.510393Z",
     "shell.execute_reply.started": "2025-05-10T20:22:05.171079Z"
    },
    "trusted": true
   },
   "outputs": [
    {
     "name": "stdout",
     "output_type": "stream",
     "text": [
      "Train period: 2024-11-02 → 2025-03-02,  N=51955\n",
      "Val   period: 2025-03-02 → 2025-04-02,  N=19177\n",
      "Test  period: 2025-04-02 → 2025-05-02,  N=17369\n"
     ]
    }
   ],
   "source": [
    "from dateutil.relativedelta import relativedelta\n",
    "\n",
    "df[\"update_date\"] = pd.to_datetime(df[\"update_date\"])\n",
    "\n",
    "max_date = df[\"update_date\"].max()\n",
    "test_start = max_date - relativedelta(months=1)\n",
    "val_start = test_start - relativedelta(months=1)\n",
    "train_start = val_start - relativedelta(months=4)\n",
    "\n",
    "df_train = df[\n",
    "    (df[\"update_date\"] >= train_start) & (df[\"update_date\"] < val_start)\n",
    "].reset_index(drop=True)\n",
    "df_val = df[\n",
    "    (df[\"update_date\"] >= val_start) & (df[\"update_date\"] < test_start)\n",
    "].reset_index(drop=True)\n",
    "df_test = df[\n",
    "    (df[\"update_date\"] >= test_start) & (df[\"update_date\"] <= max_date)\n",
    "].reset_index(drop=True)\n",
    "\n",
    "print(f\"Train period: {train_start.date()} → {val_start.date()},  N={len(df_train)}\")\n",
    "print(f\"Val   period: {val_start.date()} → {test_start.date()},  N={len(df_val)}\")\n",
    "print(f\"Test  period: {test_start.date()} → {max_date.date()},  N={len(df_test)}\")"
   ]
  },
  {
   "cell_type": "markdown",
   "metadata": {},
   "source": [
    "## Format Data"
   ]
  },
  {
   "cell_type": "code",
   "execution_count": 49,
   "metadata": {
    "execution": {
     "iopub.execute_input": "2025-05-10T20:22:05.512304Z",
     "iopub.status.busy": "2025-05-10T20:22:05.512051Z",
     "iopub.status.idle": "2025-05-10T20:22:11.005549Z",
     "shell.execute_reply": "2025-05-10T20:22:11.004800Z",
     "shell.execute_reply.started": "2025-05-10T20:22:05.512280Z"
    },
    "trusted": true
   },
   "outputs": [
    {
     "name": "stdout",
     "output_type": "stream",
     "text": [
      "Train graph: 135410 nodes, 509193 edges\n"
     ]
    }
   ],
   "source": [
    "author2idx = {}\n",
    "G = nx.Graph()\n",
    "for _, row in df_train.iterrows():\n",
    "    for auth in row[\"authors_list\"]:\n",
    "        if auth not in author2idx:\n",
    "            author2idx[auth] = len(author2idx)\n",
    "        G.add_node(auth)\n",
    "for _, row in df_train.iterrows():\n",
    "    authors = row[\"authors_list\"]\n",
    "    for i in range(len(authors)):\n",
    "        for j in range(i + 1, len(authors)):\n",
    "            u, v = authors[i], authors[j]\n",
    "            if G.has_edge(u, v):\n",
    "                G[u][v][\"weight\"] += 1\n",
    "            else:\n",
    "                G.add_edge(u, v, weight=1)\n",
    "print(f\"Train graph: {G.number_of_nodes()} nodes, {G.number_of_edges()} edges\")"
   ]
  },
  {
   "cell_type": "markdown",
   "metadata": {},
   "source": [
    "# 3. Modeling"
   ]
  },
  {
   "cell_type": "markdown",
   "metadata": {},
   "source": [
    "## Caching title embeddings with SciBERT\n",
    "In this step, we compute semantic embeddings for article titles using the SciBERT model, which is well-suited for scientific text. To avoid recomputing these embeddings every time, we process the titles in batches, extract the sentence-level representations, and save them in a local cache file keyed by article ID."
   ]
  },
  {
   "cell_type": "code",
   "execution_count": 50,
   "metadata": {
    "execution": {
     "iopub.execute_input": "2025-05-10T20:22:11.006775Z",
     "iopub.status.busy": "2025-05-10T20:22:11.006499Z",
     "iopub.status.idle": "2025-05-10T20:23:21.873347Z",
     "shell.execute_reply": "2025-05-10T20:23:21.872555Z",
     "shell.execute_reply.started": "2025-05-10T20:22:11.006733Z"
    },
    "trusted": true
   },
   "outputs": [
    {
     "name": "stdout",
     "output_type": "stream",
     "text": [
      "Cache not found. Computing title embeddings...\n"
     ]
    },
    {
     "data": {
      "application/vnd.jupyter.widget-view+json": {
       "model_id": "8faf9ecb1dd043e89b1886ffb429c37c",
       "version_major": 2,
       "version_minor": 0
      },
      "text/plain": [
       "config.json:   0%|          | 0.00/385 [00:00<?, ?B/s]"
      ]
     },
     "metadata": {},
     "output_type": "display_data"
    },
    {
     "data": {
      "application/vnd.jupyter.widget-view+json": {
       "model_id": "58ba2ef6f1ef4065929b7993b78cf3cb",
       "version_major": 2,
       "version_minor": 0
      },
      "text/plain": [
       "vocab.txt:   0%|          | 0.00/228k [00:00<?, ?B/s]"
      ]
     },
     "metadata": {},
     "output_type": "display_data"
    },
    {
     "name": "stderr",
     "output_type": "stream",
     "text": [
      "2025-05-10 20:22:17.437105: E external/local_xla/xla/stream_executor/cuda/cuda_fft.cc:477] Unable to register cuFFT factory: Attempting to register factory for plugin cuFFT when one has already been registered\n",
      "WARNING: All log messages before absl::InitializeLog() is called are written to STDERR\n",
      "E0000 00:00:1746908537.671027      31 cuda_dnn.cc:8310] Unable to register cuDNN factory: Attempting to register factory for plugin cuDNN when one has already been registered\n",
      "E0000 00:00:1746908537.740681      31 cuda_blas.cc:1418] Unable to register cuBLAS factory: Attempting to register factory for plugin cuBLAS when one has already been registered\n"
     ]
    },
    {
     "data": {
      "application/vnd.jupyter.widget-view+json": {
       "model_id": "afa3884653514fd98cd6bcbef3f3a097",
       "version_major": 2,
       "version_minor": 0
      },
      "text/plain": [
       "pytorch_model.bin:   0%|          | 0.00/442M [00:00<?, ?B/s]"
      ]
     },
     "metadata": {},
     "output_type": "display_data"
    },
    {
     "data": {
      "application/vnd.jupyter.widget-view+json": {
       "model_id": "61138624195d46a28161c357e3ef7e39",
       "version_major": 2,
       "version_minor": 0
      },
      "text/plain": [
       "model.safetensors:   0%|          | 0.00/442M [00:00<?, ?B/s]"
      ]
     },
     "metadata": {},
     "output_type": "display_data"
    },
    {
     "name": "stderr",
     "output_type": "stream",
     "text": [
      "\n",
      "Embedding titles:   0%|          | 0/812 [00:00<?, ?it/s]\u001b[A\n",
      "Embedding titles:   0%|          | 1/812 [00:00<05:21,  2.52it/s]\u001b[A\n",
      "Embedding titles:   0%|          | 3/812 [00:00<02:08,  6.29it/s]\u001b[A\n",
      "Embedding titles:   1%|          | 5/812 [00:00<01:24,  9.57it/s]\u001b[A\n",
      "Embedding titles:   1%|          | 7/812 [00:00<01:06, 12.02it/s]\u001b[A\n",
      "Embedding titles:   1%|          | 9/812 [00:00<00:59, 13.45it/s]\u001b[A\n",
      "Embedding titles:   1%|▏         | 11/812 [00:01<00:55, 14.51it/s]\u001b[A\n",
      "Embedding titles:   2%|▏         | 13/812 [00:01<00:54, 14.66it/s]\u001b[A\n",
      "Embedding titles:   2%|▏         | 15/812 [00:01<00:50, 15.70it/s]\u001b[A\n",
      "Embedding titles:   2%|▏         | 17/812 [00:01<00:48, 16.34it/s]\u001b[A\n",
      "Embedding titles:   2%|▏         | 19/812 [00:01<00:46, 16.88it/s]\u001b[A\n",
      "Embedding titles:   3%|▎         | 21/812 [00:01<00:46, 16.95it/s]\u001b[A\n",
      "Embedding titles:   3%|▎         | 24/812 [00:01<00:45, 17.33it/s]\u001b[A\n",
      "Embedding titles:   3%|▎         | 26/812 [00:01<00:45, 17.09it/s]\u001b[A\n",
      "Embedding titles:   3%|▎         | 28/812 [00:02<00:47, 16.35it/s]\u001b[A\n",
      "Embedding titles:   4%|▎         | 30/812 [00:02<00:46, 16.83it/s]\u001b[A\n",
      "Embedding titles:   4%|▍         | 32/812 [00:02<00:50, 15.53it/s]\u001b[A\n",
      "Embedding titles:   4%|▍         | 34/812 [00:02<00:47, 16.24it/s]\u001b[A\n",
      "Embedding titles:   4%|▍         | 36/812 [00:02<00:45, 16.97it/s]\u001b[A\n",
      "Embedding titles:   5%|▍         | 38/812 [00:02<00:47, 16.41it/s]\u001b[A\n",
      "Embedding titles:   5%|▍         | 40/812 [00:02<00:47, 16.14it/s]\u001b[A\n",
      "Embedding titles:   5%|▌         | 42/812 [00:02<00:48, 16.00it/s]\u001b[A\n",
      "Embedding titles:   5%|▌         | 44/812 [00:02<00:46, 16.54it/s]\u001b[A\n",
      "Embedding titles:   6%|▌         | 46/812 [00:03<00:44, 17.22it/s]\u001b[A\n",
      "Embedding titles:   6%|▌         | 48/812 [00:03<00:43, 17.48it/s]\u001b[A\n",
      "Embedding titles:   6%|▌         | 50/812 [00:03<00:43, 17.71it/s]\u001b[A\n",
      "Embedding titles:   6%|▋         | 52/812 [00:03<00:42, 17.84it/s]\u001b[A\n",
      "Embedding titles:   7%|▋         | 54/812 [00:03<00:42, 17.92it/s]\u001b[A\n",
      "Embedding titles:   7%|▋         | 56/812 [00:03<00:42, 17.62it/s]\u001b[A\n",
      "Embedding titles:   7%|▋         | 58/812 [00:03<00:43, 17.36it/s]\u001b[A\n",
      "Embedding titles:   7%|▋         | 60/812 [00:03<00:42, 17.74it/s]\u001b[A\n",
      "Embedding titles:   8%|▊         | 62/812 [00:03<00:41, 17.99it/s]\u001b[A\n",
      "Embedding titles:   8%|▊         | 64/812 [00:04<00:42, 17.54it/s]\u001b[A\n",
      "Embedding titles:   8%|▊         | 66/812 [00:04<00:41, 18.01it/s]\u001b[A\n",
      "Embedding titles:   8%|▊         | 68/812 [00:04<00:42, 17.51it/s]\u001b[A\n",
      "Embedding titles:   9%|▊         | 70/812 [00:04<00:44, 16.73it/s]\u001b[A\n",
      "Embedding titles:   9%|▉         | 72/812 [00:04<00:46, 16.02it/s]\u001b[A\n",
      "Embedding titles:   9%|▉         | 75/812 [00:04<00:42, 17.43it/s]\u001b[A\n",
      "Embedding titles:   9%|▉         | 77/812 [00:04<00:42, 17.36it/s]\u001b[A\n",
      "Embedding titles:  10%|▉         | 79/812 [00:04<00:41, 17.64it/s]\u001b[A\n",
      "Embedding titles:  10%|▉         | 81/812 [00:05<00:42, 17.37it/s]\u001b[A\n",
      "Embedding titles:  10%|█         | 83/812 [00:05<00:44, 16.40it/s]\u001b[A\n",
      "Embedding titles:  10%|█         | 85/812 [00:05<00:42, 17.09it/s]\u001b[A\n",
      "Embedding titles:  11%|█         | 87/812 [00:05<00:42, 17.11it/s]\u001b[A\n",
      "Embedding titles:  11%|█         | 89/812 [00:05<00:40, 17.82it/s]\u001b[A\n",
      "Embedding titles:  11%|█         | 91/812 [00:05<00:41, 17.24it/s]\u001b[A\n",
      "Embedding titles:  11%|█▏        | 93/812 [00:05<00:43, 16.40it/s]\u001b[A\n",
      "Embedding titles:  12%|█▏        | 96/812 [00:05<00:41, 17.46it/s]\u001b[A\n",
      "Embedding titles:  12%|█▏        | 98/812 [00:06<00:41, 17.39it/s]\u001b[A\n",
      "Embedding titles:  12%|█▏        | 100/812 [00:06<00:41, 17.30it/s]\u001b[A\n",
      "Embedding titles:  13%|█▎        | 102/812 [00:06<00:45, 15.48it/s]\u001b[A\n",
      "Embedding titles:  13%|█▎        | 104/812 [00:06<00:43, 16.30it/s]\u001b[A\n",
      "Embedding titles:  13%|█▎        | 107/812 [00:06<00:39, 17.67it/s]\u001b[A\n",
      "Embedding titles:  13%|█▎        | 109/812 [00:06<00:39, 17.82it/s]\u001b[A\n",
      "Embedding titles:  14%|█▎        | 111/812 [00:06<00:38, 18.03it/s]\u001b[A\n",
      "Embedding titles:  14%|█▍        | 113/812 [00:06<00:38, 18.32it/s]\u001b[A\n",
      "Embedding titles:  14%|█▍        | 115/812 [00:07<00:37, 18.59it/s]\u001b[A\n",
      "Embedding titles:  14%|█▍        | 117/812 [00:07<00:37, 18.37it/s]\u001b[A\n",
      "Embedding titles:  15%|█▍        | 120/812 [00:07<00:36, 19.10it/s]\u001b[A\n",
      "Embedding titles:  15%|█▌        | 122/812 [00:07<00:37, 18.32it/s]\u001b[A\n",
      "Embedding titles:  15%|█▌        | 124/812 [00:07<00:37, 18.22it/s]\u001b[A\n",
      "Embedding titles:  16%|█▌        | 126/812 [00:07<00:39, 17.15it/s]\u001b[A\n",
      "Embedding titles:  16%|█▌        | 128/812 [00:07<00:41, 16.47it/s]\u001b[A\n",
      "Embedding titles:  16%|█▌        | 130/812 [00:07<00:42, 15.97it/s]\u001b[A\n",
      "Embedding titles:  16%|█▋        | 132/812 [00:08<00:45, 14.92it/s]\u001b[A\n",
      "Embedding titles:  17%|█▋        | 134/812 [00:08<00:43, 15.45it/s]\u001b[A\n",
      "Embedding titles:  17%|█▋        | 136/812 [00:08<00:41, 16.31it/s]\u001b[A\n",
      "Embedding titles:  17%|█▋        | 138/812 [00:08<00:39, 16.87it/s]\u001b[A\n",
      "Embedding titles:  17%|█▋        | 140/812 [00:08<00:38, 17.50it/s]\u001b[A\n",
      "Embedding titles:  17%|█▋        | 142/812 [00:08<00:38, 17.51it/s]\u001b[A\n",
      "Embedding titles:  18%|█▊        | 144/812 [00:08<00:37, 17.74it/s]\u001b[A\n",
      "Embedding titles:  18%|█▊        | 147/812 [00:08<00:39, 17.03it/s]\u001b[A\n",
      "Embedding titles:  18%|█▊        | 149/812 [00:09<00:38, 17.42it/s]\u001b[A\n",
      "Embedding titles:  19%|█▊        | 151/812 [00:09<00:37, 17.70it/s]\u001b[A\n",
      "Embedding titles:  19%|█▉        | 153/812 [00:09<00:41, 15.91it/s]\u001b[A\n",
      "Embedding titles:  19%|█▉        | 155/812 [00:09<00:39, 16.79it/s]\u001b[A\n",
      "Embedding titles:  19%|█▉        | 157/812 [00:09<00:37, 17.42it/s]\u001b[A\n",
      "Embedding titles:  20%|█▉        | 159/812 [00:09<00:36, 17.93it/s]\u001b[A\n",
      "Embedding titles:  20%|█▉        | 161/812 [00:09<00:36, 17.95it/s]\u001b[A\n",
      "Embedding titles:  20%|██        | 164/812 [00:09<00:35, 18.09it/s]\u001b[A\n",
      "Embedding titles:  20%|██        | 166/812 [00:10<00:36, 17.52it/s]\u001b[A\n",
      "Embedding titles:  21%|██        | 168/812 [00:10<00:35, 18.00it/s]\u001b[A\n",
      "Embedding titles:  21%|██        | 170/812 [00:10<00:35, 18.17it/s]\u001b[A\n",
      "Embedding titles:  21%|██        | 172/812 [00:10<00:35, 18.27it/s]\u001b[A\n",
      "Embedding titles:  21%|██▏       | 174/812 [00:10<00:34, 18.58it/s]\u001b[A\n",
      "Embedding titles:  22%|██▏       | 176/812 [00:10<00:38, 16.67it/s]\u001b[A\n",
      "Embedding titles:  22%|██▏       | 178/812 [00:10<00:37, 16.92it/s]\u001b[A\n",
      "Embedding titles:  22%|██▏       | 180/812 [00:10<00:37, 16.87it/s]\u001b[A\n",
      "Embedding titles:  22%|██▏       | 182/812 [00:10<00:36, 17.29it/s]\u001b[A\n",
      "Embedding titles:  23%|██▎       | 184/812 [00:11<00:36, 17.32it/s]\u001b[A\n",
      "Embedding titles:  23%|██▎       | 186/812 [00:11<00:37, 16.91it/s]\u001b[A\n",
      "Embedding titles:  23%|██▎       | 189/812 [00:11<00:34, 17.99it/s]\u001b[A\n",
      "Embedding titles:  24%|██▎       | 191/812 [00:11<00:35, 17.47it/s]\u001b[A\n",
      "Embedding titles:  24%|██▍       | 193/812 [00:11<00:34, 17.73it/s]\u001b[A\n",
      "Embedding titles:  24%|██▍       | 195/812 [00:11<00:34, 17.74it/s]\u001b[A\n",
      "Embedding titles:  24%|██▍       | 197/812 [00:11<00:33, 18.21it/s]\u001b[A\n",
      "Embedding titles:  25%|██▍       | 199/812 [00:11<00:33, 18.47it/s]\u001b[A\n",
      "Embedding titles:  25%|██▍       | 201/812 [00:11<00:33, 18.39it/s]\u001b[A\n",
      "Embedding titles:  25%|██▌       | 203/812 [00:12<00:32, 18.47it/s]\u001b[A\n",
      "Embedding titles:  25%|██▌       | 205/812 [00:12<00:35, 16.99it/s]\u001b[A\n",
      "Embedding titles:  25%|██▌       | 207/812 [00:12<00:34, 17.75it/s]\u001b[A\n",
      "Embedding titles:  26%|██▌       | 209/812 [00:12<00:34, 17.73it/s]\u001b[A\n",
      "Embedding titles:  26%|██▌       | 211/812 [00:12<00:36, 16.64it/s]\u001b[A\n",
      "Embedding titles:  26%|██▌       | 213/812 [00:12<00:35, 17.11it/s]\u001b[A\n",
      "Embedding titles:  26%|██▋       | 215/812 [00:12<00:34, 17.45it/s]\u001b[A\n",
      "Embedding titles:  27%|██▋       | 217/812 [00:12<00:33, 17.79it/s]\u001b[A\n",
      "Embedding titles:  27%|██▋       | 219/812 [00:13<00:39, 15.13it/s]\u001b[A\n",
      "Embedding titles:  27%|██▋       | 221/812 [00:13<00:36, 16.25it/s]\u001b[A\n",
      "Embedding titles:  27%|██▋       | 223/812 [00:13<00:34, 16.94it/s]\u001b[A\n",
      "Embedding titles:  28%|██▊       | 225/812 [00:13<00:33, 17.37it/s]\u001b[A\n",
      "Embedding titles:  28%|██▊       | 227/812 [00:13<00:36, 16.19it/s]\u001b[A\n",
      "Embedding titles:  28%|██▊       | 229/812 [00:13<00:36, 16.07it/s]\u001b[A\n",
      "Embedding titles:  28%|██▊       | 231/812 [00:13<00:34, 16.73it/s]\u001b[A\n",
      "Embedding titles:  29%|██▊       | 233/812 [00:13<00:33, 17.49it/s]\u001b[A\n",
      "Embedding titles:  29%|██▉       | 235/812 [00:14<00:34, 16.76it/s]\u001b[A\n",
      "Embedding titles:  29%|██▉       | 237/812 [00:14<00:33, 17.08it/s]\u001b[A\n",
      "Embedding titles:  29%|██▉       | 239/812 [00:14<00:32, 17.75it/s]\u001b[A\n",
      "Embedding titles:  30%|██▉       | 241/812 [00:14<00:35, 16.18it/s]\u001b[A\n",
      "Embedding titles:  30%|██▉       | 243/812 [00:14<00:34, 16.36it/s]\u001b[A\n",
      "Embedding titles:  30%|███       | 245/812 [00:14<00:33, 17.07it/s]\u001b[A\n",
      "Embedding titles:  30%|███       | 247/812 [00:14<00:32, 17.55it/s]\u001b[A\n",
      "Embedding titles:  31%|███       | 249/812 [00:14<00:32, 17.41it/s]\u001b[A\n",
      "Embedding titles:  31%|███       | 251/812 [00:14<00:31, 17.91it/s]\u001b[A\n",
      "Embedding titles:  31%|███       | 253/812 [00:15<00:30, 18.34it/s]\u001b[A\n",
      "Embedding titles:  32%|███▏      | 256/812 [00:15<00:29, 18.70it/s]\u001b[A\n",
      "Embedding titles:  32%|███▏      | 258/812 [00:15<00:29, 18.73it/s]\u001b[A\n",
      "Embedding titles:  32%|███▏      | 260/812 [00:15<00:31, 17.68it/s]\u001b[A\n",
      "Embedding titles:  32%|███▏      | 262/812 [00:15<00:30, 18.18it/s]\u001b[A\n",
      "Embedding titles:  33%|███▎      | 264/812 [00:15<00:29, 18.57it/s]\u001b[A\n",
      "Embedding titles:  33%|███▎      | 266/812 [00:15<00:29, 18.76it/s]\u001b[A\n",
      "Embedding titles:  33%|███▎      | 268/812 [00:15<00:28, 19.05it/s]\u001b[A\n",
      "Embedding titles:  33%|███▎      | 270/812 [00:15<00:29, 18.67it/s]\u001b[A\n",
      "Embedding titles:  33%|███▎      | 272/812 [00:16<00:28, 18.66it/s]\u001b[A\n",
      "Embedding titles:  34%|███▎      | 274/812 [00:16<00:28, 18.90it/s]\u001b[A\n",
      "Embedding titles:  34%|███▍      | 276/812 [00:16<00:27, 19.16it/s]\u001b[A\n",
      "Embedding titles:  34%|███▍      | 278/812 [00:16<00:30, 17.32it/s]\u001b[A\n",
      "Embedding titles:  34%|███▍      | 280/812 [00:16<00:30, 17.21it/s]\u001b[A\n",
      "Embedding titles:  35%|███▍      | 282/812 [00:16<00:29, 17.84it/s]\u001b[A\n",
      "Embedding titles:  35%|███▍      | 284/812 [00:16<00:30, 17.35it/s]\u001b[A\n",
      "Embedding titles:  35%|███▌      | 286/812 [00:16<00:30, 17.05it/s]\u001b[A\n",
      "Embedding titles:  35%|███▌      | 288/812 [00:16<00:30, 17.09it/s]\u001b[A\n",
      "Embedding titles:  36%|███▌      | 290/812 [00:17<00:30, 17.13it/s]\u001b[A\n",
      "Embedding titles:  36%|███▌      | 293/812 [00:17<00:28, 17.95it/s]\u001b[A\n",
      "Embedding titles:  36%|███▋      | 296/812 [00:17<00:29, 17.53it/s]\u001b[A\n",
      "Embedding titles:  37%|███▋      | 298/812 [00:17<00:28, 18.03it/s]\u001b[A\n",
      "Embedding titles:  37%|███▋      | 300/812 [00:17<00:28, 18.11it/s]\u001b[A\n",
      "Embedding titles:  37%|███▋      | 302/812 [00:17<00:29, 17.44it/s]\u001b[A\n",
      "Embedding titles:  37%|███▋      | 304/812 [00:17<00:29, 17.30it/s]\u001b[A\n",
      "Embedding titles:  38%|███▊      | 306/812 [00:17<00:28, 17.98it/s]\u001b[A\n",
      "Embedding titles:  38%|███▊      | 308/812 [00:18<00:28, 17.88it/s]\u001b[A\n",
      "Embedding titles:  38%|███▊      | 310/812 [00:18<00:28, 17.40it/s]\u001b[A\n",
      "Embedding titles:  38%|███▊      | 312/812 [00:18<00:28, 17.54it/s]\u001b[A\n",
      "Embedding titles:  39%|███▊      | 314/812 [00:18<00:29, 16.97it/s]\u001b[A\n",
      "Embedding titles:  39%|███▉      | 316/812 [00:18<00:29, 16.63it/s]\u001b[A\n",
      "Embedding titles:  39%|███▉      | 318/812 [00:18<00:31, 15.93it/s]\u001b[A\n",
      "Embedding titles:  39%|███▉      | 320/812 [00:18<00:31, 15.49it/s]\u001b[A\n",
      "Embedding titles:  40%|███▉      | 322/812 [00:18<00:29, 16.48it/s]\u001b[A\n",
      "Embedding titles:  40%|███▉      | 324/812 [00:19<00:28, 17.31it/s]\u001b[A\n",
      "Embedding titles:  40%|████      | 326/812 [00:19<00:27, 17.78it/s]\u001b[A\n",
      "Embedding titles:  40%|████      | 328/812 [00:19<00:27, 17.56it/s]\u001b[A\n",
      "Embedding titles:  41%|████      | 330/812 [00:19<00:29, 16.32it/s]\u001b[A\n",
      "Embedding titles:  41%|████      | 332/812 [00:19<00:28, 16.88it/s]\u001b[A\n",
      "Embedding titles:  41%|████      | 334/812 [00:19<00:27, 17.67it/s]\u001b[A\n",
      "Embedding titles:  41%|████▏     | 336/812 [00:19<00:26, 17.93it/s]\u001b[A\n",
      "Embedding titles:  42%|████▏     | 338/812 [00:19<00:26, 18.18it/s]\u001b[A\n",
      "Embedding titles:  42%|████▏     | 340/812 [00:19<00:25, 18.35it/s]\u001b[A\n",
      "Embedding titles:  42%|████▏     | 342/812 [00:20<00:26, 18.06it/s]\u001b[A\n",
      "Embedding titles:  42%|████▏     | 344/812 [00:20<00:27, 17.14it/s]\u001b[A\n",
      "Embedding titles:  43%|████▎     | 347/812 [00:20<00:25, 18.00it/s]\u001b[A\n",
      "Embedding titles:  43%|████▎     | 349/812 [00:20<00:25, 18.07it/s]\u001b[A\n",
      "Embedding titles:  43%|████▎     | 351/812 [00:20<00:25, 18.25it/s]\u001b[A\n",
      "Embedding titles:  43%|████▎     | 353/812 [00:20<00:26, 17.19it/s]\u001b[A\n",
      "Embedding titles:  44%|████▎     | 355/812 [00:20<00:26, 17.21it/s]\u001b[A\n",
      "Embedding titles:  44%|████▍     | 357/812 [00:20<00:26, 17.18it/s]\u001b[A\n",
      "Embedding titles:  44%|████▍     | 359/812 [00:21<00:27, 16.28it/s]\u001b[A\n",
      "Embedding titles:  44%|████▍     | 361/812 [00:21<00:28, 15.95it/s]\u001b[A\n",
      "Embedding titles:  45%|████▍     | 363/812 [00:21<00:26, 16.67it/s]\u001b[A\n",
      "Embedding titles:  45%|████▍     | 365/812 [00:21<00:26, 16.75it/s]\u001b[A\n",
      "Embedding titles:  45%|████▌     | 367/812 [00:21<00:25, 17.24it/s]\u001b[A\n",
      "Embedding titles:  45%|████▌     | 369/812 [00:21<00:26, 16.99it/s]\u001b[A\n",
      "Embedding titles:  46%|████▌     | 371/812 [00:21<00:26, 16.82it/s]\u001b[A\n",
      "Embedding titles:  46%|████▌     | 373/812 [00:21<00:27, 15.84it/s]\u001b[A\n",
      "Embedding titles:  46%|████▌     | 375/812 [00:22<00:26, 16.21it/s]\u001b[A\n",
      "Embedding titles:  46%|████▋     | 377/812 [00:22<00:25, 16.86it/s]\u001b[A\n",
      "Embedding titles:  47%|████▋     | 379/812 [00:22<00:25, 17.13it/s]\u001b[A\n",
      "Embedding titles:  47%|████▋     | 381/812 [00:22<00:25, 16.99it/s]\u001b[A\n",
      "Embedding titles:  47%|████▋     | 383/812 [00:22<00:24, 17.19it/s]\u001b[A\n",
      "Embedding titles:  47%|████▋     | 385/812 [00:22<00:24, 17.14it/s]\u001b[A\n",
      "Embedding titles:  48%|████▊     | 387/812 [00:22<00:24, 17.34it/s]\u001b[A\n",
      "Embedding titles:  48%|████▊     | 389/812 [00:22<00:23, 17.90it/s]\u001b[A\n",
      "Embedding titles:  48%|████▊     | 391/812 [00:22<00:23, 18.13it/s]\u001b[A\n",
      "Embedding titles:  48%|████▊     | 393/812 [00:23<00:22, 18.46it/s]\u001b[A\n",
      "Embedding titles:  49%|████▊     | 395/812 [00:23<00:23, 17.71it/s]\u001b[A\n",
      "Embedding titles:  49%|████▉     | 397/812 [00:23<00:22, 18.25it/s]\u001b[A\n",
      "Embedding titles:  49%|████▉     | 399/812 [00:23<00:22, 18.47it/s]\u001b[A\n",
      "Embedding titles:  49%|████▉     | 401/812 [00:23<00:21, 18.90it/s]\u001b[A\n",
      "Embedding titles:  50%|████▉     | 403/812 [00:23<00:21, 18.83it/s]\u001b[A\n",
      "Embedding titles:  50%|████▉     | 405/812 [00:23<00:22, 18.47it/s]\u001b[A\n",
      "Embedding titles:  50%|█████     | 407/812 [00:23<00:22, 18.25it/s]\u001b[A\n",
      "Embedding titles:  50%|█████     | 409/812 [00:23<00:21, 18.53it/s]\u001b[A\n",
      "Embedding titles:  51%|█████     | 411/812 [00:24<00:21, 18.30it/s]\u001b[A\n",
      "Embedding titles:  51%|█████     | 413/812 [00:24<00:22, 17.55it/s]\u001b[A\n",
      "Embedding titles:  51%|█████     | 416/812 [00:24<00:22, 17.83it/s]\u001b[A\n",
      "Embedding titles:  51%|█████▏    | 418/812 [00:24<00:22, 17.34it/s]\u001b[A\n",
      "Embedding titles:  52%|█████▏    | 420/812 [00:24<00:21, 17.90it/s]\u001b[A\n",
      "Embedding titles:  52%|█████▏    | 422/812 [00:24<00:21, 18.33it/s]\u001b[A\n",
      "Embedding titles:  52%|█████▏    | 424/812 [00:24<00:20, 18.77it/s]\u001b[A\n",
      "Embedding titles:  52%|█████▏    | 426/812 [00:24<00:20, 18.75it/s]\u001b[A\n",
      "Embedding titles:  53%|█████▎    | 428/812 [00:24<00:21, 17.50it/s]\u001b[A\n",
      "Embedding titles:  53%|█████▎    | 430/812 [00:25<00:21, 18.12it/s]\u001b[A\n",
      "Embedding titles:  53%|█████▎    | 432/812 [00:25<00:21, 17.79it/s]\u001b[A\n",
      "Embedding titles:  53%|█████▎    | 434/812 [00:25<00:21, 17.59it/s]\u001b[A\n",
      "Embedding titles:  54%|█████▎    | 436/812 [00:25<00:21, 17.89it/s]\u001b[A\n",
      "Embedding titles:  54%|█████▍    | 438/812 [00:25<00:22, 16.29it/s]\u001b[A\n",
      "Embedding titles:  54%|█████▍    | 440/812 [00:25<00:22, 16.89it/s]\u001b[A\n",
      "Embedding titles:  54%|█████▍    | 442/812 [00:25<00:21, 17.36it/s]\u001b[A\n",
      "Embedding titles:  55%|█████▍    | 444/812 [00:25<00:20, 18.04it/s]\u001b[A\n",
      "Embedding titles:  55%|█████▍    | 446/812 [00:25<00:19, 18.44it/s]\u001b[A\n",
      "Embedding titles:  55%|█████▌    | 448/812 [00:26<00:19, 18.26it/s]\u001b[A\n",
      "Embedding titles:  55%|█████▌    | 450/812 [00:26<00:19, 18.15it/s]\u001b[A\n",
      "Embedding titles:  56%|█████▌    | 452/812 [00:26<00:20, 17.16it/s]\u001b[A\n",
      "Embedding titles:  56%|█████▌    | 454/812 [00:26<00:19, 17.91it/s]\u001b[A\n",
      "Embedding titles:  56%|█████▋    | 457/812 [00:26<00:18, 18.71it/s]\u001b[A\n",
      "Embedding titles:  57%|█████▋    | 459/812 [00:26<00:19, 18.15it/s]\u001b[A\n",
      "Embedding titles:  57%|█████▋    | 461/812 [00:26<00:22, 15.93it/s]\u001b[A\n",
      "Embedding titles:  57%|█████▋    | 463/812 [00:26<00:21, 16.58it/s]\u001b[A\n",
      "Embedding titles:  57%|█████▋    | 465/812 [00:27<00:20, 16.67it/s]\u001b[A\n",
      "Embedding titles:  58%|█████▊    | 467/812 [00:27<00:20, 17.23it/s]\u001b[A\n",
      "Embedding titles:  58%|█████▊    | 469/812 [00:27<00:19, 17.64it/s]\u001b[A\n",
      "Embedding titles:  58%|█████▊    | 471/812 [00:27<00:18, 18.21it/s]\u001b[A\n",
      "Embedding titles:  58%|█████▊    | 473/812 [00:27<00:19, 17.84it/s]\u001b[A\n",
      "Embedding titles:  58%|█████▊    | 475/812 [00:27<00:18, 18.16it/s]\u001b[A\n",
      "Embedding titles:  59%|█████▊    | 477/812 [00:27<00:18, 17.98it/s]\u001b[A\n",
      "Embedding titles:  59%|█████▉    | 479/812 [00:27<00:19, 17.39it/s]\u001b[A\n",
      "Embedding titles:  59%|█████▉    | 481/812 [00:27<00:18, 17.74it/s]\u001b[A\n",
      "Embedding titles:  59%|█████▉    | 483/812 [00:28<00:20, 15.75it/s]\u001b[A\n",
      "Embedding titles:  60%|█████▉    | 485/812 [00:28<00:20, 16.35it/s]\u001b[A\n",
      "Embedding titles:  60%|█████▉    | 487/812 [00:28<00:18, 17.18it/s]\u001b[A\n",
      "Embedding titles:  60%|██████    | 489/812 [00:28<00:18, 17.61it/s]\u001b[A\n",
      "Embedding titles:  60%|██████    | 491/812 [00:28<00:18, 17.42it/s]\u001b[A\n",
      "Embedding titles:  61%|██████    | 493/812 [00:28<00:19, 16.40it/s]\u001b[A\n",
      "Embedding titles:  61%|██████    | 495/812 [00:28<00:18, 17.21it/s]\u001b[A\n",
      "Embedding titles:  61%|██████    | 497/812 [00:28<00:19, 16.19it/s]\u001b[A\n",
      "Embedding titles:  61%|██████▏   | 499/812 [00:29<00:18, 16.90it/s]\u001b[A\n",
      "Embedding titles:  62%|██████▏   | 501/812 [00:29<00:17, 17.47it/s]\u001b[A\n",
      "Embedding titles:  62%|██████▏   | 503/812 [00:29<00:18, 16.62it/s]\u001b[A\n",
      "Embedding titles:  62%|██████▏   | 505/812 [00:29<00:17, 17.10it/s]\u001b[A\n",
      "Embedding titles:  62%|██████▏   | 507/812 [00:29<00:17, 17.72it/s]\u001b[A\n",
      "Embedding titles:  63%|██████▎   | 509/812 [00:29<00:18, 16.48it/s]\u001b[A\n",
      "Embedding titles:  63%|██████▎   | 511/812 [00:29<00:18, 16.42it/s]\u001b[A\n",
      "Embedding titles:  63%|██████▎   | 513/812 [00:29<00:17, 16.99it/s]\u001b[A\n",
      "Embedding titles:  63%|██████▎   | 515/812 [00:30<00:17, 16.55it/s]\u001b[A\n",
      "Embedding titles:  64%|██████▎   | 517/812 [00:30<00:18, 15.79it/s]\u001b[A\n",
      "Embedding titles:  64%|██████▍   | 520/812 [00:30<00:17, 16.82it/s]\u001b[A\n",
      "Embedding titles:  64%|██████▍   | 522/812 [00:30<00:16, 17.29it/s]\u001b[A\n",
      "Embedding titles:  65%|██████▍   | 524/812 [00:30<00:16, 17.83it/s]\u001b[A\n",
      "Embedding titles:  65%|██████▍   | 526/812 [00:30<00:18, 15.76it/s]\u001b[A\n",
      "Embedding titles:  65%|██████▌   | 528/812 [00:30<00:17, 16.11it/s]\u001b[A\n",
      "Embedding titles:  65%|██████▌   | 530/812 [00:30<00:16, 17.03it/s]\u001b[A\n",
      "Embedding titles:  66%|██████▌   | 532/812 [00:31<00:15, 17.55it/s]\u001b[A\n",
      "Embedding titles:  66%|██████▌   | 534/812 [00:31<00:15, 18.06it/s]\u001b[A\n",
      "Embedding titles:  66%|██████▌   | 536/812 [00:31<00:14, 18.49it/s]\u001b[A\n",
      "Embedding titles:  66%|██████▋   | 538/812 [00:31<00:15, 17.78it/s]\u001b[A\n",
      "Embedding titles:  67%|██████▋   | 540/812 [00:31<00:15, 17.25it/s]\u001b[A\n",
      "Embedding titles:  67%|██████▋   | 542/812 [00:31<00:15, 17.13it/s]\u001b[A\n",
      "Embedding titles:  67%|██████▋   | 544/812 [00:31<00:15, 17.19it/s]\u001b[A\n",
      "Embedding titles:  67%|██████▋   | 546/812 [00:31<00:15, 17.56it/s]\u001b[A\n",
      "Embedding titles:  67%|██████▋   | 548/812 [00:31<00:15, 16.59it/s]\u001b[A\n",
      "Embedding titles:  68%|██████▊   | 550/812 [00:32<00:15, 17.16it/s]\u001b[A\n",
      "Embedding titles:  68%|██████▊   | 552/812 [00:32<00:15, 17.12it/s]\u001b[A\n",
      "Embedding titles:  68%|██████▊   | 554/812 [00:32<00:14, 17.31it/s]\u001b[A\n",
      "Embedding titles:  68%|██████▊   | 556/812 [00:32<00:14, 17.27it/s]\u001b[A\n",
      "Embedding titles:  69%|██████▊   | 558/812 [00:32<00:14, 16.96it/s]\u001b[A\n",
      "Embedding titles:  69%|██████▉   | 560/812 [00:32<00:14, 17.15it/s]\u001b[A\n",
      "Embedding titles:  69%|██████▉   | 562/812 [00:32<00:14, 17.65it/s]\u001b[A\n",
      "Embedding titles:  69%|██████▉   | 564/812 [00:32<00:14, 17.23it/s]\u001b[A\n",
      "Embedding titles:  70%|██████▉   | 566/812 [00:32<00:14, 17.56it/s]\u001b[A\n",
      "Embedding titles:  70%|██████▉   | 568/812 [00:33<00:16, 15.23it/s]\u001b[A\n",
      "Embedding titles:  70%|███████   | 570/812 [00:33<00:15, 15.91it/s]\u001b[A\n",
      "Embedding titles:  70%|███████   | 572/812 [00:33<00:14, 16.86it/s]\u001b[A\n",
      "Embedding titles:  71%|███████   | 574/812 [00:33<00:14, 16.73it/s]\u001b[A\n",
      "Embedding titles:  71%|███████   | 576/812 [00:33<00:13, 17.53it/s]\u001b[A\n",
      "Embedding titles:  71%|███████   | 578/812 [00:33<00:13, 17.36it/s]\u001b[A\n",
      "Embedding titles:  71%|███████▏  | 580/812 [00:33<00:13, 17.25it/s]\u001b[A\n",
      "Embedding titles:  72%|███████▏  | 582/812 [00:33<00:13, 17.14it/s]\u001b[A\n",
      "Embedding titles:  72%|███████▏  | 584/812 [00:34<00:14, 15.32it/s]\u001b[A\n",
      "Embedding titles:  72%|███████▏  | 586/812 [00:34<00:13, 16.35it/s]\u001b[A\n",
      "Embedding titles:  72%|███████▏  | 588/812 [00:34<00:12, 17.26it/s]\u001b[A\n",
      "Embedding titles:  73%|███████▎  | 590/812 [00:34<00:12, 17.44it/s]\u001b[A\n",
      "Embedding titles:  73%|███████▎  | 592/812 [00:34<00:12, 17.84it/s]\u001b[A\n",
      "Embedding titles:  73%|███████▎  | 594/812 [00:34<00:11, 18.31it/s]\u001b[A\n",
      "Embedding titles:  73%|███████▎  | 596/812 [00:34<00:11, 18.05it/s]\u001b[A\n",
      "Embedding titles:  74%|███████▎  | 598/812 [00:34<00:12, 17.54it/s]\u001b[A\n",
      "Embedding titles:  74%|███████▍  | 600/812 [00:34<00:11, 18.13it/s]\u001b[A\n",
      "Embedding titles:  74%|███████▍  | 602/812 [00:35<00:11, 18.55it/s]\u001b[A\n",
      "Embedding titles:  74%|███████▍  | 604/812 [00:35<00:11, 18.68it/s]\u001b[A\n",
      "Embedding titles:  75%|███████▍  | 606/812 [00:35<00:10, 18.94it/s]\u001b[A\n",
      "Embedding titles:  75%|███████▍  | 608/812 [00:35<00:10, 18.85it/s]\u001b[A\n",
      "Embedding titles:  75%|███████▌  | 610/812 [00:35<00:10, 18.82it/s]\u001b[A\n",
      "Embedding titles:  75%|███████▌  | 612/812 [00:35<00:10, 18.99it/s]\u001b[A\n",
      "Embedding titles:  76%|███████▌  | 614/812 [00:35<00:10, 18.33it/s]\u001b[A\n",
      "Embedding titles:  76%|███████▌  | 616/812 [00:35<00:10, 18.17it/s]\u001b[A\n",
      "Embedding titles:  76%|███████▌  | 618/812 [00:35<00:10, 18.22it/s]\u001b[A\n",
      "Embedding titles:  76%|███████▋  | 620/812 [00:36<00:10, 17.85it/s]\u001b[A\n",
      "Embedding titles:  77%|███████▋  | 622/812 [00:36<00:10, 17.32it/s]\u001b[A\n",
      "Embedding titles:  77%|███████▋  | 624/812 [00:36<00:10, 17.35it/s]\u001b[A\n",
      "Embedding titles:  77%|███████▋  | 626/812 [00:36<00:11, 16.91it/s]\u001b[A\n",
      "Embedding titles:  77%|███████▋  | 628/812 [00:36<00:10, 16.82it/s]\u001b[A\n",
      "Embedding titles:  78%|███████▊  | 630/812 [00:36<00:10, 16.90it/s]\u001b[A\n",
      "Embedding titles:  78%|███████▊  | 632/812 [00:36<00:10, 17.35it/s]\u001b[A\n",
      "Embedding titles:  78%|███████▊  | 634/812 [00:36<00:10, 17.05it/s]\u001b[A\n",
      "Embedding titles:  78%|███████▊  | 636/812 [00:37<00:10, 17.46it/s]\u001b[A\n",
      "Embedding titles:  79%|███████▊  | 638/812 [00:37<00:10, 16.85it/s]\u001b[A\n",
      "Embedding titles:  79%|███████▉  | 640/812 [00:37<00:10, 16.79it/s]\u001b[A\n",
      "Embedding titles:  79%|███████▉  | 642/812 [00:37<00:09, 17.28it/s]\u001b[A\n",
      "Embedding titles:  79%|███████▉  | 644/812 [00:37<00:09, 17.84it/s]\u001b[A\n",
      "Embedding titles:  80%|███████▉  | 646/812 [00:37<00:09, 18.09it/s]\u001b[A\n",
      "Embedding titles:  80%|███████▉  | 648/812 [00:37<00:09, 17.49it/s]\u001b[A\n",
      "Embedding titles:  80%|████████  | 650/812 [00:37<00:09, 17.98it/s]\u001b[A\n",
      "Embedding titles:  80%|████████  | 652/812 [00:37<00:08, 18.10it/s]\u001b[A\n",
      "Embedding titles:  81%|████████  | 654/812 [00:38<00:09, 17.53it/s]\u001b[A\n",
      "Embedding titles:  81%|████████  | 656/812 [00:38<00:09, 17.12it/s]\u001b[A\n",
      "Embedding titles:  81%|████████  | 658/812 [00:38<00:08, 17.51it/s]\u001b[A\n",
      "Embedding titles:  81%|████████▏ | 660/812 [00:38<00:09, 16.56it/s]\u001b[A\n",
      "Embedding titles:  82%|████████▏ | 662/812 [00:38<00:08, 16.76it/s]\u001b[A\n",
      "Embedding titles:  82%|████████▏ | 664/812 [00:38<00:09, 15.84it/s]\u001b[A\n",
      "Embedding titles:  82%|████████▏ | 666/812 [00:38<00:08, 16.81it/s]\u001b[A\n",
      "Embedding titles:  82%|████████▏ | 668/812 [00:38<00:08, 17.65it/s]\u001b[A\n",
      "Embedding titles:  83%|████████▎ | 670/812 [00:38<00:07, 18.18it/s]\u001b[A\n",
      "Embedding titles:  83%|████████▎ | 672/812 [00:39<00:07, 18.35it/s]\u001b[A\n",
      "Embedding titles:  83%|████████▎ | 674/812 [00:39<00:07, 18.43it/s]\u001b[A\n",
      "Embedding titles:  83%|████████▎ | 676/812 [00:39<00:07, 18.50it/s]\u001b[A\n",
      "Embedding titles:  83%|████████▎ | 678/812 [00:39<00:07, 17.70it/s]\u001b[A\n",
      "Embedding titles:  84%|████████▎ | 680/812 [00:39<00:07, 16.93it/s]\u001b[A\n",
      "Embedding titles:  84%|████████▍ | 682/812 [00:39<00:07, 17.40it/s]\u001b[A\n",
      "Embedding titles:  84%|████████▍ | 684/812 [00:39<00:07, 17.78it/s]\u001b[A\n",
      "Embedding titles:  84%|████████▍ | 686/812 [00:39<00:06, 18.14it/s]\u001b[A\n",
      "Embedding titles:  85%|████████▍ | 688/812 [00:39<00:06, 18.02it/s]\u001b[A\n",
      "Embedding titles:  85%|████████▍ | 690/812 [00:40<00:06, 18.41it/s]\u001b[A\n",
      "Embedding titles:  85%|████████▌ | 692/812 [00:40<00:06, 18.63it/s]\u001b[A\n",
      "Embedding titles:  85%|████████▌ | 694/812 [00:40<00:07, 15.57it/s]\u001b[A\n",
      "Embedding titles:  86%|████████▌ | 696/812 [00:40<00:07, 15.76it/s]\u001b[A\n",
      "Embedding titles:  86%|████████▌ | 698/812 [00:40<00:06, 16.29it/s]\u001b[A\n",
      "Embedding titles:  86%|████████▌ | 700/812 [00:40<00:06, 17.10it/s]\u001b[A\n",
      "Embedding titles:  87%|████████▋ | 703/812 [00:40<00:06, 17.95it/s]\u001b[A\n",
      "Embedding titles:  87%|████████▋ | 705/812 [00:40<00:06, 17.82it/s]\u001b[A\n",
      "Embedding titles:  87%|████████▋ | 707/812 [00:41<00:06, 15.47it/s]\u001b[A\n",
      "Embedding titles:  87%|████████▋ | 710/812 [00:41<00:06, 16.88it/s]\u001b[A\n",
      "Embedding titles:  88%|████████▊ | 712/812 [00:41<00:05, 17.58it/s]\u001b[A\n",
      "Embedding titles:  88%|████████▊ | 715/812 [00:41<00:05, 18.21it/s]\u001b[A\n",
      "Embedding titles:  88%|████████▊ | 717/812 [00:41<00:05, 17.89it/s]\u001b[A\n",
      "Embedding titles:  89%|████████▊ | 719/812 [00:41<00:05, 18.30it/s]\u001b[A\n",
      "Embedding titles:  89%|████████▉ | 721/812 [00:41<00:04, 18.61it/s]\u001b[A\n",
      "Embedding titles:  89%|████████▉ | 723/812 [00:41<00:04, 18.85it/s]\u001b[A\n",
      "Embedding titles:  89%|████████▉ | 725/812 [00:42<00:04, 18.78it/s]\u001b[A\n",
      "Embedding titles:  90%|████████▉ | 727/812 [00:42<00:04, 18.73it/s]\u001b[A\n",
      "Embedding titles:  90%|████████▉ | 729/812 [00:42<00:04, 17.26it/s]\u001b[A\n",
      "Embedding titles:  90%|█████████ | 731/812 [00:42<00:05, 15.84it/s]\u001b[A\n",
      "Embedding titles:  90%|█████████ | 733/812 [00:42<00:04, 16.68it/s]\u001b[A\n",
      "Embedding titles:  91%|█████████ | 735/812 [00:42<00:04, 17.29it/s]\u001b[A\n",
      "Embedding titles:  91%|█████████ | 737/812 [00:42<00:04, 17.31it/s]\u001b[A\n",
      "Embedding titles:  91%|█████████ | 739/812 [00:42<00:04, 15.85it/s]\u001b[A\n",
      "Embedding titles:  91%|█████████▏| 741/812 [00:43<00:04, 16.64it/s]\u001b[A\n",
      "Embedding titles:  92%|█████████▏| 743/812 [00:43<00:03, 17.41it/s]\u001b[A\n",
      "Embedding titles:  92%|█████████▏| 745/812 [00:43<00:03, 17.30it/s]\u001b[A\n",
      "Embedding titles:  92%|█████████▏| 747/812 [00:43<00:03, 16.89it/s]\u001b[A\n",
      "Embedding titles:  92%|█████████▏| 749/812 [00:43<00:03, 17.61it/s]\u001b[A\n",
      "Embedding titles:  92%|█████████▏| 751/812 [00:43<00:03, 17.43it/s]\u001b[A\n",
      "Embedding titles:  93%|█████████▎| 753/812 [00:43<00:03, 16.69it/s]\u001b[A\n",
      "Embedding titles:  93%|█████████▎| 755/812 [00:43<00:03, 17.23it/s]\u001b[A\n",
      "Embedding titles:  93%|█████████▎| 757/812 [00:43<00:03, 17.76it/s]\u001b[A\n",
      "Embedding titles:  93%|█████████▎| 759/812 [00:44<00:03, 14.79it/s]\u001b[A\n",
      "Embedding titles:  94%|█████████▎| 761/812 [00:44<00:03, 15.93it/s]\u001b[A\n",
      "Embedding titles:  94%|█████████▍| 763/812 [00:44<00:03, 15.77it/s]\u001b[A\n",
      "Embedding titles:  94%|█████████▍| 765/812 [00:44<00:02, 16.53it/s]\u001b[A\n",
      "Embedding titles:  94%|█████████▍| 767/812 [00:44<00:02, 16.64it/s]\u001b[A\n",
      "Embedding titles:  95%|█████████▍| 769/812 [00:44<00:02, 16.96it/s]\u001b[A\n",
      "Embedding titles:  95%|█████████▍| 771/812 [00:44<00:02, 17.38it/s]\u001b[A\n",
      "Embedding titles:  95%|█████████▌| 773/812 [00:44<00:02, 17.98it/s]\u001b[A\n",
      "Embedding titles:  95%|█████████▌| 775/812 [00:45<00:02, 18.49it/s]\u001b[A\n",
      "Embedding titles:  96%|█████████▌| 777/812 [00:45<00:01, 18.80it/s]\u001b[A\n",
      "Embedding titles:  96%|█████████▌| 779/812 [00:45<00:01, 18.76it/s]\u001b[A\n",
      "Embedding titles:  96%|█████████▌| 781/812 [00:45<00:01, 18.48it/s]\u001b[A\n",
      "Embedding titles:  96%|█████████▋| 783/812 [00:45<00:01, 18.51it/s]\u001b[A\n",
      "Embedding titles:  97%|█████████▋| 785/812 [00:45<00:01, 18.27it/s]\u001b[A\n",
      "Embedding titles:  97%|█████████▋| 787/812 [00:45<00:01, 18.36it/s]\u001b[A\n",
      "Embedding titles:  97%|█████████▋| 789/812 [00:45<00:01, 17.73it/s]\u001b[A\n",
      "Embedding titles:  97%|█████████▋| 791/812 [00:45<00:01, 17.98it/s]\u001b[A\n",
      "Embedding titles:  98%|█████████▊| 793/812 [00:46<00:01, 18.21it/s]\u001b[A\n",
      "Embedding titles:  98%|█████████▊| 795/812 [00:46<00:00, 18.05it/s]\u001b[A\n",
      "Embedding titles:  98%|█████████▊| 797/812 [00:46<00:00, 17.02it/s]\u001b[A\n",
      "Embedding titles:  98%|█████████▊| 799/812 [00:46<00:00, 17.49it/s]\u001b[A\n",
      "Embedding titles:  99%|█████████▊| 801/812 [00:46<00:00, 17.81it/s]\u001b[A\n",
      "Embedding titles:  99%|█████████▉| 803/812 [00:46<00:00, 17.63it/s]\u001b[A\n",
      "Embedding titles:  99%|█████████▉| 805/812 [00:46<00:00, 16.15it/s]\u001b[A\n",
      "Embedding titles:  99%|█████████▉| 807/812 [00:46<00:00, 16.09it/s]\u001b[A\n",
      "Embedding titles: 100%|█████████▉| 809/812 [00:46<00:00, 17.02it/s]\u001b[A\n",
      "Embedding titles: 100%|██████████| 812/812 [00:47<00:00, 17.23it/s]\u001b[A\n"
     ]
    },
    {
     "name": "stdout",
     "output_type": "stream",
     "text": [
      "Cached 51955 title embeddings to title_embeddings.pkl\n"
     ]
    }
   ],
   "source": [
    "cache_path = \"title_embeddings.pkl\"\n",
    "train_ids = df_train[\"id\"].tolist()\n",
    "if os.path.exists(cache_path):\n",
    "    print(\"Loading cached title embeddings\")\n",
    "    with open(cache_path, \"rb\") as f:\n",
    "        title_emb = pickle.load(f)\n",
    "else:\n",
    "    print(\"Cache not found. Computing title embeddings...\")\n",
    "    tokenizer = AutoTokenizer.from_pretrained(\"allenai/scibert_scivocab_uncased\")\n",
    "    sci_model = AutoModel.from_pretrained(\"allenai/scibert_scivocab_uncased\").to(device)\n",
    "    hid = sci_model.config.hidden_size\n",
    "    title_emb = {}\n",
    "    batch_size = 64\n",
    "    titles = df_train[\"title\"].tolist()\n",
    "    for i in tqdm(range(0, len(titles), batch_size), desc=\"Embedding titles\"):\n",
    "        batch_texts = titles[i : i + batch_size]\n",
    "        toks = tokenizer(\n",
    "            batch_texts,\n",
    "            return_tensors=\"pt\",\n",
    "            padding=True,\n",
    "            truncation=True,\n",
    "            max_length=64,\n",
    "        ).to(device)\n",
    "        with torch.no_grad():\n",
    "            out = sci_model(**toks)\n",
    "        vecs = out.last_hidden_state[:, 0, :].cpu().numpy()\n",
    "        for j, vec in enumerate(vecs):\n",
    "            art_id = train_ids[i + j]\n",
    "            title_emb[art_id] = vec\n",
    "    with open(cache_path, \"wb\") as f:\n",
    "        pickle.dump(title_emb, f)\n",
    "    print(f\"Cached {len(title_emb)} title embeddings to {cache_path}\")"
   ]
  },
  {
   "cell_type": "markdown",
   "metadata": {},
   "source": [
    "### Preparing PyG node features from title embeddings\n",
    "In this step, we prepare the node features for the PyTorch Geometric (PyG) graph. For each author node, we aggregate the SciBERT title embeddings of all papers they have coauthored (from the training set) by averaging them into a single feature vector. This results in a dense node feature matrix, where each row corresponds to an author, and the features capture the semantic content of their published work. These representations will be used as input to the graph neural network."
   ]
  },
  {
   "cell_type": "code",
   "execution_count": 51,
   "metadata": {
    "execution": {
     "iopub.execute_input": "2025-05-10T20:23:21.875208Z",
     "iopub.status.busy": "2025-05-10T20:23:21.874339Z",
     "iopub.status.idle": "2025-05-10T20:23:26.966424Z",
     "shell.execute_reply": "2025-05-10T20:23:26.965777Z",
     "shell.execute_reply.started": "2025-05-10T20:23:21.875168Z"
    },
    "trusted": true
   },
   "outputs": [
    {
     "name": "stderr",
     "output_type": "stream",
     "text": [
      "Processing rows: 100%|██████████| 51955/51955 [00:02<00:00, 24365.72it/s]\n",
      "Averaging node embeddings: 100%|██████████| 135410/135410 [00:02<00:00, 46561.13it/s]\n"
     ]
    }
   ],
   "source": [
    "hid = next(iter(title_emb.values())).shape[0]\n",
    "num_nodes = G.number_of_nodes()\n",
    "\n",
    "node_feats = np.zeros((num_nodes, hid), dtype=float)\n",
    "author_embs = {auth: [] for auth in G.nodes()}\n",
    "for _, row in tqdm(df_train.iterrows(), total=len(df_train), desc=\"Processing rows\"):\n",
    "    vec = title_emb[row[\"id\"]]\n",
    "    for auth in row[\"authors_list\"]:\n",
    "        author_embs[auth].append(vec)\n",
    "for auth, nidx in tqdm(\n",
    "    author2idx.items(), total=len(author2idx), desc=\"Averaging node embeddings\"\n",
    "):\n",
    "    embs = author_embs[auth]\n",
    "    if embs:\n",
    "        node_feats[nidx] = np.mean(embs, axis=0)"
   ]
  },
  {
   "cell_type": "markdown",
   "metadata": {},
   "source": [
    "### Preparing PyG edges and edge features\n",
    "In this step, we construct the edge list and associated features for the coauthorship graph. For each paper in the training set, we identify all unique author pairs (coauthor relationships) and map them to their corresponding node indices. We collect the list of papers associated with each author pair so that later we can compute average title embeddings per edge. The resulting edge list represents undirected coauthorship connections, capturing the collaborative relationships between authors in the graph."
   ]
  },
  {
   "cell_type": "code",
   "execution_count": 52,
   "metadata": {
    "execution": {
     "iopub.execute_input": "2025-05-10T20:23:26.967399Z",
     "iopub.status.busy": "2025-05-10T20:23:26.967188Z",
     "iopub.status.idle": "2025-05-10T20:23:44.512364Z",
     "shell.execute_reply": "2025-05-10T20:23:44.511756Z",
     "shell.execute_reply.started": "2025-05-10T20:23:26.967382Z"
    },
    "trusted": true
   },
   "outputs": [
    {
     "name": "stderr",
     "output_type": "stream",
     "text": [
      "Processing rows: 100%|██████████| 51955/51955 [00:05<00:00, 9882.22it/s] \n",
      "Computing edge title features: 100%|██████████| 509193/509193 [00:09<00:00, 52676.19it/s]\n"
     ]
    }
   ],
   "source": [
    "edges = []\n",
    "edge_papers = {}\n",
    "for _, row in tqdm(df_train.iterrows(), total=len(df_train), desc=\"Processing rows\"):\n",
    "    aid = row[\"id\"]\n",
    "    for i in range(len(row[\"authors_list\"])):\n",
    "        for j in range(i + 1, len(row[\"authors_list\"])):\n",
    "            u, v = row[\"authors_list\"][i], row[\"authors_list\"][j]\n",
    "            ui, vi = author2idx[u], author2idx[v]\n",
    "            if ui > vi:\n",
    "                ui, vi = vi, ui\n",
    "            edges.append((ui, vi))\n",
    "            edge_papers.setdefault((ui, vi), []).append(aid)\n",
    "edges = list(set(edges))\n",
    "edge_tit = []\n",
    "for ui, vi in tqdm(edges, desc=\"Computing edge title features\"):\n",
    "    ids = edge_papers[(ui, vi)]\n",
    "    vs = [title_emb[i] for i in ids]\n",
    "    edge_tit.append(np.mean(vs, axis=0))\n",
    "edge_tit = np.vstack(edge_tit)"
   ]
  },
  {
   "cell_type": "markdown",
   "metadata": {},
   "source": [
    "### Assembling PyG Data object"
   ]
  },
  {
   "cell_type": "code",
   "execution_count": 53,
   "metadata": {
    "execution": {
     "iopub.execute_input": "2025-05-10T20:23:44.534530Z",
     "iopub.status.busy": "2025-05-10T20:23:44.534258Z",
     "iopub.status.idle": "2025-05-10T20:23:51.184194Z",
     "shell.execute_reply": "2025-05-10T20:23:51.183553Z",
     "shell.execute_reply.started": "2025-05-10T20:23:44.534509Z"
    },
    "trusted": true
   },
   "outputs": [
    {
     "name": "stdout",
     "output_type": "stream",
     "text": [
      "Data(x=[135410, 768], edge_index=[2, 1018386], edge_attr_title=[1018386, 768])\n"
     ]
    }
   ],
   "source": [
    "to_index = torch.tensor(edges, dtype=torch.long).t().contiguous()\n",
    "edge_index = torch.cat([to_index, to_index.flip(0)], dim=1)\n",
    "edge_attr_title = torch.tensor(np.vstack([edge_tit, edge_tit]), dtype=torch.float)\n",
    "\n",
    "data = Data(\n",
    "    x=torch.tensor(node_feats, dtype=torch.float).to(device),\n",
    "    edge_index=edge_index.to(device),\n",
    "    edge_attr_title=edge_attr_title.to(device),\n",
    ")\n",
    "print(data)"
   ]
  },
  {
   "cell_type": "markdown",
   "metadata": {},
   "source": [
    "### Preparing positive edges for train, validation, and test\n",
    "We create positive author pairs (coauthorships) for each split:\n",
    "- Train: all known pairs from training data\n",
    "- Validation: only pairs among train authors, from next-year papers\n",
    "- Test: only pairs among train + val authors, from later papers"
   ]
  },
  {
   "cell_type": "code",
   "execution_count": 54,
   "metadata": {
    "execution": {
     "iopub.execute_input": "2025-05-10T20:23:51.185253Z",
     "iopub.status.busy": "2025-05-10T20:23:51.184965Z",
     "iopub.status.idle": "2025-05-10T20:23:53.163487Z",
     "shell.execute_reply": "2025-05-10T20:23:53.162737Z",
     "shell.execute_reply.started": "2025-05-10T20:23:51.185225Z"
    },
    "trusted": true
   },
   "outputs": [
    {
     "name": "stderr",
     "output_type": "stream",
     "text": [
      "Val positives: 100%|██████████| 19177/19177 [00:00<00:00, 21713.14it/s]\n",
      "Test positives: 100%|██████████| 17369/17369 [00:00<00:00, 22911.05it/s]\n"
     ]
    }
   ],
   "source": [
    "train_edges = edges\n",
    "train_pos = torch.tensor(train_edges, dtype=torch.long).t().to(device)\n",
    "train_authors = set(author2idx.keys())\n",
    "\n",
    "val_pairs = []\n",
    "for _, row in tqdm(df_val.iterrows(), total=len(df_val), desc=\"Val positives\"):\n",
    "    auths = [a for a in row[\"authors_list\"] if a in train_authors]\n",
    "    for i in range(len(auths)):\n",
    "        for j in range(i + 1, len(auths)):\n",
    "            ui, vi = author2idx[auths[i]], author2idx[auths[j]]\n",
    "            if ui > vi:\n",
    "                ui, vi = vi, ui\n",
    "            val_pairs.append((ui, vi))\n",
    "val_pos = torch.tensor(list(set(val_pairs)), dtype=torch.long).view(2, -1).to(device)\n",
    "\n",
    "val_authors = {a for lst in df_val[\"authors_list\"] for a in lst} & train_authors\n",
    "test_authors = train_authors | val_authors\n",
    "test_pairs = []\n",
    "for _, row in tqdm(df_test.iterrows(), total=len(df_test), desc=\"Test positives\"):\n",
    "    auths = [a for a in row[\"authors_list\"] if a in test_authors]\n",
    "    for i in range(len(auths)):\n",
    "        for j in range(i + 1, len(auths)):\n",
    "            ui, vi = author2idx[auths[i]], author2idx[auths[j]]\n",
    "            if ui > vi:\n",
    "                ui, vi = vi, ui\n",
    "            test_pairs.append((ui, vi))\n",
    "test_pos = torch.tensor(list(set(test_pairs)), dtype=torch.long).view(2, -1).to(device)"
   ]
  },
  {
   "cell_type": "markdown",
   "metadata": {},
   "source": [
    "### Building undirected graph and sampling negative pairs\n",
    "We make the edge index undirected (for message passing)\n",
    "and sample random negative pairs for each split, without forbidden edge checks\n"
   ]
  },
  {
   "cell_type": "code",
   "execution_count": 55,
   "metadata": {
    "execution": {
     "iopub.execute_input": "2025-05-10T20:23:53.164627Z",
     "iopub.status.busy": "2025-05-10T20:23:53.164385Z",
     "iopub.status.idle": "2025-05-10T20:23:55.277169Z",
     "shell.execute_reply": "2025-05-10T20:23:55.276549Z",
     "shell.execute_reply.started": "2025-05-10T20:23:53.164610Z"
    },
    "trusted": true
   },
   "outputs": [],
   "source": [
    "train_ei = torch.cat([train_pos, train_pos.flip(0)], dim=1)\n",
    "\n",
    "def sample_negatives(authors, k):\n",
    "    negs = set()\n",
    "    authors = list(authors)\n",
    "    while len(negs) < k:\n",
    "        u, v = sample(authors, 2)\n",
    "        ui, vi = author2idx[u], author2idx[v]\n",
    "        if ui > vi:\n",
    "            ui, vi = vi, ui\n",
    "        negs.add((ui, vi))\n",
    "    return torch.tensor(list(negs), dtype=torch.long).t().to(device)\n",
    "\n",
    "\n",
    "n_train = train_pos.size(1)\n",
    "n_val = val_pos.size(1)\n",
    "n_test = test_pos.size(1)\n",
    "\n",
    "train_neg = sample_negatives(train_authors, n_train)\n",
    "val_neg = sample_negatives(train_authors, n_val)\n",
    "test_neg = sample_negatives(test_authors, n_test)"
   ]
  },
  {
   "cell_type": "markdown",
   "metadata": {},
   "source": [
    "### Attaching splits to PyG Data object\n",
    "We attach all positive and negative edge indices to the Data object for model training and evaluation"
   ]
  },
  {
   "cell_type": "code",
   "execution_count": 56,
   "metadata": {
    "execution": {
     "iopub.execute_input": "2025-05-10T20:23:55.278378Z",
     "iopub.status.busy": "2025-05-10T20:23:55.278182Z",
     "iopub.status.idle": "2025-05-10T20:23:55.283302Z",
     "shell.execute_reply": "2025-05-10T20:23:55.282635Z",
     "shell.execute_reply.started": "2025-05-10T20:23:55.278362Z"
    },
    "trusted": true
   },
   "outputs": [
    {
     "name": "stdout",
     "output_type": "stream",
     "text": [
      "Splits sizes → train: 509193, val: 84291, test: 66332\n"
     ]
    }
   ],
   "source": [
    "data.train_edge_index = train_ei\n",
    "data.train_pos_edge_index = train_pos\n",
    "data.train_neg_edge_index = train_neg\n",
    "data.val_pos_edge_index = val_pos\n",
    "data.val_neg_edge_index = val_neg\n",
    "data.test_pos_edge_index = test_pos\n",
    "data.test_neg_edge_index = test_neg\n",
    "\n",
    "print(f\"Splits sizes → train: {n_train}, val: {n_val}, test: {n_test}\")"
   ]
  },
  {
   "cell_type": "markdown",
   "metadata": {},
   "source": [
    "### Defining the GraphSAGE-based link prediction model\n",
    "This model uses multiple SAGEConv layers to encode node features,\n",
    "then combines the embeddings of node pairs and edge attributes (like title embeddings)\n",
    "through an MLP to predict the likelihood of a link between nodes."
   ]
  },
  {
   "cell_type": "code",
   "execution_count": 57,
   "metadata": {
    "execution": {
     "iopub.execute_input": "2025-05-10T20:23:55.284436Z",
     "iopub.status.busy": "2025-05-10T20:23:55.284103Z",
     "iopub.status.idle": "2025-05-10T20:23:55.305326Z",
     "shell.execute_reply": "2025-05-10T20:23:55.304685Z",
     "shell.execute_reply.started": "2025-05-10T20:23:55.284412Z"
    },
    "trusted": true
   },
   "outputs": [],
   "source": [
    "class GraphSAGE_LinkPredictor(nn.Module):\n",
    "    def __init__(self, in_ch, hid_ch, layers, dp):\n",
    "        super().__init__()\n",
    "        self.convs = nn.ModuleList(\n",
    "            [SAGEConv(in_ch, hid_ch)]\n",
    "            + [SAGEConv(hid_ch, hid_ch) for _ in range(layers - 1)]\n",
    "        )\n",
    "        self.dp = dp\n",
    "        feat_dim = (\n",
    "            hid_ch * 2 + in_ch\n",
    "        )  # combined feature dimension: node_u, node_v, edge_attr\n",
    "        self.mlp = nn.Sequential(\n",
    "            nn.Linear(feat_dim, hid_ch), nn.ReLU(), nn.Linear(hid_ch, 1)\n",
    "        )\n",
    "\n",
    "    def encode(self, x, ei):\n",
    "        for c in self.convs:\n",
    "            x = F.relu(c(x, ei))\n",
    "            x = F.dropout(x, p=self.dp, training=self.training)\n",
    "        return x\n",
    "\n",
    "    def decode(self, z, ep, ea):\n",
    "        u, v = ep\n",
    "        h = torch.cat([z[u], z[v], ea], dim=1)\n",
    "        return self.mlp(h).squeeze()\n",
    "\n",
    "    def forward(self, x, ei, ep, ea):\n",
    "        return self.decode(self.encode(x, ei), ep, ea)\n"
   ]
  },
  {
   "cell_type": "markdown",
   "metadata": {},
   "source": [
    "### Training and evaluation functions\n",
    "- train_ep: runs one training epoch by computing positive and negative link losses\n",
    "- eval_auc: evaluates the model by computing ROC-AUC on the specified split (train/val/test)"
   ]
  },
  {
   "cell_type": "code",
   "execution_count": 58,
   "metadata": {
    "execution": {
     "iopub.execute_input": "2025-05-10T20:23:55.306327Z",
     "iopub.status.busy": "2025-05-10T20:23:55.306044Z",
     "iopub.status.idle": "2025-05-10T20:23:55.324422Z",
     "shell.execute_reply": "2025-05-10T20:23:55.323563Z",
     "shell.execute_reply.started": "2025-05-10T20:23:55.306299Z"
    },
    "trusted": true
   },
   "outputs": [],
   "source": [
    "def train_ep(m, opt):\n",
    "    m.train()\n",
    "    opt.zero_grad()\n",
    "    p = data.train_pos_edge_index.size(1)\n",
    "    pos = m(\n",
    "        data.x,\n",
    "        data.train_edge_index,\n",
    "        data.train_pos_edge_index,\n",
    "        data.edge_attr_title[:p],\n",
    "    )\n",
    "    neg = m(\n",
    "        data.x,\n",
    "        data.train_edge_index,\n",
    "        data.train_neg_edge_index,\n",
    "        data.edge_attr_title[p : p + data.train_neg_edge_index.size(1)],\n",
    "    )\n",
    "    loss = F.binary_cross_entropy_with_logits(\n",
    "        pos, torch.ones_like(pos)\n",
    "    ) + F.binary_cross_entropy_with_logits(neg, torch.zeros_like(neg))\n",
    "    loss.backward()\n",
    "    opt.step()\n",
    "    return loss.item()\n",
    "\n",
    "\n",
    "@torch.no_grad()\n",
    "def eval_auc(m, split):\n",
    "    m.eval()\n",
    "    pos = getattr(data, f\"{split}_pos_edge_index\")\n",
    "    neg = getattr(data, f\"{split}_neg_edge_index\")\n",
    "    p, n = pos.size(1), neg.size(1)\n",
    "    ps = m(data.x, data.train_edge_index, pos, data.edge_attr_title[:p])\n",
    "    ns = m(data.x, data.train_edge_index, neg, data.edge_attr_title[p : p + n])\n",
    "    y = np.concatenate([np.ones(p), np.zeros(n)])\n",
    "    sc = torch.cat([ps, ns]).cpu().numpy()\n",
    "    return roc_auc_score(y, sc)\n"
   ]
  },
  {
   "cell_type": "markdown",
   "metadata": {},
   "source": [
    "### Hyperparameter tuning loop\n",
    "We search over hidden size, number of layers, dropout, and learning rate,\n",
    "training each configuration for 20 epochs and selecting the one with the best validation ROC-AUC."
   ]
  },
  {
   "cell_type": "code",
   "execution_count": 59,
   "metadata": {
    "execution": {
     "iopub.execute_input": "2025-05-10T20:23:55.325399Z",
     "iopub.status.busy": "2025-05-10T20:23:55.325176Z",
     "iopub.status.idle": "2025-05-10T20:28:11.053777Z",
     "shell.execute_reply": "2025-05-10T20:28:11.052858Z",
     "shell.execute_reply.started": "2025-05-10T20:23:55.325382Z"
    },
    "trusted": true
   },
   "outputs": [
    {
     "name": "stdout",
     "output_type": "stream",
     "text": [
      "64,2,0,0.001→0.6888\n",
      "64,2,0,0.0005→0.6968\n",
      "64,2,0.3,0.001→0.6734\n",
      "64,2,0.3,0.0005→0.7019\n",
      "64,2,0.5,0.001→0.6768\n",
      "64,2,0.5,0.0005→0.7005\n",
      "64,3,0,0.001→0.6930\n",
      "64,3,0,0.0005→0.7088\n",
      "64,3,0.3,0.001→0.7026\n",
      "64,3,0.3,0.0005→0.7193\n",
      "64,3,0.5,0.001→0.6732\n",
      "64,3,0.5,0.0005→0.7013\n",
      "128,2,0,0.001→0.6515\n",
      "128,2,0,0.0005→0.6998\n",
      "128,2,0.3,0.001→0.6775\n",
      "128,2,0.3,0.0005→0.6875\n",
      "128,2,0.5,0.001→0.6678\n",
      "128,2,0.5,0.0005→0.6848\n",
      "128,3,0,0.001→0.7035\n",
      "128,3,0,0.0005→0.7072\n",
      "128,3,0.3,0.001→0.7057\n",
      "128,3,0.3,0.0005→0.6961\n",
      "128,3,0.5,0.001→0.6988\n",
      "128,3,0.5,0.0005→0.7045\n",
      "Best Val AUC (0.7193311780307463, (64, 3, 0.3, 0.0005))\n"
     ]
    }
   ],
   "source": [
    "params = {\n",
    "    \"hidden_channels\": [64, 128],\n",
    "    \"num_layers\": [2, 3],\n",
    "    \"dropout\": [0, 0.3, 0.5],\n",
    "    \"lr\": [1e-3, 5e-4],\n",
    "}\n",
    "best = (0, None)\n",
    "epochs = 30\n",
    "for hc in params[\"hidden_channels\"]:\n",
    "    for nl in params[\"num_layers\"]:\n",
    "        for dp in params[\"dropout\"]:\n",
    "            for lr in params[\"lr\"]:\n",
    "                m = GraphSAGE_LinkPredictor(hid, hc, nl, dp).to(device)\n",
    "                opt = torch.optim.Adam(m.parameters(), lr=lr)\n",
    "                for _ in range(epochs):\n",
    "                    train_ep(m, opt)\n",
    "                a = eval_auc(m, \"val\")\n",
    "                print(f\"{hc},{nl},{dp},{lr}→{a:.4f}\")\n",
    "                if a > best[0]:\n",
    "                    best = (a, (hc, nl, dp, lr))\n",
    "print(\"Best Val AUC\", best)"
   ]
  },
  {
   "cell_type": "markdown",
   "metadata": {},
   "source": [
    "### Final model training on the best hyperparameters\n",
    "We retrain the model for 20 epochs using the best found configuration, then evaluate its ROC-AUC on the test set."
   ]
  },
  {
   "cell_type": "code",
   "execution_count": 60,
   "metadata": {
    "execution": {
     "iopub.execute_input": "2025-05-10T20:28:11.055205Z",
     "iopub.status.busy": "2025-05-10T20:28:11.054798Z",
     "iopub.status.idle": "2025-05-10T20:28:20.491666Z",
     "shell.execute_reply": "2025-05-10T20:28:20.490973Z",
     "shell.execute_reply.started": "2025-05-10T20:28:11.055176Z"
    },
    "trusted": true
   },
   "outputs": [
    {
     "name": "stdout",
     "output_type": "stream",
     "text": [
      "Test ROC-AUC: 0.6945483252524186\n"
     ]
    }
   ],
   "source": [
    "hc, nl, dp, lr = best[1]\n",
    "m = GraphSAGE_LinkPredictor(hid, hc, nl, dp).to(device)\n",
    "opt = torch.optim.Adam(m.parameters(), lr=lr)\n",
    "for _ in range(epochs):\n",
    "    train_ep(m, opt)\n",
    "print(\"Test ROC-AUC:\", eval_auc(m, \"test\"))"
   ]
  },
  {
   "cell_type": "markdown",
   "metadata": {},
   "source": [
    "### Compute MRR on test set\n",
    "This function calculates the ranking quality of the model's top-K recommendations by measuring where the true positive appears among K candidates."
   ]
  },
  {
   "cell_type": "code",
   "execution_count": 61,
   "metadata": {
    "execution": {
     "iopub.execute_input": "2025-05-10T20:28:20.492670Z",
     "iopub.status.busy": "2025-05-10T20:28:20.492441Z",
     "iopub.status.idle": "2025-05-10T20:28:49.413949Z",
     "shell.execute_reply": "2025-05-10T20:28:49.413163Z",
     "shell.execute_reply.started": "2025-05-10T20:28:20.492644Z"
    },
    "trusted": true
   },
   "outputs": [
    {
     "name": "stdout",
     "output_type": "stream",
     "text": [
      "MRR: 0.2602\n"
     ]
    }
   ],
   "source": [
    "@torch.no_grad()\n",
    "def compute_mrr(z, pos, neg, K=10):\n",
    "    total_reciprocal_rank = 0.0\n",
    "    P = pos.size(1)\n",
    "\n",
    "    for i in range(P):\n",
    "        u = pos[0, i].item()\n",
    "        v = pos[1, i].item()\n",
    "        cand = neg[1][neg[0] == u]\n",
    "        if cand.size(0) >= K - 1:\n",
    "            negs = cand[: K - 1]\n",
    "        else:\n",
    "            negs = torch.randint(0, num_nodes, (K - 1,), device=device)\n",
    "\n",
    "        src = torch.full((K,), u, dtype=torch.long, device=device)\n",
    "        dst = torch.cat([torch.tensor([v], device=device), negs])\n",
    "        scores = (z[src] * z[dst]).sum(dim=1)\n",
    "\n",
    "        _, ranking = torch.sort(scores, descending=True)\n",
    "        rank = (ranking == 0).nonzero(as_tuple=False).item() + 1\n",
    "\n",
    "        total_reciprocal_rank += 1.0 / rank\n",
    "\n",
    "    return total_reciprocal_rank / P\n",
    "\n",
    "\n",
    "with torch.no_grad():\n",
    "    z = m.encode(data.x, data.train_edge_index)\n",
    "\n",
    "mrr = compute_mrr(z, data.test_pos_edge_index, data.test_neg_edge_index, K=10)\n",
    "print(f\"MRR: {mrr:.4f}\")"
   ]
  },
  {
   "cell_type": "markdown",
   "metadata": {},
   "source": [
    "### Saving and loading the trained model\n",
    "We save the model’s state_dict to a file and reload it into a fresh model instance for inference."
   ]
  },
  {
   "cell_type": "code",
   "execution_count": 62,
   "metadata": {
    "execution": {
     "iopub.execute_input": "2025-05-10T20:28:49.415226Z",
     "iopub.status.busy": "2025-05-10T20:28:49.414840Z",
     "iopub.status.idle": "2025-05-10T20:28:49.459619Z",
     "shell.execute_reply": "2025-05-10T20:28:49.459054Z",
     "shell.execute_reply.started": "2025-05-10T20:28:49.415202Z"
    },
    "trusted": true
   },
   "outputs": [
    {
     "name": "stdout",
     "output_type": "stream",
     "text": [
      "Model state_dict saved to: gnn_link_predictor.pth\n",
      "\n",
      "First 5 authors (unordered list):\n",
      "['Croll Grenville J.', 'Butler Raymond J.', 'Grossman Thomas A.', 'Price D.', 'Weber Brandon']\n"
     ]
    },
    {
     "data": {
      "text/plain": [
       "GraphSAGE_LinkPredictor(\n",
       "  (convs): ModuleList(\n",
       "    (0): SAGEConv(768, 64, aggr=mean)\n",
       "    (1-2): 2 x SAGEConv(64, 64, aggr=mean)\n",
       "  )\n",
       "  (mlp): Sequential(\n",
       "    (0): Linear(in_features=896, out_features=64, bias=True)\n",
       "    (1): ReLU()\n",
       "    (2): Linear(in_features=64, out_features=1, bias=True)\n",
       "  )\n",
       ")"
      ]
     },
     "execution_count": 62,
     "metadata": {},
     "output_type": "execute_result"
    }
   ],
   "source": [
    "model_path = \"gnn_link_predictor.pth\"\n",
    "torch.save(m.state_dict(), model_path)\n",
    "print(\"Model state_dict saved to:\", model_path)\n",
    "\n",
    "idx2author = {idx: author for author, idx in author2idx.items()}\n",
    "author_list = list(author2idx.keys())\n",
    "print(\"\\nFirst 5 authors (unordered list):\")\n",
    "print(author_list[:5])\n",
    "\n",
    "loaded_model = GraphSAGE_LinkPredictor(in_ch=hid, hid_ch=hc, layers=nl, dp=dp).to(device)\n",
    "loaded_model.load_state_dict(torch.load(model_path, map_location=device, weights_only=True))\n",
    "loaded_model.eval()"
   ]
  },
  {
   "cell_type": "markdown",
   "metadata": {},
   "source": [
    "### Defining recommendation function\n",
    "Given an author, we rank all other authors by predicted coauthorship likelihood (logits) using the trained GraphSAGE model."
   ]
  },
  {
   "cell_type": "code",
   "execution_count": 63,
   "metadata": {
    "execution": {
     "iopub.execute_input": "2025-05-10T20:28:49.460512Z",
     "iopub.status.busy": "2025-05-10T20:28:49.460294Z",
     "iopub.status.idle": "2025-05-10T20:28:49.466482Z",
     "shell.execute_reply": "2025-05-10T20:28:49.465850Z",
     "shell.execute_reply.started": "2025-05-10T20:28:49.460490Z"
    },
    "trusted": true
   },
   "outputs": [],
   "source": [
    "def recommend_for_author(author_name, topk=10):\n",
    "    u = author2idx[author_name]\n",
    "    with torch.no_grad():\n",
    "        z = loaded_model.encode(data.x, data.edge_index)  # [N, hid]\n",
    "    # candidates\n",
    "    all_vs = torch.arange(z.size(0), device=device)\n",
    "    cand_vs = all_vs[all_vs != u]  # [N-1]\n",
    "    # synthetic edge features\n",
    "    src = u * torch.ones_like(cand_vs)\n",
    "    edge_pairs = torch.stack([src, cand_vs], dim=0)      # [2, N-1]\n",
    "    ea = 0.5 * (data.x[u].unsqueeze(0) + data.x[cand_vs])  # [N-1, hid]\n",
    "    # score \n",
    "    with torch.no_grad():\n",
    "        logits = loaded_model.decode(z, edge_pairs, ea)  # [N-1]\n",
    "    # pick top-k\n",
    "    top_logits, top_idx = torch.topk(logits, min(topk, logits.size(0)))\n",
    "    top_vs = cand_vs[top_idx]\n",
    "    # build recommendations\n",
    "    recs = [(idx2author[int(v)], float(s)) for v, s in zip(top_vs, top_logits)]\n",
    "    return recs"
   ]
  },
  {
   "cell_type": "markdown",
   "metadata": {},
   "source": [
    "### Save for inference"
   ]
  },
  {
   "cell_type": "code",
   "execution_count": 67,
   "metadata": {
    "execution": {
     "iopub.execute_input": "2025-05-10T20:53:56.666236Z",
     "iopub.status.busy": "2025-05-10T20:53:56.665533Z",
     "iopub.status.idle": "2025-05-10T20:53:57.985304Z",
     "shell.execute_reply": "2025-05-10T20:53:57.984518Z",
     "shell.execute_reply.started": "2025-05-10T20:53:56.666211Z"
    },
    "trusted": true
   },
   "outputs": [
    {
     "name": "stdout",
     "output_type": "stream",
     "text": [
      "Saved model weights → gnn_link_predictor.pth\n",
      "Saved author mappings → author_mappings.pkl\n",
      "Saved node features → node_features.pt\n",
      "Saved edge index → edge_index.pt\n"
     ]
    }
   ],
   "source": [
    "m_cpu = m.to(\"cpu\")\n",
    "torch.save(m_cpu.state_dict(), \"gnn_link_predictor.pth\")\n",
    "print(\"Saved model weights → gnn_link_predictor.pth\")\n",
    "\n",
    "with open(\"author_mappings.pkl\", \"wb\") as f:\n",
    "    pickle.dump({\"author2idx\": author2idx, \"idx2author\": idx2author}, f)\n",
    "print(\"Saved author mappings → author_mappings.pkl\")\n",
    "\n",
    "torch.save(data.x, \"node_features.pt\")\n",
    "print(\"Saved node features → node_features.pt\")\n",
    "\n",
    "torch.save(data.edge_index, \"edge_index.pt\")\n",
    "print(\"Saved edge index → edge_index.pt\")"
   ]
  }
 ],
 "metadata": {
  "kaggle": {
   "accelerator": "gpu",
   "dataSources": [
    {
     "datasetId": 612177,
     "sourceId": 11666150,
     "sourceType": "datasetVersion"
    }
   ],
   "dockerImageVersionId": 31011,
   "isGpuEnabled": true,
   "isInternetEnabled": true,
   "language": "python",
   "sourceType": "notebook"
  },
  "kernelspec": {
   "display_name": "Python 3",
   "language": "python",
   "name": "python3"
  },
  "language_info": {
   "codemirror_mode": {
    "name": "ipython",
    "version": 3
   },
   "file_extension": ".py",
   "mimetype": "text/x-python",
   "name": "python",
   "nbconvert_exporter": "python",
   "pygments_lexer": "ipython3",
   "version": "3.11.11"
  }
 },
 "nbformat": 4,
 "nbformat_minor": 4
}
